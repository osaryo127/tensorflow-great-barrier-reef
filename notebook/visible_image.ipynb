{
 "cells": [
  {
   "cell_type": "markdown",
   "id": "02ab6f3c-fb28-418f-98df-e3e65324f0d2",
   "metadata": {},
   "source": [
    "# データの読み込み,可視化 と Augmentationの実行"
   ]
  },
  {
   "cell_type": "code",
   "execution_count": null,
   "id": "b7f71c91-56b9-4e8f-813d-2373f4ebbf0f",
   "metadata": {},
   "outputs": [],
   "source": [
    "import os\n",
    "import pandas as pd\n",
    "import numpy as np\n",
    "import matplotlib as mpl\n",
    "import matplotlib.pylab as plt\n",
    "import cv2\n",
    "from PIL import Image"
   ]
  },
  {
   "cell_type": "code",
   "execution_count": null,
   "id": "4b815f15-4200-44b4-b5ff-7f2c3e1f7180",
   "metadata": {},
   "outputs": [],
   "source": [
    "# 自作クラスの読み込み\n",
    "import sys\n",
    "sys.path.append('../src/preprocess')\n",
    "sys.path.append('../src/dataset')\n",
    "from augmentation import ObjectDetectionAugmentation\n",
    "from dataset import Dataset"
   ]
  },
  {
   "cell_type": "markdown",
   "id": "cce904bd-e07c-4a95-84fd-03efcebbfac1",
   "metadata": {},
   "source": [
    "- yamlファイルからconfigの読み込み"
   ]
  },
  {
   "cell_type": "code",
   "execution_count": null,
   "id": "c56d49d9-e625-43d6-8d08-f5acf4200271",
   "metadata": {},
   "outputs": [],
   "source": [
    "import yaml\n",
    "with open('../config/config_train.yml', 'r') as f:\n",
    "    config = yaml.load(f, Loader=yaml.SafeLoader)"
   ]
  },
  {
   "cell_type": "markdown",
   "id": "e9d74490-622f-4bb8-b416-43f8e771e33d",
   "metadata": {},
   "source": [
    "- train, test csvの読み込み"
   ]
  },
  {
   "cell_type": "code",
   "execution_count": null,
   "id": "301cadd5-b5d0-46c3-9db5-04c186042704",
   "metadata": {},
   "outputs": [],
   "source": [
    "root_dir  = '../input/tensorflow-great-barrier-reef'\n",
    "train_path = f'{root_dir}/train.csv'\n",
    "test_path = f'{root_dir}/test.csv'\n",
    "\n",
    "def get_img_path(df):\n",
    "    df['image_path'] = f'{root_dir}/train_images/video_{df.video_id}/{df.video_frame}.jpg'\n",
    "    return df\n",
    "\n",
    "def get_annotes(df):\n",
    "    df['dict_annotations'] = df['annotations'].apply(lambda x: eval(x)) # annotationsが文字列として入っているため、eval()\n",
    "    df['list_annotations'] = df['dict_annotations'].apply(lambda x: [list(annote.values()) for annote in x]) # リスト型式にcast\n",
    "    df['n_annotations'] = df['dict_annotations'].apply(len)\n",
    "    return df\n",
    "\n",
    "def read_train(train_path):\n",
    "    train = pd.read_csv(train_path)\n",
    "    train = get_annotes(train)\n",
    "    train = get_img_path(train)\n",
    "    return train"
   ]
  },
  {
   "cell_type": "code",
   "execution_count": null,
   "id": "7091051e-b38d-4253-8d88-9958b69cdcae",
   "metadata": {},
   "outputs": [],
   "source": [
    "train = read_train(train_path)"
   ]
  },
  {
   "cell_type": "markdown",
   "id": "0b5f8fcf-1fc6-4eb6-bb10-b5d6aed1c57e",
   "metadata": {},
   "source": [
    "- Kaggleのページ上でディスプレイされている画像の中でヒトデが多い画像を探す"
   ]
  },
  {
   "cell_type": "code",
   "execution_count": null,
   "id": "1b27ac83-48c9-4399-a480-de337d006ade",
   "metadata": {},
   "outputs": [],
   "source": [
    "max_annots = 0\n",
    "max_id = \"\" \n",
    "video_id = 0\n",
    "for video_frame in range(1001, 1020):\n",
    "    image_id = f'{video_id}-{video_frame}'\n",
    "    len_annots = train[train['image_id']==image_id]['n_annotations'].item()\n",
    "    if len_annots > max_annots:\n",
    "        max_annots = len_annots\n",
    "        max_id = image_id\n",
    "\n",
    "print(max_id)\n",
    "print(max_annots)"
   ]
  },
  {
   "cell_type": "markdown",
   "id": "edfad981-cf80-4140-9674-10136730710e",
   "metadata": {},
   "source": []
  },
  {
   "cell_type": "markdown",
   "id": "31f46b07-79d8-44cf-b02e-08008caf74e3",
   "metadata": {},
   "source": [
    "#  サンプルデータ読み込み\n",
    "- 可視化参考元\n",
    "https://www.kaggle.com/remekkinas/yolox-training-pipeline-cots-dataset-lb-0-507\n",
    "- image_id: 0-1001, 1-10001"
   ]
  },
  {
   "cell_type": "code",
   "execution_count": null,
   "id": "c8617a67-d5a7-45b9-a114-b5a31f584bac",
   "metadata": {},
   "outputs": [],
   "source": [
    "# 全データ存在する場合\n",
    "image_paths = []\n",
    "# sample_bboxes = []\n",
    "# max_frame0 = \n",
    "# max_frame1 = \n",
    "# max_frame2 = \n",
    "# max_frame3 = \n",
    "# for video_id, frame_list in enumerate([range(max_frame0 + 1), range(max_frame1 + 1), range(max_frame2 + 1)), range(max_frame3 + 1))]):\n",
    "#     video += 1\n",
    "#     for video_frame in flame_list:\n",
    "#         _img_path = f'../input/tensorflow-great-barrier-reef/train_images/video_{video_id}/{video_frame}.jpg'\n",
    "#         _bboxes = train[train['image_id']==f'{video_id}-{video_frame}']['list_annotations'].item()\n",
    "#         image_paths.append(_image_path)\n",
    "#         sample_bboxes.append(_bboxes)"
   ]
  },
  {
   "cell_type": "code",
   "execution_count": null,
   "id": "e0774f06-b8d1-4cac-b36f-1d989d2c6f3f",
   "metadata": {},
   "outputs": [],
   "source": [
    "# 二枚の画像でsample\n",
    "# 全データを読み込む場合image_pathsを書き換える\n",
    "image1_path = '../input/tensorflow-great-barrier-reef/train_images/video_0/1001.jpg'\n",
    "image2_path = '../input/tensorflow-great-barrier-reef/train_images/video_1/10001.jpg'\n",
    "\n",
    "image_paths = [image1_path, image2_path]\n",
    "\n",
    "# sample_bboxesをimage_pathsに対応するimage_idにする\n",
    "sample_ids = ['0-1001', '1-10001']\n",
    "sample_bboxes = []\n",
    "for sample_id in sample_ids:\n",
    "    _bboxes = train[train['image_id']==sample_id]['list_annotations'].item()\n",
    "    sample_bboxes.append(_bboxes)"
   ]
  },
  {
   "cell_type": "markdown",
   "id": "7a0f8bc3-30b4-4977-beed-08521986df45",
   "metadata": {},
   "source": [
    "- Augmentationをしない場合"
   ]
  },
  {
   "cell_type": "code",
   "execution_count": null,
   "id": "0985c231-eeee-4ae8-a5dd-469a873e9bf3",
   "metadata": {},
   "outputs": [],
   "source": [
    "dataset = Dataset(file_paths=image_paths, bboxes=sample_bboxes)"
   ]
  },
  {
   "cell_type": "markdown",
   "id": "3f3b897c-d70d-406e-9cf3-fd24d2331c5c",
   "metadata": {},
   "source": [
    "- Augmentation をする場合"
   ]
  },
  {
   "cell_type": "code",
   "execution_count": null,
   "id": "60729e47-a0f7-45f4-b5bb-0a8f49b1f55f",
   "metadata": {},
   "outputs": [],
   "source": [
    "# # augmentationを考慮したdataset\n",
    "# transformer = ObjectDetectionAugmentation(config['transforms_args'])\n",
    "# dataset = Dataset(file_paths=[image1_path, image2_path], bboxes=sample_bboxes, transform=transformer.transform)"
   ]
  },
  {
   "cell_type": "markdown",
   "id": "ea831bff-c9ed-4e9c-94db-3356fedfbf04",
   "metadata": {},
   "source": [
    "- 可視化関数の定義"
   ]
  },
  {
   "cell_type": "code",
   "execution_count": null,
   "id": "7b93fe26-6524-4d65-a49f-9b6200c939f6",
   "metadata": {},
   "outputs": [],
   "source": [
    "# 可視化用関数\n",
    "def draw_bboxes(img, bboxes):\n",
    "    for i in range(len(bboxes)):\n",
    "        box = bboxes[i]\n",
    "        x0 = int(box[0])\n",
    "        y0 = int(box[1])\n",
    "        x1 = x0 + int(box[2])\n",
    "        y1 = y0 + int(box[3])\n",
    "        cv2.rectangle(img, (x0, y0), (x1, y1), (255, 0, 0), 2)\n",
    "    return img\n",
    "\n",
    "def draw_bboxes_predict(img, bboxes, scores, bbclasses, confthre, classes_dict):\n",
    "    img = draw_bboxes(img, bboxes)\n",
    "    for i in range(len(bboxes)):\n",
    "        box = bboxes[i]\n",
    "        cls_id = int(bbclasses[i])\n",
    "        score = scores[i]\n",
    "        if score < confthre:\n",
    "            continue\n",
    "        cv2.putText(img, '{}:{:.1f}%'.format(classes_dict[cls_id], score * 100), (box[0], box[1] - 3), cv2.FONT_HERSHEY_PLAIN, 0.8, (255,0,0), thickness = 1)\n",
    "    return img\n",
    "\n",
    "\n",
    "# def display_cv2img(cv2_img):\n",
    "#     out_img = cv2.cvtColor(cv2_img, cv2.COLOR_BGR2RGB)\n",
    "#     display(Image.fromarray(out_img))"
   ]
  },
  {
   "cell_type": "code",
   "execution_count": null,
   "id": "a5fd1a2c-9e1b-40a9-83aa-a376bf59e9e0",
   "metadata": {},
   "outputs": [],
   "source": []
  },
  {
   "cell_type": "markdown",
   "id": "bcb51b46-7470-41b3-aee0-c9dcf63102ba",
   "metadata": {},
   "source": [
    "# サンプル画像の表示"
   ]
  },
  {
   "cell_type": "code",
   "execution_count": null,
   "id": "1ba57ce6-76bd-4f73-883c-c9090c5a753f",
   "metadata": {},
   "outputs": [],
   "source": [
    "out_img= draw_bboxes(*dataset.__getitem__(0))\n",
    "display(Image.fromarray(out_img))"
   ]
  },
  {
   "cell_type": "markdown",
   "id": "52644f5a-8ec0-4177-ad20-a1c65f475263",
   "metadata": {},
   "source": [
    "- 推論時想定可視化サンプル"
   ]
  },
  {
   "cell_type": "code",
   "execution_count": null,
   "id": "e1b98144-1826-4a3b-ba2f-3e15b1f1e100",
   "metadata": {},
   "outputs": [],
   "source": [
    "# # Get predictions\n",
    "# # bboxes, bbclasses, scores = yolox_inference(img, model, test_size)\n",
    "# bboxes, bbclasses, scores = sample_bboxes, [0], [0.99]\n",
    "# # Draw predictions\n",
    "# out_image = draw_bboxes_predict(sample_img, bboxes, scores, bbclasses, 0.0, {0: 'hitode'})\n",
    "\n",
    "# # Since we load image using OpenCV we have to convert it \n",
    "# out_image = cv2.cvtColor(out_image, cv2.COLOR_BGR2RGB)\n",
    "# display(Image.fromarray(out_image))"
   ]
  },
  {
   "cell_type": "code",
   "execution_count": null,
   "id": "ee4187b3-9b22-404d-ba10-f9547cfc3159",
   "metadata": {},
   "outputs": [],
   "source": []
  },
  {
   "cell_type": "markdown",
   "id": "1acec4c1-b3b6-42ac-8384-7349d407040d",
   "metadata": {},
   "source": [
    "# Augmentation\n",
    "- 参考\n",
    "    - https://albumentations.ai/docs/getting_started/bounding_boxes_augmentation/ \n",
    "    - https://github.com/albumentations-team/albumentations"
   ]
  },
  {
   "cell_type": "code",
   "execution_count": null,
   "id": "f7ad72ff-6b04-42f3-aa06-b63fcca400e2",
   "metadata": {},
   "outputs": [],
   "source": [
    "config['transforms_args']"
   ]
  },
  {
   "cell_type": "code",
   "execution_count": null,
   "id": "f303862c-96ee-4394-9979-0dfdecb66882",
   "metadata": {},
   "outputs": [],
   "source": [
    "transformer = ObjectDetectionAugmentation(config['transforms_args'])"
   ]
  },
  {
   "cell_type": "code",
   "execution_count": null,
   "id": "f1c59fcd-ea03-41de-b4c6-7c15d521ad4c",
   "metadata": {},
   "outputs": [],
   "source": [
    "sample_imgs, sample_bboxes = [], []\n",
    "# for idx in range(len(image_paths)):\n",
    "for idx in range(2):\n",
    "    sample_img, sample_bbox = dataset.__getitem__(idx)\n",
    "    sample_imgs.append(sample_img)\n",
    "    sample_bboxes.append(sample_bbox)"
   ]
  },
  {
   "cell_type": "markdown",
   "id": "69c69838-5cc8-4f51-86e7-66e9493c8cd7",
   "metadata": {},
   "source": [
    "TODO: サンプルを書き換える"
   ]
  },
  {
   "cell_type": "code",
   "execution_count": null,
   "id": "3f55cf6e-166f-4561-ae21-e995d9ec32c6",
   "metadata": {},
   "outputs": [],
   "source": [
    "dataset_transform = Dataset(file_paths=image_paths, bboxes=sample_bboxes, transform=transformer.transform)"
   ]
  },
  {
   "cell_type": "code",
   "execution_count": null,
   "id": "c6859c34-5619-4e83-86a8-44e98c0f1a24",
   "metadata": {
    "tags": []
   },
   "outputs": [],
   "source": [
    "%%time\n",
    "# 一枚だけ変換\n",
    "_img, _bboxes = transformer.transform(sample_img, sample_bbox)\n",
    "#可視化\n",
    "# display(Image.fromarray(draw_bboxes(_img, _bboxes)))"
   ]
  },
  {
   "cell_type": "code",
   "execution_count": null,
   "id": "8ff6cfb4-08c2-4336-9c84-aa5618200acd",
   "metadata": {
    "tags": []
   },
   "outputs": [],
   "source": [
    "%%time\n",
    "#　リストを全て変換\n",
    "image_list, bboxes_list = transformer.transform_data(sample_imgs, sample_bboxes)\n",
    "#可視化\n",
    "# for _i, _b in zip(image_list, bboxes_list):\n",
    "#     display(Image.fromarray(draw_bboxes(_i, _b)))"
   ]
  },
  {
   "cell_type": "markdown",
   "id": "71dd55d2-94da-4c16-a6ff-8fe4fde2334d",
   "metadata": {},
   "source": [
    "- Augmentationテスト"
   ]
  },
  {
   "cell_type": "code",
   "execution_count": null,
   "id": "34e7529c-f744-4107-af42-5e75db1840d3",
   "metadata": {},
   "outputs": [],
   "source": [
    "import albumentations as A\n",
    "\n",
    "transform = A.Compose([\n",
    "    A.RandomCrop(width=450, height=450),\n",
    "    A.HorizontalFlip(p=0.5),\n",
    "    A.RandomBrightnessContrast(p=0.2),\n",
    "], bbox_params=A.BboxParams(format='coco', min_area=100, min_visibility=0.1, label_fields=[]))\n",
    "\n",
    "transformed = transform(image=sample_img, bboxes=sample_bbox)\n",
    "transformed_img = transformed['image']\n",
    "transformed_bboxes = transformed['bboxes']\n",
    "\n",
    "transformed_img = draw_bboxes(transformed_img, transformed_bboxes)\n",
    "display(Image.fromarray(transformed_img))"
   ]
  },
  {
   "cell_type": "code",
   "execution_count": null,
   "id": "ecac7155-ba3d-41d6-9707-cf868454b0ac",
   "metadata": {
    "tags": []
   },
   "outputs": [],
   "source": [
    "image_id"
   ]
  },
  {
   "cell_type": "code",
   "execution_count": null,
   "id": "344ac140-f4b2-4d14-94e4-ba41889e70cc",
   "metadata": {},
   "outputs": [],
   "source": [
    "dataset = Dataset(file_paths=[image1_path, image2_path], bboxes=sample_bboxes)\n",
    "img_list, bboxes_list = dataset.__getitem__(0)\n",
    "\n",
    "img_list.shape"
   ]
  },
  {
   "cell_type": "code",
   "execution_count": null,
   "id": "55f317a1-6fbb-4619-bd36-55d22bd3ff73",
   "metadata": {},
   "outputs": [],
   "source": []
  },
  {
   "cell_type": "code",
   "execution_count": null,
   "id": "569192f4-97ba-45cb-9bba-9c1cb22fdc6b",
   "metadata": {},
   "outputs": [],
   "source": [
    "from torch.utils.data import Dataset\n",
    "class Dataset(Dataset):\n",
    "     \n",
    "    def __init__(self, file_paths, bboxes, transform=None):\n",
    "        self.file_paths = file_paths\n",
    "        self.bboxes = bboxes\n",
    "        self.transform = transform\n",
    "         \n",
    "    def __len__(self):\n",
    "        return len(self.file_paths)\n",
    " \n",
    "    def __getitem__(self, idx):\n",
    "        file_path = self.file_paths[idx]\n",
    "        bboxes = self.bboxes[idx]\n",
    " \n",
    "        image = cv2.imread(file_path)\n",
    "        image = cv2.cvtColor(image, cv2.COLOR_BGR2RGB)\n",
    "\n",
    "        if self.transform:\n",
    "            image, bboxes = self.transform(image=image, bboxes=bboxes)\n",
    "        return image, bboxes"
   ]
  },
  {
   "cell_type": "code",
   "execution_count": null,
   "id": "6aea5bbe-0a00-458e-bc47-9a5ef07ef93e",
   "metadata": {},
   "outputs": [],
   "source": []
  },
  {
   "cell_type": "code",
   "execution_count": null,
   "id": "5d4e2fdc-325a-4542-90bf-f8a067655978",
   "metadata": {},
   "outputs": [],
   "source": []
  },
  {
   "cell_type": "code",
   "execution_count": null,
   "id": "9e2de335-d0b3-4977-8adb-7e0bd510208d",
   "metadata": {},
   "outputs": [],
   "source": []
  },
  {
   "cell_type": "markdown",
   "id": "dc3f9433-efd6-4ed6-a9e6-79c5b4917101",
   "metadata": {},
   "source": [
    "# train_video の可視化\n",
    "- 参考: https://www.kaggle.com/werooring/basic-eda-starter-for-everyone"
   ]
  },
  {
   "cell_type": "code",
   "execution_count": null,
   "id": "4dd1b806-6cb0-41cb-b6ca-a2cd63f956e3",
   "metadata": {},
   "outputs": [],
   "source": [
    "from matplotlib import animation, rc\n",
    "rc('animation', html='jshtml')\n",
    "\n",
    "def create_animation(imgs, frame_interval=130):\n",
    "    fig = plt.figure(figsize=(7, 4))\n",
    "    plt.axis('off')\n",
    "    img = plt.imshow(imgs[0])\n",
    "\n",
    "    def animate(i):\n",
    "        img.set_array(imgs[i])\n",
    "        return [img]\n",
    "\n",
    "    return animation.FuncAnimation(fig, animate, frames=len(imgs), interval=frame_interval)"
   ]
  },
  {
   "cell_type": "code",
   "execution_count": null,
   "id": "41d7971d-97da-4cb8-a291-0ddd165494aa",
   "metadata": {},
   "outputs": [],
   "source": [
    "frame_interval = 120 # set smaller number if you want to play fast, otherwise set bigger\n",
    "create_animation(\n",
    "    [draw_bboxes(_img, _bbox) for _img, _bbox in dataset],\n",
    "    frame_interval=frame_interval\n",
    ")"
   ]
  },
  {
   "cell_type": "markdown",
   "id": "7cb6fe24-3da6-42bd-a1b4-83009faac9a0",
   "metadata": {},
   "source": [
    "# DatasetClassの再設計"
   ]
  },
  {
   "cell_type": "code",
   "execution_count": null,
   "id": "5ea4194e-816e-48dc-9ab7-bfc2e4988cc6",
   "metadata": {},
   "outputs": [],
   "source": [
    "root_dir  = '../input/tensorflow-great-barrier-reef'\n",
    "class Dataset(Dataset):    \n",
    "    def __init__(self, root_dir, file_paths, transform=None):\n",
    "        train_path = f'{root_dir}/train.csv'\n",
    "        train = read_train(train_path)\n",
    "        bboxes = \n",
    "        self.file_paths = list(file_paths)\n",
    "        self.bboxes = list(train.list_annotations)\n",
    "        self.transform = transform\n",
    "         \n",
    "    def __len__(self):\n",
    "        return len(self.file_paths)\n",
    " \n",
    "    def __getitem__(self, idx):\n",
    "        file_path = self.file_paths[idx]\n",
    "        bboxes = self.bboxes[idx]\n",
    "        image = cv2.imread(file_path)\n",
    "        image = cv2.cvtColor(image, cv2.COLOR_BGR2RGB)\n",
    "        if self.transform:\n",
    "            image, bboxes = self.transform(image=image, bboxes=bboxes)\n",
    "        return image, bboxes"
   ]
  },
  {
   "cell_type": "code",
   "execution_count": null,
   "id": "2f48eb28-cf41-42de-b2e6-1361e2867a3f",
   "metadata": {},
   "outputs": [],
   "source": []
  }
 ],
 "metadata": {
  "kernelspec": {
   "display_name": "Python 3",
   "language": "python",
   "name": "python3"
  },
  "language_info": {
   "codemirror_mode": {
    "name": "ipython",
    "version": 3
   },
   "file_extension": ".py",
   "mimetype": "text/x-python",
   "name": "python",
   "nbconvert_exporter": "python",
   "pygments_lexer": "ipython3",
   "version": "3.8.0"
  }
 },
 "nbformat": 4,
 "nbformat_minor": 5
}

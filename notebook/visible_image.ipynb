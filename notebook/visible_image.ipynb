{
 "cells": [
  {
   "cell_type": "code",
   "execution_count": null,
   "id": "b7f71c91-56b9-4e8f-813d-2373f4ebbf0f",
   "metadata": {},
   "outputs": [],
   "source": [
    "import os\n",
    "import pandas as pd\n",
    "import numpy as np\n",
    "import matplotlib as mpl\n",
    "import matplotlib.pylab as plt"
   ]
  },
  {
   "cell_type": "code",
   "execution_count": null,
   "id": "12f49763-22f7-42ab-a9e7-8b671ff6eb84",
   "metadata": {},
   "outputs": [],
   "source": [
    "train = pd.read_csv(\"../input/tensorflow-great-barrier-reef/train.csv\")\n",
    "test = pd.read_csv(\"../input/tensorflow-great-barrier-reef/test.csv\")\n",
    "# ss = pd.read_csv(\"../input/tensorflow-great-barrier-reef/example_sample_submission.csv\")\n",
    "\n",
    "train.shape, test.shape"
   ]
  },
  {
   "cell_type": "code",
   "execution_count": null,
   "id": "6ccb85a1-141c-4d00-a8fc-61d18cbe99f4",
   "metadata": {},
   "outputs": [],
   "source": [
    "train['annotations'] = train['annotations'].apply(lambda x: eval(x)) # annotationsが文字列として入っているため、eval()\n",
    "train['n_annotations'] = train['annotations'].apply(len)"
   ]
  },
  {
   "cell_type": "code",
   "execution_count": null,
   "id": "72e2b1f6-3793-4e2a-bd93-e330d00f9cc1",
   "metadata": {},
   "outputs": [],
   "source": [
    "train.dtypes"
   ]
  },
  {
   "cell_type": "code",
   "execution_count": null,
   "id": "1b27ac83-48c9-4399-a480-de337d006ade",
   "metadata": {},
   "outputs": [],
   "source": [
    "max_annots = 0\n",
    "max_id = \"\" \n",
    "video_id = 0\n",
    "for video_frame in range(1001, 1020):\n",
    "    image_id = f'{video_id}-{video_frame}'\n",
    "    len_annots = train[train['image_id']==image_id]['n_annotations'].item()\n",
    "    if len_annots > max_annots:\n",
    "        max_annots = len_annots\n",
    "        max_id = image_id\n",
    "\n",
    "print(max_id)\n",
    "print(max_annots)"
   ]
  },
  {
   "cell_type": "code",
   "execution_count": null,
   "id": "d8340d24-2121-4bd2-ada8-00c05505b82b",
   "metadata": {
    "tags": []
   },
   "outputs": [],
   "source": [
    "max_annots = 0\n",
    "max_id = \"\" \n",
    "for video_id in range(1,4):\n",
    "    for video_frame in range(10001, 10020):\n",
    "        image_id = f'{video_id}-{video_frame}'\n",
    "        len_annots =  train[train['image_id']==image_id]['n_annotations'].item()\n",
    "        if len_annots > max_annots:\n",
    "            max_annots = len_annots\n",
    "            max_id = image_id\n",
    "                        \n",
    "print(max_id)\n",
    "print(max_annots)"
   ]
  },
  {
   "cell_type": "markdown",
   "id": "fcd8dcdb-49d8-451e-9b85-ac98a598d161",
   "metadata": {},
   "source": [
    "- image_id 0-1001か1-10001を使う"
   ]
  },
  {
   "cell_type": "code",
   "execution_count": null,
   "id": "7d3bd92b-0cec-4636-927c-4cc4818f05fe",
   "metadata": {},
   "outputs": [],
   "source": [
    "max_id"
   ]
  },
  {
   "cell_type": "code",
   "execution_count": null,
   "id": "33f164a8-01a2-4364-b1d6-635bc3334b4b",
   "metadata": {},
   "outputs": [],
   "source": [
    "max_bboxes = train[train['image_id']==max_id]['annotations'].item()\n",
    "max_bboxes"
   ]
  },
  {
   "cell_type": "markdown",
   "id": "edfad981-cf80-4140-9674-10136730710e",
   "metadata": {},
   "source": [
    "- 可視化パクリ元\n",
    "https://www.kaggle.com/remekkinas/yolox-training-pipeline-cots-dataset-lb-0-507"
   ]
  },
  {
   "cell_type": "code",
   "execution_count": null,
   "id": "e0774f06-b8d1-4cac-b36f-1d989d2c6f3f",
   "metadata": {},
   "outputs": [],
   "source": [
    "import cv2\n",
    "from PIL import Image\n",
    "image_path = '../input/tensorflow-great-barrier-reef/train_images/video_0/1001.jpg'"
   ]
  },
  {
   "cell_type": "code",
   "execution_count": null,
   "id": "7b93fe26-6524-4d65-a49f-9b6200c939f6",
   "metadata": {},
   "outputs": [],
   "source": [
    "def draw_bboxes(img, bboxes, scores, bbclasses, confthre=None, classes_dict=None):\n",
    "    for i in range(len(bboxes)):\n",
    "            box = bboxes[i]\n",
    "            cls_id = int(bbclasses[i])\n",
    "            score = scores[i]\n",
    "#             if score < confthre:\n",
    "#                 continue\n",
    "            x0 = int(box[0])\n",
    "            y0 = int(box[1])\n",
    "            x1 = x0 + int(box[2])\n",
    "            y1 = y0 + int(box[3])\n",
    "\n",
    "            cv2.rectangle(img, (x0, y0), (x1, y1), (0, 255, 0), 2)\n",
    "            cv2.putText(img, '{}:{:.1f}%'.format(classes_dict[cls_id], score * 100), (x0, y0 - 3), cv2.FONT_HERSHEY_PLAIN, 0.8, (0,255,0), thickness = 1)\n",
    "    return img"
   ]
  },
  {
   "cell_type": "code",
   "execution_count": null,
   "id": "e1b98144-1826-4a3b-ba2f-3e15b1f1e100",
   "metadata": {},
   "outputs": [],
   "source": [
    "sample_img = cv2.imread(image_path)\n",
    "\n",
    "# Get predictions\n",
    "# bboxes, bbclasses, scores = yolox_inference(img, model, test_size)\n",
    "sample_bboxes = [list(_.values()) for _ in max_bboxes]\n",
    "bboxes, bbclasses, scores = sample_bboxes, [0], [0.99]\n",
    "\n",
    "# Draw predictions\n",
    "# out_image = draw_yolox_predictions(img, bboxes, scores, bbclasses, confthre, COCO_CLASSES)\n",
    "out_image = draw_bboxes(sample_img, bboxes, scores, bbclasses, {0: 'hitode'})\n",
    "\n",
    "# Since we load image using OpenCV we have to convert it \n",
    "out_image = cv2.cvtColor(out_image, cv2.COLOR_BGR2RGB)\n",
    "display(Image.fromarray(out_image))"
   ]
  },
  {
   "cell_type": "markdown",
   "id": "9bde34b6-6922-47a7-b8f8-023f53e242f3",
   "metadata": {},
   "source": [
    "# Augmentation\n",
    "- 参考: https://albumentations.ai/docs/getting_started/bounding_boxes_augmentation/"
   ]
  },
  {
   "cell_type": "code",
   "execution_count": null,
   "id": "7aa074a4-10cc-4942-9402-63591af98ab7",
   "metadata": {},
   "outputs": [],
   "source": [
    "import albumentations as A"
   ]
  },
  {
   "cell_type": "code",
   "execution_count": null,
   "id": "67c739f1-c28e-4528-8053-c2e80b339da1",
   "metadata": {},
   "outputs": [],
   "source": [
    "out_image.shape"
   ]
  },
  {
   "cell_type": "code",
   "execution_count": null,
   "id": "b3bfa473-f0f3-44af-a175-e310f6efba7d",
   "metadata": {},
   "outputs": [],
   "source": [
    "transform = A.Compose([\n",
    "    A.RandomCrop(width=450, height=450),\n",
    "    A.HorizontalFlip(p=0.5),\n",
    "    A.RandomBrightnessContrast(p=0.2),\n",
    "], bbox_params=A.BboxParams(format='coco', min_area=100, min_visibility=0.1, label_fields=[]))"
   ]
  },
  {
   "cell_type": "code",
   "execution_count": null,
   "id": "5176db42-6a78-4850-9d59-5ec5334ada3e",
   "metadata": {},
   "outputs": [],
   "source": [
    "transformed = transform(image=sample_img, bboxes=sample_bboxes)\n",
    "transformed_img = transformed['image']\n",
    "transformed_bboxes = transformed['bboxes']"
   ]
  },
  {
   "cell_type": "code",
   "execution_count": null,
   "id": "7fc5240a-7523-4896-b8d6-a2b0732060ec",
   "metadata": {},
   "outputs": [],
   "source": [
    "# Since we load image using OpenCV we have to convert it \n",
    "bboxes, bbclasses, scores = transformed_bboxes, [\"0\"], [0.99]\n",
    "out_image = draw_bboxes(transformed_img, transformed_bboxes, scores, bbclasses)\n",
    "out_image = cv2.cvtColor(out_image, cv2.COLOR_BGR2RGB)\n",
    "display(Image.fromarray(out_image))"
   ]
  },
  {
   "cell_type": "code",
   "execution_count": null,
   "id": "8daf9adb-5f4d-4e6f-99fc-35c9c895db0a",
   "metadata": {},
   "outputs": [],
   "source": [
    "transformed_img.shape"
   ]
  },
  {
   "cell_type": "code",
   "execution_count": null,
   "id": "5ed8dea2-9653-4858-a7f5-6f72714a05ea",
   "metadata": {},
   "outputs": [],
   "source": [
    "sample_bboxes"
   ]
  },
  {
   "cell_type": "code",
   "execution_count": null,
   "id": "e5ee6d70-de90-416f-880c-f9099186bb68",
   "metadata": {},
   "outputs": [],
   "source": []
  }
 ],
 "metadata": {
  "kernelspec": {
   "display_name": "Python 3",
   "language": "python",
   "name": "python3"
  },
  "language_info": {
   "codemirror_mode": {
    "name": "ipython",
    "version": 3
   },
   "file_extension": ".py",
   "mimetype": "text/x-python",
   "name": "python",
   "nbconvert_exporter": "python",
   "pygments_lexer": "ipython3",
   "version": "3.8.0"
  }
 },
 "nbformat": 4,
 "nbformat_minor": 5
}

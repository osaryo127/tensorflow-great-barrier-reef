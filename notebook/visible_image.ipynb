{
 "cells": [
  {
   "cell_type": "code",
   "execution_count": null,
   "id": "b7f71c91-56b9-4e8f-813d-2373f4ebbf0f",
   "metadata": {},
   "outputs": [],
   "source": [
    "import os\n",
    "import pandas as pd\n",
    "import numpy as np\n",
    "import matplotlib as mpl\n",
    "import matplotlib.pylab as plt"
   ]
  },
  {
   "cell_type": "code",
   "execution_count": null,
   "id": "12f49763-22f7-42ab-a9e7-8b671ff6eb84",
   "metadata": {},
   "outputs": [],
   "source": [
    "train = pd.read_csv(\"../input/tensorflow-great-barrier-reef/train.csv\")\n",
    "test = pd.read_csv(\"../input/tensorflow-great-barrier-reef/test.csv\")\n",
    "# ss = pd.read_csv(\"../input/tensorflow-great-barrier-reef/example_sample_submission.csv\")\n",
    "\n",
    "train.shape, test.shape"
   ]
  },
  {
   "cell_type": "code",
   "execution_count": null,
   "id": "6ccb85a1-141c-4d00-a8fc-61d18cbe99f4",
   "metadata": {},
   "outputs": [],
   "source": [
    "train['annotations'] = train['annotations'].apply(lambda x: eval(x)) # annotationsが文字列として入っているため、eval()\n",
    "train['n_annotations'] = train['annotations'].apply(len)\n",
    "train['list_annotations'] = train['annotations'].apply(lambda x: [list(_.values()) for _ in x]) # リスト型式にcast"
   ]
  },
  {
   "cell_type": "code",
   "execution_count": null,
   "id": "72e2b1f6-3793-4e2a-bd93-e330d00f9cc1",
   "metadata": {},
   "outputs": [],
   "source": [
    "train.dtypes"
   ]
  },
  {
   "cell_type": "markdown",
   "id": "0b5f8fcf-1fc6-4eb6-bb10-b5d6aed1c57e",
   "metadata": {},
   "source": [
    "- Kaggleのページ上でディスプレイされている画像の中でヒトデが多いやつを探している(いちいち全部ダウンロードしたくないので)"
   ]
  },
  {
   "cell_type": "code",
   "execution_count": null,
   "id": "1b27ac83-48c9-4399-a480-de337d006ade",
   "metadata": {},
   "outputs": [],
   "source": [
    "max_annots = 0\n",
    "max_id = \"\" \n",
    "video_id = 0\n",
    "for video_frame in range(1001, 1020):\n",
    "    image_id = f'{video_id}-{video_frame}'\n",
    "    len_annots = train[train['image_id']==image_id]['n_annotations'].item()\n",
    "    if len_annots > max_annots:\n",
    "        max_annots = len_annots\n",
    "        max_id = image_id\n",
    "\n",
    "print(max_id)\n",
    "print(max_annots)"
   ]
  },
  {
   "cell_type": "markdown",
   "id": "fcd8dcdb-49d8-451e-9b85-ac98a598d161",
   "metadata": {},
   "source": [
    "- image_id 0-1001か1-10001を使う"
   ]
  },
  {
   "cell_type": "code",
   "execution_count": null,
   "id": "7d3bd92b-0cec-4636-927c-4cc4818f05fe",
   "metadata": {},
   "outputs": [],
   "source": [
    "max_id"
   ]
  },
  {
   "cell_type": "code",
   "execution_count": null,
   "id": "33f164a8-01a2-4364-b1d6-635bc3334b4b",
   "metadata": {},
   "outputs": [],
   "source": [
    "max_bboxes = train[train['image_id']==max_id]['annotations'].item()\n",
    "max_bboxes"
   ]
  },
  {
   "cell_type": "markdown",
   "id": "edfad981-cf80-4140-9674-10136730710e",
   "metadata": {},
   "source": [
    "- 可視化パクリ元\n",
    "https://www.kaggle.com/remekkinas/yolox-training-pipeline-cots-dataset-lb-0-507"
   ]
  },
  {
   "cell_type": "code",
   "execution_count": null,
   "id": "e0774f06-b8d1-4cac-b36f-1d989d2c6f3f",
   "metadata": {},
   "outputs": [],
   "source": [
    "import cv2\n",
    "from PIL import Image\n",
    "image1_path = '../input/tensorflow-great-barrier-reef/train_images/video_0/1001.jpg'\n",
    "image2_path = '../input/tensorflow-great-barrier-reef/train_images/video_1/10001.jpg'"
   ]
  },
  {
   "cell_type": "code",
   "execution_count": null,
   "id": "ffe2fcb0-779c-492b-a909-691afddd4e56",
   "metadata": {},
   "outputs": [],
   "source": [
    "sample_ids = ['0-1001', '1-10001']\n",
    "sample_bboxes = []\n",
    "for sample_id in sample_ids:\n",
    "    _bboxes = train[train['image_id']==sample_id]['list_annotations'].item()\n",
    "    sample_bboxes.append(_bboxes)\n",
    "    \n",
    "    \n",
    "sample_imgs = [\n",
    "    cv2.imread(image1_path),\n",
    "    cv2.imread(image2_path)\n",
    "]\n",
    "\n",
    "sample_img = sample_imgs[0]\n",
    "sample_bbox = sample_bboxes[0]"
   ]
  },
  {
   "cell_type": "code",
   "execution_count": null,
   "id": "7b93fe26-6524-4d65-a49f-9b6200c939f6",
   "metadata": {},
   "outputs": [],
   "source": [
    "# 可視化用関数\n",
    "def draw_bboxes(img, bboxes):\n",
    "    for i in range(len(bboxes)):\n",
    "            box = bboxes[i]\n",
    "            x0 = int(box[0])\n",
    "            y0 = int(box[1])\n",
    "            x1 = x0 + int(box[2])\n",
    "            y1 = y0 + int(box[3])\n",
    "            cv2.rectangle(img, (x0, y0), (x1, y1), (0, 255, 0), 2)\n",
    "    return img\n",
    "\n",
    "def draw_bboxes_predict(img, bboxes, scores, bbclasses, confthre, classes_dict):\n",
    "    img = draw_bboxes(img, bboxes)\n",
    "    for i in range(len(bboxes)):\n",
    "            box = bboxes[i]\n",
    "            cls_id = int(bbclasses[i])\n",
    "            score = scores[i]\n",
    "            if score < confthre:\n",
    "                continue\n",
    "            cv2.putText(img, '{}:{:.1f}%'.format(classes_dict[cls_id], score * 100), (box[0], box[1] - 3), cv2.FONT_HERSHEY_PLAIN, 0.8, (0,255,0), thickness = 1)\n",
    "    return img\n",
    "\n",
    "def display_cv2img(cv2_img):\n",
    "    out_img = cv2.cvtColor(cv2_img, cv2.COLOR_BGR2RGB)\n",
    "    display(Image.fromarray(out_img))"
   ]
  },
  {
   "cell_type": "code",
   "execution_count": null,
   "id": "a5fd1a2c-9e1b-40a9-83aa-a376bf59e9e0",
   "metadata": {},
   "outputs": [],
   "source": []
  },
  {
   "cell_type": "markdown",
   "id": "bcb51b46-7470-41b3-aee0-c9dcf63102ba",
   "metadata": {},
   "source": [
    "# display cv2 image with bbox"
   ]
  },
  {
   "cell_type": "code",
   "execution_count": null,
   "id": "1ba57ce6-76bd-4f73-883c-c9090c5a753f",
   "metadata": {},
   "outputs": [],
   "source": [
    "out_image = draw_bboxes(sample_img, sample_bbox)\n",
    "display_cv2img(out_image)    # Since we load image using OpenCV we have to convert it "
   ]
  },
  {
   "cell_type": "code",
   "execution_count": null,
   "id": "70bf8aee-8d4a-449b-b413-fb1034d66286",
   "metadata": {},
   "outputs": [],
   "source": [
    "sample_bboxes"
   ]
  },
  {
   "cell_type": "markdown",
   "id": "52644f5a-8ec0-4177-ad20-a1c65f475263",
   "metadata": {},
   "source": [
    "- 推論時想定可視化サンプル"
   ]
  },
  {
   "cell_type": "code",
   "execution_count": null,
   "id": "e1b98144-1826-4a3b-ba2f-3e15b1f1e100",
   "metadata": {},
   "outputs": [],
   "source": [
    "# # Get predictions\n",
    "# # bboxes, bbclasses, scores = yolox_inference(img, model, test_size)\n",
    "# bboxes, bbclasses, scores = sample_bboxes, [0], [0.99]\n",
    "# # Draw predictions\n",
    "# out_image = draw_bboxes_predict(sample_img, bboxes, scores, bbclasses, 0.0, {0: 'hitode'})\n",
    "\n",
    "# # Since we load image using OpenCV we have to convert it \n",
    "# out_image = cv2.cvtColor(out_image, cv2.COLOR_BGR2RGB)\n",
    "# display(Image.fromarray(out_image))"
   ]
  },
  {
   "cell_type": "markdown",
   "id": "9bde34b6-6922-47a7-b8f8-023f53e242f3",
   "metadata": {},
   "source": [
    "# Augmentation\n",
    "- 参考: https://albumentations.ai/docs/getting_started/bounding_boxes_augmentation/"
   ]
  },
  {
   "cell_type": "code",
   "execution_count": null,
   "id": "7aa074a4-10cc-4942-9402-63591af98ab7",
   "metadata": {},
   "outputs": [],
   "source": [
    "import albumentations as A"
   ]
  },
  {
   "cell_type": "code",
   "execution_count": null,
   "id": "67c739f1-c28e-4528-8053-c2e80b339da1",
   "metadata": {},
   "outputs": [],
   "source": [
    "out_image.shape"
   ]
  },
  {
   "cell_type": "code",
   "execution_count": null,
   "id": "b3bfa473-f0f3-44af-a175-e310f6efba7d",
   "metadata": {},
   "outputs": [],
   "source": [
    "transform = A.Compose([\n",
    "    A.RandomCrop(width=450, height=450),\n",
    "    A.HorizontalFlip(p=0.5),\n",
    "    A.RandomBrightnessContrast(p=0.2),\n",
    "], bbox_params=A.BboxParams(format='coco', min_area=100, min_visibility=0.1, label_fields=[]))"
   ]
  },
  {
   "cell_type": "code",
   "execution_count": null,
   "id": "5176db42-6a78-4850-9d59-5ec5334ada3e",
   "metadata": {},
   "outputs": [],
   "source": [
    "transformed = transform(image=sample_img, bboxes=sample_bbox)\n",
    "transformed_img = transformed['image']\n",
    "transformed_bboxes = transformed['bboxes']\n",
    "\n",
    "transformed_img = draw_bboxes(transformed_img, transformed_bboxes)\n",
    "display_cv2img(transformed_img)"
   ]
  },
  {
   "cell_type": "code",
   "execution_count": null,
   "id": "ee4187b3-9b22-404d-ba10-f9547cfc3159",
   "metadata": {},
   "outputs": [],
   "source": []
  },
  {
   "cell_type": "code",
   "execution_count": null,
   "id": "8daf9adb-5f4d-4e6f-99fc-35c9c895db0a",
   "metadata": {},
   "outputs": [],
   "source": [
    "transformed_img.shape"
   ]
  },
  {
   "cell_type": "markdown",
   "id": "d76aa6e5-df0a-4a50-945a-07ce1335ffbb",
   "metadata": {},
   "source": [
    "- yamlファイルから読み込み"
   ]
  },
  {
   "cell_type": "code",
   "execution_count": null,
   "id": "f7ad72ff-6b04-42f3-aa06-b63fcca400e2",
   "metadata": {},
   "outputs": [],
   "source": [
    "import yaml\n",
    "with open('../config/config_train.yml', 'r') as f:\n",
    "    config = yaml.load(f, Loader=yaml.SafeLoader)"
   ]
  },
  {
   "cell_type": "code",
   "execution_count": null,
   "id": "b912e546-2d49-43fc-8e68-65ce2a7ee4cd",
   "metadata": {},
   "outputs": [],
   "source": [
    "config['transforms_args']"
   ]
  },
  {
   "cell_type": "code",
   "execution_count": null,
   "id": "45c88bee-42cc-4908-8cf0-419e667d1881",
   "metadata": {},
   "outputs": [],
   "source": [
    "import sys\n",
    "sys.path.append('../src/preprocess')\n",
    "from augmentation import ObjectDetectionAugmentation"
   ]
  },
  {
   "cell_type": "code",
   "execution_count": null,
   "id": "f303862c-96ee-4394-9979-0dfdecb66882",
   "metadata": {},
   "outputs": [],
   "source": [
    "transformer = ObjectDetectionAugmentation(config['transforms_args'])"
   ]
  },
  {
   "cell_type": "code",
   "execution_count": null,
   "id": "c6859c34-5619-4e83-86a8-44e98c0f1a24",
   "metadata": {
    "tags": []
   },
   "outputs": [],
   "source": [
    "%% time\n",
    "\n",
    "_img, _bboxes = transformer.transform(sample_img, sample_bbox)\n",
    "display_cv2img(draw_bboxes(_img, _bboxes))"
   ]
  },
  {
   "cell_type": "code",
   "execution_count": null,
   "id": "8ff6cfb4-08c2-4336-9c84-aa5618200acd",
   "metadata": {
    "tags": []
   },
   "outputs": [],
   "source": [
    "%%time\n",
    "\n",
    "image_list, bboxes_list = transformer.transform_data(sample_imgs, sample_bboxes)\n",
    "for _i, _b in zip(image_list, bboxes_list):\n",
    "    display_cv2img(draw_bboxes(_i, _b))"
   ]
  },
  {
   "cell_type": "code",
   "execution_count": null,
   "id": "1cfe222c-4ebc-4b01-a7b7-02d60a173e01",
   "metadata": {},
   "outputs": [],
   "source": [
    "%%time\n",
    "\n",
    "for _i, _b in zip(sample_imgs, sample_bboxes):\n",
    "    display_cv2img(draw_bboxes(*transformer.transform(_i, _b)))"
   ]
  },
  {
   "cell_type": "code",
   "execution_count": null,
   "id": "9891962a-24e9-48ef-b1c6-c0b6e7c95bb0",
   "metadata": {
    "tags": []
   },
   "outputs": [],
   "source": [
    "%%time\n",
    "\n",
    "image_list, bboxes_list = np.frompyfunc(transformer.transform, 2, 2)(pd.Series(sample_imgs), pd.Series(sample_bboxes))\n",
    "for _i, _b in zip(image_list, bboxes_list):\n",
    "    display_cv2img(draw_bboxes(_i, _b))"
   ]
  },
  {
   "cell_type": "code",
   "execution_count": null,
   "id": "b64de745-b02b-4901-a273-f89175d97da2",
   "metadata": {},
   "outputs": [],
   "source": [
    "%%time\n",
    "func = np.frompyfunc(transformer.transform, 2, 2)\n",
    "func(pd.Series(sample_imgs), pd.Series(sample_bboxes))"
   ]
  },
  {
   "cell_type": "code",
   "execution_count": null,
   "id": "2cd506a7-41f3-4b90-b085-22f6448ae18a",
   "metadata": {},
   "outputs": [],
   "source": []
  }
 ],
 "metadata": {
  "kernelspec": {
   "display_name": "Python 3",
   "language": "python",
   "name": "python3"
  },
  "language_info": {
   "codemirror_mode": {
    "name": "ipython",
    "version": 3
   },
   "file_extension": ".py",
   "mimetype": "text/x-python",
   "name": "python",
   "nbconvert_exporter": "python",
   "pygments_lexer": "ipython3",
   "version": "3.8.0"
  }
 },
 "nbformat": 4,
 "nbformat_minor": 5
}

{
 "cells": [
  {
   "cell_type": "markdown",
   "id": "040e63ab-ddbd-4b0c-b8eb-e0282477a741",
   "metadata": {
    "tags": []
   },
   "source": [
    "## Setting Test Environment"
   ]
  },
  {
   "cell_type": "code",
   "execution_count": 1,
   "id": "779c51d2-2192-4b57-aabf-2f0ae2efbf77",
   "metadata": {},
   "outputs": [],
   "source": [
    "import sys\n",
    "sys.path.append('../src/')"
   ]
  },
  {
   "cell_type": "markdown",
   "id": "8104a772-fa60-470a-9936-b2c4b71efb5d",
   "metadata": {
    "tags": []
   },
   "source": [
    "## Import & Global Variables"
   ]
  },
  {
   "cell_type": "code",
   "execution_count": 2,
   "id": "6a4d6157-e278-4e86-9823-0ae905c72007",
   "metadata": {},
   "outputs": [],
   "source": [
    "import os.path as osp\n",
    "from pathlib import Path\n",
    "import yaml\n",
    "import pandas as pd\n",
    "\n",
    "from utils import add_fold\n",
    "from dataset import get_dataset, get_dataloader\n",
    "\n",
    "# ROOT_PATH = \"/kaggle/input/tensorflow-great-barrier-reef/\"\n",
    "ROOT_PATH = Path(\"../\")"
   ]
  },
  {
   "cell_type": "markdown",
   "id": "e5b5ca6f-e018-4346-aaa0-e0d82a8022eb",
   "metadata": {},
   "source": [
    "## Scripts to Test"
   ]
  },
  {
   "cell_type": "code",
   "execution_count": 3,
   "id": "7297c249-6057-43ed-9b34-25bb2102e41c",
   "metadata": {},
   "outputs": [],
   "source": [
    "with open(\"../config/experiment.yaml\") as f:\n",
    "    opt = yaml.safe_load(f)"
   ]
  },
  {
   "cell_type": "code",
   "execution_count": 4,
   "id": "930fd0d0-3e93-4f66-a402-314967b0e088",
   "metadata": {},
   "outputs": [],
   "source": [
    "df = pd.read_csv(osp.join(ROOT_PATH, \"train.csv\"))\n",
    "df = add_fold(df)\n",
    "ds_tr, ds_va = get_dataset(df, 0, opt)\n",
    "dl_tr, dl_va = get_dataloader(ds_tr, ds_va, opt)\n",
    "# process_data(df)"
   ]
  },
  {
   "cell_type": "code",
   "execution_count": 5,
   "id": "a18675c9-1f79-4b18-a2ad-6d4f61a07fad",
   "metadata": {},
   "outputs": [
    {
     "name": "stdout",
     "output_type": "stream",
     "text": [
      "empty!\n",
      "ret [[]]\n"
     ]
    },
    {
     "ename": "IndexError",
     "evalue": "index 4 is out of bounds for axis 1 with size 0",
     "output_type": "error",
     "traceback": [
      "\u001b[1;31m---------------------------------------------------------------------------\u001b[0m",
      "\u001b[1;31mIndexError\u001b[0m                                Traceback (most recent call last)",
      "\u001b[1;32m~\\AppData\\Local\\Temp/ipykernel_16656/582783769.py\u001b[0m in \u001b[0;36m<module>\u001b[1;34m\u001b[0m\n\u001b[1;32m----> 1\u001b[1;33m \u001b[0mds_tr\u001b[0m\u001b[1;33m.\u001b[0m\u001b[0m__getitem__\u001b[0m\u001b[1;33m(\u001b[0m\u001b[1;36m1\u001b[0m\u001b[1;33m)\u001b[0m\u001b[1;33m\u001b[0m\u001b[1;33m\u001b[0m\u001b[0m\n\u001b[0m\u001b[0;32m      2\u001b[0m \u001b[1;31m# display(ds_tr.anno_list.head(1))\u001b[0m\u001b[1;33m\u001b[0m\u001b[1;33m\u001b[0m\u001b[0m\n\u001b[0;32m      3\u001b[0m \u001b[1;31m# display(ds_tr.anno_list[ds_tr.anno_list.apply(len)==1].head(1))\u001b[0m\u001b[1;33m\u001b[0m\u001b[1;33m\u001b[0m\u001b[0m\n\u001b[0;32m      4\u001b[0m \u001b[1;31m# display(ds_tr.anno_list[ds_tr.anno_list.apply(len)>1].head(1))\u001b[0m\u001b[1;33m\u001b[0m\u001b[1;33m\u001b[0m\u001b[0m\n",
      "\u001b[1;32m~\\Desktop\\tensorflow-great-barrier-reef\\chieda\\notebooks\\../src\\dataset.py\u001b[0m in \u001b[0;36m__getitem__\u001b[1;34m(self, index)\u001b[0m\n\u001b[0;32m    237\u001b[0m         \u001b[0m前処理をした画像のテンソル形式のデータとアノテーションを取得\u001b[0m\u001b[1;33m\u001b[0m\u001b[1;33m\u001b[0m\u001b[0m\n\u001b[0;32m    238\u001b[0m         \"\"\"\n\u001b[1;32m--> 239\u001b[1;33m         \u001b[0mim\u001b[0m\u001b[1;33m,\u001b[0m \u001b[0mgt\u001b[0m\u001b[1;33m,\u001b[0m \u001b[0mh\u001b[0m\u001b[1;33m,\u001b[0m \u001b[0mw\u001b[0m \u001b[1;33m=\u001b[0m \u001b[0mself\u001b[0m\u001b[1;33m.\u001b[0m\u001b[0mpull_item\u001b[0m\u001b[1;33m(\u001b[0m\u001b[0mindex\u001b[0m\u001b[1;33m)\u001b[0m\u001b[1;33m\u001b[0m\u001b[1;33m\u001b[0m\u001b[0m\n\u001b[0m\u001b[0;32m    240\u001b[0m         \u001b[1;32mreturn\u001b[0m \u001b[0mim\u001b[0m\u001b[1;33m,\u001b[0m \u001b[0mgt\u001b[0m\u001b[1;33m\u001b[0m\u001b[1;33m\u001b[0m\u001b[0m\n\u001b[0;32m    241\u001b[0m \u001b[1;33m\u001b[0m\u001b[0m\n",
      "\u001b[1;32m~\\Desktop\\tensorflow-great-barrier-reef\\chieda\\notebooks\\../src\\dataset.py\u001b[0m in \u001b[0;36mpull_item\u001b[1;34m(self, index)\u001b[0m\n\u001b[0;32m    253\u001b[0m \u001b[1;33m\u001b[0m\u001b[0m\n\u001b[0;32m    254\u001b[0m         \u001b[1;31m# 3. 前処理を実施\u001b[0m\u001b[1;33m\u001b[0m\u001b[1;33m\u001b[0m\u001b[0m\n\u001b[1;32m--> 255\u001b[1;33m         \u001b[0mimg\u001b[0m\u001b[1;33m,\u001b[0m \u001b[0mboxes\u001b[0m\u001b[1;33m,\u001b[0m \u001b[0mlabels\u001b[0m \u001b[1;33m=\u001b[0m \u001b[0mself\u001b[0m\u001b[1;33m.\u001b[0m\u001b[0mtransform\u001b[0m\u001b[1;33m(\u001b[0m\u001b[0mimg\u001b[0m\u001b[1;33m,\u001b[0m \u001b[0mself\u001b[0m\u001b[1;33m.\u001b[0m\u001b[0mphase\u001b[0m\u001b[1;33m,\u001b[0m \u001b[0manno_list\u001b[0m\u001b[1;33m[\u001b[0m\u001b[1;33m:\u001b[0m\u001b[1;33m,\u001b[0m \u001b[1;33m:\u001b[0m\u001b[1;36m4\u001b[0m\u001b[1;33m]\u001b[0m\u001b[1;33m,\u001b[0m \u001b[0manno_list\u001b[0m\u001b[1;33m[\u001b[0m\u001b[1;33m:\u001b[0m\u001b[1;33m,\u001b[0m \u001b[1;36m4\u001b[0m\u001b[1;33m]\u001b[0m\u001b[1;33m)\u001b[0m\u001b[1;33m\u001b[0m\u001b[1;33m\u001b[0m\u001b[0m\n\u001b[0m\u001b[0;32m    256\u001b[0m \u001b[1;33m\u001b[0m\u001b[0m\n\u001b[0;32m    257\u001b[0m         \u001b[1;31m# 色チャネルの順番がBGRになっているので、RGBに順番変更\u001b[0m\u001b[1;33m\u001b[0m\u001b[1;33m\u001b[0m\u001b[0m\n",
      "\u001b[1;31mIndexError\u001b[0m: index 4 is out of bounds for axis 1 with size 0"
     ]
    }
   ],
   "source": [
    "ds_tr.__getitem__(1)\n",
    "# display(ds_tr.anno_list.head(1))\n",
    "# display(ds_tr.anno_list[ds_tr.anno_list.apply(len)==1].head(1))\n",
    "# display(ds_tr.anno_list[ds_tr.anno_list.apply(len)>1].head(1))"
   ]
  },
  {
   "cell_type": "code",
   "execution_count": null,
   "id": "2cd3f98b-a526-431f-a2c4-82c3781012cc",
   "metadata": {},
   "outputs": [],
   "source": [
    "ds_tr.anno_list[1155]"
   ]
  },
  {
   "cell_type": "code",
   "execution_count": null,
   "id": "720e75d5-829c-41a0-89e2-0f27884e660b",
   "metadata": {},
   "outputs": [],
   "source": [
    "import dataset as ds\n",
    "ds.make_datapath(df, 0)"
   ]
  },
  {
   "cell_type": "code",
   "execution_count": null,
   "id": "15900c0b-9f36-4c69-a311-d293d7fdb051",
   "metadata": {},
   "outputs": [],
   "source": [
    "import cv2\n",
    "t=cv2.imread('..\\train_images\\0-1.jpg')\n",
    "t"
   ]
  },
  {
   "cell_type": "code",
   "execution_count": 6,
   "id": "6f7986d9-f40c-4b23-bddc-a9afad81b9ce",
   "metadata": {},
   "outputs": [
    {
     "data": {
      "text/plain": [
       "array([], shape=(0, 0), dtype=float64)"
      ]
     },
     "execution_count": 6,
     "metadata": {},
     "output_type": "execute_result"
    }
   ],
   "source": [
    "import numpy as np\n",
    "np.empty((0, 0))"
   ]
  },
  {
   "cell_type": "code",
   "execution_count": 8,
   "id": "111494ff-7835-4f0a-a1fd-132fbd43e303",
   "metadata": {},
   "outputs": [
    {
     "data": {
      "text/plain": [
       "[[1, 2, 3, 4, 0], [1, 2, 3, 4, 0]]"
      ]
     },
     "execution_count": 8,
     "metadata": {},
     "output_type": "execute_result"
    }
   ],
   "source": [
    "x_min, x_max, width, height = 1,2,3,4\n",
    "ret = list()\n",
    "ret += [[x_min, x_max, width, height, 0]]\n",
    "ret += [[x_min, x_max, width, height, 0]]\n",
    "ret"
   ]
  },
  {
   "cell_type": "code",
   "execution_count": 8,
   "id": "bca1e380-2f0f-47bf-9128-eb5e3c54fe3e",
   "metadata": {},
   "outputs": [
    {
     "data": {
      "text/plain": [
       "[]"
      ]
     },
     "execution_count": 8,
     "metadata": {},
     "output_type": "execute_result"
    }
   ],
   "source": [
    "list()"
   ]
  },
  {
   "cell_type": "code",
   "execution_count": null,
   "id": "90f9b9d2-151e-4fb5-9160-641833a03109",
   "metadata": {},
   "outputs": [],
   "source": [
    "list()"
   ]
  }
 ],
 "metadata": {
  "kernelspec": {
   "display_name": "Python 3 (ipykernel)",
   "language": "python",
   "name": "python3"
  },
  "language_info": {
   "codemirror_mode": {
    "name": "ipython",
    "version": 3
   },
   "file_extension": ".py",
   "mimetype": "text/x-python",
   "name": "python",
   "nbconvert_exporter": "python",
   "pygments_lexer": "ipython3",
   "version": "3.9.7"
  }
 },
 "nbformat": 4,
 "nbformat_minor": 5
}

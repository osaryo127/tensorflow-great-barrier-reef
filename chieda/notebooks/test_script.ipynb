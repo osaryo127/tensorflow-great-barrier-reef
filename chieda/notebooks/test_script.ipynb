{
 "cells": [
  {
   "cell_type": "code",
   "execution_count": 50,
   "id": "6a4d6157-e278-4e86-9823-0ae905c72007",
   "metadata": {},
   "outputs": [],
   "source": [
    "import os.path as osp\n",
    "import shutil\n",
    "import ast\n",
    "import numpy as np\n",
    "import pandas as pd\n",
    "from sklearn import model_selection\n",
    "from tqdm import tqdm\n",
    "\n",
    "DATA_PATH = \"../\"\n",
    "OUTPUT_PATH = \"../\""
   ]
  },
  {
   "cell_type": "code",
   "execution_count": 51,
   "id": "604a1dcc-c4b1-4a39-bf19-08967a9fed5a",
   "metadata": {},
   "outputs": [],
   "source": [
    "df = pd.read_csv(osp.join(DATA_PATH, \"train.csv\"))\n",
    "df.annotations = df.annotations.apply(ast.literal_eval)\n",
    "df = df[df.annotations.apply(len) > 0].reset_index(drop=True)\n",
    "df_tr, df_va = model_selection.train_test_split(\n",
    "    df, test_size=0.25, random_state=42, shuffle=True\n",
    ")\n",
    "df_tr = df_tr.reset_index(drop=True)\n",
    "# df_va = df_va.reset_index(drop=True)"
   ]
  },
  {
   "cell_type": "code",
   "execution_count": 52,
   "id": "552fca01-1a2d-4e62-beea-333f6770c784",
   "metadata": {},
   "outputs": [
    {
     "name": "stderr",
     "output_type": "stream",
     "text": [
      "100%|█████████████████████████████████████████████████████████████████████████████| 3689/3689 [00:26<00:00, 139.10it/s]\n"
     ]
    }
   ],
   "source": [
    "data_type = \"train\"\n",
    "for _, row in tqdm(df_tr.iterrows(), total=len(df_tr)):\n",
    "    image_name = row[\"image_id\"]\n",
    "    annos = row[\"annotations\"]\n",
    "    data_ = []\n",
    "    for anno in annos:\n",
    "        x_center = anno['x'] + anno['width'] / 2\n",
    "        y_center = anno['y'] + anno['height'] / 2\n",
    "        x_center /= 1280\n",
    "        y_center /= 720\n",
    "        data_.append([0, x_center, y_center, anno['width'], anno['height']])\n",
    "    data_ = np.array(data_)\n",
    "    np.savetxt(\n",
    "        osp.join(OUTPUT_PATH, f\"annotations/{data_type}/{image_name}.txt\"),\n",
    "        data_,\n",
    "        fmt=[\"%d\", \"%f\", \"%f\", \"%f\", \"%f\"],\n",
    "    )\n",
    "    shutil.copyfile(\n",
    "        osp.join(DATA_PATH, f\"train_images/video_{image_name[0]}/{image_name[2:]}.jpg\"),\n",
    "        osp.join(OUTPUT_PATH, f\"processed_images/{data_type}/{image_name}.jpg\"),\n",
    "    )"
   ]
  },
  {
   "cell_type": "code",
   "execution_count": 49,
   "id": "1d426564-1a42-41fb-bbc7-5f76e816f56d",
   "metadata": {},
   "outputs": [
    {
     "data": {
      "text/plain": [
       "'1-2012'"
      ]
     },
     "execution_count": 49,
     "metadata": {},
     "output_type": "execute_result"
    }
   ],
   "source": [
    "image_name"
   ]
  },
  {
   "cell_type": "code",
   "execution_count": 32,
   "id": "4d4f5006-a467-433f-90b8-db86328a65fd",
   "metadata": {},
   "outputs": [
    {
     "data": {
      "text/plain": [
       "[{'x': 815, 'y': 312, 'width': 49, 'height': 59}]"
      ]
     },
     "execution_count": 32,
     "metadata": {},
     "output_type": "execute_result"
    }
   ],
   "source": [
    "annos"
   ]
  },
  {
   "cell_type": "code",
   "execution_count": 33,
   "id": "1d90b054-9ee2-4b46-abfd-450dca43e7bc",
   "metadata": {},
   "outputs": [
    {
     "data": {
      "text/plain": [
       "{'x': 815, 'y': 312, 'width': 49, 'height': 59}"
      ]
     },
     "execution_count": 33,
     "metadata": {},
     "output_type": "execute_result"
    }
   ],
   "source": [
    "anno"
   ]
  },
  {
   "cell_type": "code",
   "execution_count": 53,
   "id": "578f74ed-7525-42dd-8552-0c1580614c0a",
   "metadata": {},
   "outputs": [
    {
     "name": "stderr",
     "output_type": "stream",
     "text": [
      "100%|█████████████████████████████████████████████████████████████████████████████| 3689/3689 [00:05<00:00, 649.60it/s]\n",
      "100%|██████████████████████████████████████████████████████████████████████████████| 1230/1230 [00:12<00:00, 97.69it/s]\n"
     ]
    }
   ],
   "source": [
    "%run ../script/cots_data.py"
   ]
  },
  {
   "cell_type": "code",
   "execution_count": null,
   "id": "2cc55cd4-ba59-4585-b51c-949eaa11781b",
   "metadata": {},
   "outputs": [],
   "source": []
  }
 ],
 "metadata": {
  "kernelspec": {
   "display_name": "Python 3 (ipykernel)",
   "language": "python",
   "name": "python3"
  },
  "language_info": {
   "codemirror_mode": {
    "name": "ipython",
    "version": 3
   },
   "file_extension": ".py",
   "mimetype": "text/x-python",
   "name": "python",
   "nbconvert_exporter": "python",
   "pygments_lexer": "ipython3",
   "version": "3.9.7"
  }
 },
 "nbformat": 4,
 "nbformat_minor": 5
}

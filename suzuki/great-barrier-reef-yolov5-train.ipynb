{
 "cells": [
  {
   "cell_type": "markdown",
   "id": "149287cd",
   "metadata": {
    "papermill": {
     "duration": 0.042519,
     "end_time": "2021-11-27T11:42:20.763480",
     "exception": false,
     "start_time": "2021-11-27T11:42:20.720961",
     "status": "completed"
    },
    "tags": []
   },
   "source": [
    "# [Tensorflow - Help Protect the Great Barrier Reef](https://www.kaggle.com/c/tensorflow-great-barrier-reef)\n",
    "> 水中の画像データからオニヒトデを検出する"
   ]
  },
  {
   "cell_type": "markdown",
   "id": "e65778ca",
   "metadata": {
    "papermill": {
     "duration": 0.040299,
     "end_time": "2021-11-27T11:42:20.846452",
     "exception": false,
     "start_time": "2021-11-27T11:42:20.806153",
     "status": "completed"
    },
    "tags": []
   },
   "source": [
    "## 📒 Notebooks:\n",
    "copy&edit\n",
    "* Train: [Great-Barrier-Reef: YOLOv5 [train] 🌊](https://www.kaggle.com/awsaf49/great-barrier-reef-yolov5-train)\n",
    "* Infer: [Great-Barrier-Reef: YOLOv5 [infer] 🌊](https://www.kaggle.com/awsaf49/great-barrier-reef-yolov5-infer)"
   ]
  },
  {
   "cell_type": "markdown",
   "id": "9064bca4",
   "metadata": {
    "papermill": {
     "duration": 0.039386,
     "end_time": "2021-11-27T11:42:20.926160",
     "exception": false,
     "start_time": "2021-11-27T11:42:20.886774",
     "status": "completed"
    },
    "tags": []
   },
   "source": [
    "# 🛠 必要なライブラリのインストール\n",
    "* imagesize: 画像のサイズを測定できる\n",
    "* wandb: 実験管理ができるライブラリ\n",
    "    * [参考サイト](https://www.nogawanogawa.com/entry/wandb)\n",
    "    * [公式チュートリアル](https://docs.wandb.ai/)\n",
    "* libstdc++6: おそらくopencvのために必要なもの"
   ]
  },
  {
   "cell_type": "code",
   "execution_count": null,
   "id": "dd16142c",
   "metadata": {
    "_kg_hide-input": true,
    "_kg_hide-output": true,
    "papermill": {
     "duration": 262.258908,
     "end_time": "2021-11-27T11:46:43.224919",
     "exception": false,
     "start_time": "2021-11-27T11:42:20.966011",
     "status": "completed"
    },
    "tags": []
   },
   "outputs": [],
   "source": [
    "!pip install -q imagesize\n",
    "!pip install -qU wandb\n",
    "!add-apt-repository ppa:ubuntu-toolchain-r/test -y\n",
    "!apt-get update\n",
    "!apt-get upgrade libstdc++6 -y"
   ]
  },
  {
   "cell_type": "markdown",
   "id": "da725d68",
   "metadata": {
    "papermill": {
     "duration": 0.111553,
     "end_time": "2021-11-27T11:46:43.448178",
     "exception": false,
     "start_time": "2021-11-27T11:46:43.336625",
     "status": "completed"
    },
    "tags": []
   },
   "source": [
    "# 📚 Import Libraries"
   ]
  },
  {
   "cell_type": "code",
   "execution_count": null,
   "id": "725dd6db",
   "metadata": {
    "_cell_guid": "b1076dfc-b9ad-4769-8c92-a6c4dae69d19",
    "_uuid": "8f2839f25d086af736a60e9eeb907d3b93b6e0e5",
    "papermill": {
     "duration": 0.543054,
     "end_time": "2021-11-27T11:46:44.170009",
     "exception": false,
     "start_time": "2021-11-27T11:46:43.626955",
     "status": "completed"
    },
    "tags": []
   },
   "outputs": [],
   "source": [
    "from itertools import groupby\n",
    "import numpy as np\n",
    "from tqdm.notebook import tqdm\n",
    "tqdm.pandas()\n",
    "import pandas as pd\n",
    "import os\n",
    "import pickle\n",
    "import cv2\n",
    "from multiprocessing import Pool\n",
    "import matplotlib.pyplot as plt\n",
    "# import cupy as cp\n",
    "import ast\n",
    "import glob\n",
    "\n",
    "import torch\n",
    "from PIL import Image\n",
    "\n",
    "import shutil\n",
    "\n",
    "import sys\n",
    "sys.path.append('/workspace/cots/data')\n",
    "# sys.path.append('../input/tensorflow-great-barrier-reef')\n",
    "\n",
    "from joblib import Parallel, delayed\n",
    "import imagesize"
   ]
  },
  {
   "cell_type": "markdown",
   "id": "8dd3d80b-9373-4d68-afaa-a1fc85c19eda",
   "metadata": {},
   "source": [
    "# 📌 キーポイント\n",
    "* これまでの物体検出コンペと違って**python time-series API**を使って予測が行われる\n",
    "* BBoxの提出フォーマットはCOCO形式 `[x_min, y_min, width, height]`\n",
    "* 今回の評価指標は`F2`なので、Recall重視の方が評価指標が上がりやすい。つまり、オニヒトデの誤検出より、見逃し減らすようにした方がスコアが上がりやすい\n",
    "$$F2 = 5 \\cdot \\frac{precision \\cdot recall}{4\\cdot precision + recall}$$"
   ]
  },
  {
   "cell_type": "markdown",
   "id": "d62f7846",
   "metadata": {
    "papermill": {
     "duration": 0.107722,
     "end_time": "2021-11-27T11:46:44.942929",
     "exception": false,
     "start_time": "2021-11-27T11:46:44.835207",
     "status": "completed"
    },
    "tags": []
   },
   "source": [
    "# ⭐ WandB\n",
    "\n",
    "Weights & Biases (W&B) は、MLOpsの実験をトラッキングするためのプラットフォーム。実験のトラッキング、データセットのバージョニング、モデルの管理ができる。\n",
    "\n",
    "W&Bの良い機能を一部紹介(copy元の著者由来)\n",
    "\n",
    "* 実験の追跡、比較、可視化\n",
    "* ライブメトリクス(live metrics)、ターミナルログ、システム統計情報(system stats)をダッシュボードで見れる\n",
    "* モデルのバージョンがどのように改善されたかをグラフで示せる"
   ]
  },
  {
   "cell_type": "markdown",
   "id": "d70913e9",
   "metadata": {
    "papermill": {
     "duration": 0.105829,
     "end_time": "2021-11-27T11:46:45.155045",
     "exception": false,
     "start_time": "2021-11-27T11:46:45.049216",
     "status": "completed"
    },
    "tags": []
   },
   "source": [
    "# 📖 Meta Data\n",
    "* `train_images/` - `video_{video_id}/{video_frame}.jpg`という形での学習画像が含まれるフォルダ\n",
    "\n",
    "* `[train/test].csv` - 画像のメタ情報。テストのメタデータはsubmitしたときにダウンロードされる。submit前は3つの画像に関する情報しかない\n",
    "* `video_id` - 画像の含まれるvideoのID番号。video_idの順序に特に意味はない。\n",
    "* `video_frame` - video中に含まれる画像のフレーム番号。同じvideo_idでもダイバーの潜水、浮上があったりするため、急に視点が変わったりする。\n",
    "* `sequence` - 先ほどのダイバーの潜水、浮上ごとにvideoを細かく分けた時のid。順序に大きな意味はない(著者はこう言ってるが...本当に意味がないのか?)\n",
    "* `sequence_frame` - sequence中の画像のフレーム番号。\n",
    "* `image_id` - `{video_id}-{video_frame}`\n",
    "* `annotations` - オニヒトデのbbox情報。提出する際のフォーマットではないことに注意。`test.csv`では利用できない。このbbox情報の形式はbboxの左下の座標`(x_min, y_min)`と、そこからの`width`と`height`で記載されていて、これはCOCO formatと呼ばれるらしい。\n"
   ]
  },
  {
   "cell_type": "code",
   "execution_count": null,
   "id": "7460fcd5",
   "metadata": {
    "papermill": {
     "duration": 0.113584,
     "end_time": "2021-11-27T11:46:45.373743",
     "exception": false,
     "start_time": "2021-11-27T11:46:45.260159",
     "status": "completed"
    },
    "tags": []
   },
   "outputs": [],
   "source": [
    "# FOLD      = 4 # which fold to train 0 ~ 4\n",
    "REMOVE_NOBBOX = True # remove images with no bbox\n",
    "DATA_DIR  = '/workspace/cots/data'\n",
    "IMAGE_DIR = f'{DATA_DIR}/images' # directory to save images\n",
    "LABEL_DIR = f'{DATA_DIR}/labels' # directory to save labels"
   ]
  },
  {
   "cell_type": "markdown",
   "id": "eeb73332",
   "metadata": {
    "papermill": {
     "duration": 0.105998,
     "end_time": "2021-11-27T11:46:45.585298",
     "exception": false,
     "start_time": "2021-11-27T11:46:45.479300",
     "status": "completed"
    },
    "tags": []
   },
   "source": [
    "## Create Directories"
   ]
  },
  {
   "cell_type": "code",
   "execution_count": null,
   "id": "7879c06e",
   "metadata": {
    "papermill": {
     "duration": 1.409109,
     "end_time": "2021-11-27T11:46:47.100536",
     "exception": false,
     "start_time": "2021-11-27T11:46:45.691427",
     "status": "completed"
    },
    "tags": []
   },
   "outputs": [],
   "source": [
    "# -p : 必要に応じて親ディレクトリも作成\n",
    "!mkdir -p {IMAGE_DIR}\n",
    "!mkdir -p {LABEL_DIR}"
   ]
  },
  {
   "cell_type": "markdown",
   "id": "282177ab",
   "metadata": {
    "papermill": {
     "duration": 0.107108,
     "end_time": "2021-11-27T11:46:47.321408",
     "exception": false,
     "start_time": "2021-11-27T11:46:47.214300",
     "status": "completed"
    },
    "tags": []
   },
   "source": [
    "## Get Paths"
   ]
  },
  {
   "cell_type": "code",
   "execution_count": null,
   "id": "35c76794",
   "metadata": {
    "papermill": {
     "duration": 0.114065,
     "end_time": "2021-11-27T11:46:47.541052",
     "exception": false,
     "start_time": "2021-11-27T11:46:47.426987",
     "status": "completed"
    },
    "tags": []
   },
   "outputs": [],
   "source": [
    "def get_path(row):\n",
    "    \"\"\"\n",
    "    画像のpathを格納する\n",
    "    \"\"\"\n",
    "    row['old_image_path'] = f'{DATA_DIR}/train_images/video_{row.video_id}/{row.video_frame}.jpg'\n",
    "    row['image_path'] = f'{IMAGE_DIR}/video_{row.video_id}_{row.video_frame}.jpg'\n",
    "    row['label_path'] = f'{LABEL_DIR}/video_{row.video_id}_{row.video_frame}.txt'\n",
    "    return row"
   ]
  },
  {
   "cell_type": "code",
   "execution_count": null,
   "id": "72a5f55a",
   "metadata": {
    "papermill": {
     "duration": 40.245851,
     "end_time": "2021-11-27T11:47:27.893054",
     "exception": false,
     "start_time": "2021-11-27T11:46:47.647203",
     "status": "completed"
    },
    "tags": []
   },
   "outputs": [],
   "source": [
    "# Train Data\n",
    "\n",
    "# df = df.progress_apply(get_path, axis=1)\n",
    "# df['annotations'] = df['annotations'].progress_apply(lambda x: ast.literal_eval(x))\n",
    "\n",
    "df = pd.read_csv(f'{DATA_DIR}/train.csv')\n",
    "df = df.apply(get_path, axis=1)\n",
    "# 文字列をリストに変換\n",
    "df['annotations'] = df['annotations'].apply(lambda x: ast.literal_eval(x))\n",
    "display(df.head(2))"
   ]
  },
  {
   "cell_type": "markdown",
   "id": "a9a23a19",
   "metadata": {
    "papermill": {
     "duration": 0.108708,
     "end_time": "2021-11-27T11:47:28.110039",
     "exception": false,
     "start_time": "2021-11-27T11:47:28.001331",
     "status": "completed"
    },
    "tags": []
   },
   "source": [
    "## Number of BBoxes\n",
    "> trainの大体80%はオニヒトデが写ってない"
   ]
  },
  {
   "cell_type": "code",
   "execution_count": null,
   "id": "310fdb9d",
   "metadata": {
    "papermill": {
     "duration": 0.209493,
     "end_time": "2021-11-27T11:47:28.428087",
     "exception": false,
     "start_time": "2021-11-27T11:47:28.218594",
     "status": "completed"
    },
    "tags": []
   },
   "outputs": [],
   "source": [
    "# df['num_bbox'] = df['annotations'].progress_apply(lambda x: len(x))\n",
    "df['num_bbox'] = df['annotations'].apply(lambda x: len(x))\n",
    "data = (df.num_bbox>0).value_counts(normalize=True)*100\n",
    "print(f\"No BBox: {data[0]:0.2f}% | With BBox: {data[1]:0.2f}%\")"
   ]
  },
  {
   "cell_type": "markdown",
   "id": "e50b1a51",
   "metadata": {
    "papermill": {
     "duration": 0.111017,
     "end_time": "2021-11-27T11:47:28.648489",
     "exception": false,
     "start_time": "2021-11-27T11:47:28.537472",
     "status": "completed"
    },
    "tags": []
   },
   "source": [
    "# 🧹 Clean Data (オニヒトデが写ってるデータのみに)\n",
    "\n",
    "* 学習データはオニヒトデが写ってるデータのみに制限する(copy元の著者は簡単に実験できるからこうしているとのこと)\n",
    "    * オニヒトデが写っていないデータを学習にうまいこと使う　or　アノテーション漏れしてるデータを追加するのは有効かも"
   ]
  },
  {
   "cell_type": "code",
   "execution_count": null,
   "id": "a242676d",
   "metadata": {
    "papermill": {
     "duration": 0.137207,
     "end_time": "2021-11-27T11:47:28.897874",
     "exception": false,
     "start_time": "2021-11-27T11:47:28.760667",
     "status": "completed"
    },
    "tags": []
   },
   "outputs": [],
   "source": [
    "if REMOVE_NOBBOX:\n",
    "    df = df.query(\"num_bbox>0\")"
   ]
  },
  {
   "cell_type": "markdown",
   "id": "a4118745-9e1c-467b-b166-d68f69541794",
   "metadata": {},
   "source": [
    "尾崎さんのaugmentationを入れるならこの辺りで導入するべきかな?"
   ]
  },
  {
   "cell_type": "markdown",
   "id": "201220cd",
   "metadata": {
    "papermill": {
     "duration": 0.113327,
     "end_time": "2021-11-27T11:47:29.123571",
     "exception": false,
     "start_time": "2021-11-27T11:47:29.010244",
     "status": "completed"
    },
    "tags": []
   },
   "source": [
    "# ✏️ Write Images (学習するための画像を抽出)\n",
    "\n",
    "* kaggle　notebook上で行うときには、kaggle notebookのデフォルトのcurrent directory(`/kaggle/working`)に(`/kaggle/input`)からコピーしないと、書き込み権限が`/kaggle/input`にないため、yolov5を動かした時にエラーになる\n",
    "* この処理は**Joblib**の**Parallel**で高速化できる"
   ]
  },
  {
   "cell_type": "code",
   "execution_count": null,
   "id": "49c4bf96",
   "metadata": {
    "papermill": {
     "duration": 0.118096,
     "end_time": "2021-11-27T11:47:29.353381",
     "exception": false,
     "start_time": "2021-11-27T11:47:29.235285",
     "status": "completed"
    },
    "tags": []
   },
   "outputs": [],
   "source": [
    "def make_copy(path):\n",
    "    data = path.split('/')\n",
    "    filename = data[-1]\n",
    "    video_id = data[-2]\n",
    "    new_path = os.path.join(IMAGE_DIR,f'{video_id}_{filename}')\n",
    "    shutil.copy(path, new_path)\n",
    "    return"
   ]
  },
  {
   "cell_type": "code",
   "execution_count": null,
   "id": "224ea3e6",
   "metadata": {
    "papermill": {
     "duration": 28.524822,
     "end_time": "2021-11-27T11:47:57.990053",
     "exception": false,
     "start_time": "2021-11-27T11:47:29.465231",
     "status": "completed"
    },
    "tags": []
   },
   "outputs": [],
   "source": [
    "image_paths = df.old_image_path.tolist()\n",
    "_ = Parallel(n_jobs=-1, backend='threading')(delayed(make_copy)(path) for path in tqdm(image_paths))"
   ]
  },
  {
   "cell_type": "markdown",
   "id": "f065547b",
   "metadata": {
    "papermill": {
     "duration": 0.112018,
     "end_time": "2021-11-27T11:47:58.221801",
     "exception": false,
     "start_time": "2021-11-27T11:47:58.109783",
     "status": "completed"
    },
    "tags": []
   },
   "source": [
    "# 🔨 Helper\n",
    "\n",
    "主に\n",
    "* bboxのアノテーションの形式(coco->yolo, voc->yolo など)を変える関数\n",
    "* 画像を描画するための関数\n",
    "が定義されてる"
   ]
  },
  {
   "cell_type": "code",
   "execution_count": null,
   "id": "0d686b8c",
   "metadata": {
    "_kg_hide-input": true,
    "papermill": {
     "duration": 0.170947,
     "end_time": "2021-11-27T11:47:58.520553",
     "exception": false,
     "start_time": "2021-11-27T11:47:58.349606",
     "status": "completed"
    },
    "tags": []
   },
   "outputs": [],
   "source": [
    "def voc2yolo(image_height, image_width, bboxes):\n",
    "    \"\"\"\n",
    "    voc  => [x1, y1, x2, y1]\n",
    "    yolo => [xmid, ymid, w, h] (normalized)\n",
    "    \"\"\"\n",
    "\n",
    "    bboxes = bboxes.copy().astype(float) # otherwise all value will be 0 as voc_pascal dtype is np.int\n",
    "    \n",
    "    bboxes[..., [0, 2]] = bboxes[..., [0, 2]]/ image_width\n",
    "    bboxes[..., [1, 3]] = bboxes[..., [1, 3]]/ image_height\n",
    "    \n",
    "    w = bboxes[..., 2] - bboxes[..., 0]\n",
    "    h = bboxes[..., 3] - bboxes[..., 1]\n",
    "    \n",
    "    bboxes[..., 0] = bboxes[..., 0] + w/2\n",
    "    bboxes[..., 1] = bboxes[..., 1] + h/2\n",
    "    bboxes[..., 2] = w\n",
    "    bboxes[..., 3] = h\n",
    "    \n",
    "    return bboxes\n",
    "\n",
    "def yolo2voc(image_height, image_width, bboxes):\n",
    "    \"\"\"\n",
    "    yolo => [xmid, ymid, w, h] (normalized)\n",
    "    voc  => [x1, y1, x2, y1]\n",
    "    \n",
    "    \"\"\" \n",
    "    bboxes = bboxes.copy().astype(float) # otherwise all value will be 0 as voc_pascal dtype is np.int\n",
    "    \n",
    "    bboxes[..., [0, 2]] = bboxes[..., [0, 2]]* image_width\n",
    "    bboxes[..., [1, 3]] = bboxes[..., [1, 3]]* image_height\n",
    "    \n",
    "    bboxes[..., [0, 1]] = bboxes[..., [0, 1]] - bboxes[..., [2, 3]]/2\n",
    "    bboxes[..., [2, 3]] = bboxes[..., [0, 1]] + bboxes[..., [2, 3]]\n",
    "    \n",
    "    return bboxes\n",
    "\n",
    "def coco2yolo(image_height, image_width, bboxes):\n",
    "    \"\"\"\n",
    "    cocoフォーマットから、yoloフォーマット\n",
    "    coco => [xmin, ymin, w, h]\n",
    "    yolo => [xmid, ymid, w, h] (normalized)\n",
    "    \"\"\"\n",
    "    \n",
    "    bboxes = bboxes.copy().astype(float) # otherwise all value will be 0 as voc_pascal dtype is np.int\n",
    "    \n",
    "    # normolizinig\n",
    "    bboxes[..., [0, 2]]= bboxes[..., [0, 2]]/ image_width\n",
    "    bboxes[..., [1, 3]]= bboxes[..., [1, 3]]/ image_height\n",
    "    \n",
    "    # converstion (xmin, ymin) => (xmid, ymid)\n",
    "    bboxes[..., [0, 1]] = bboxes[..., [0, 1]] + bboxes[..., [2, 3]]/2\n",
    "    \n",
    "    return bboxes\n",
    "\n",
    "def yolo2coco(image_height, image_width, bboxes):\n",
    "    \"\"\"\n",
    "    yoloフォーマットからcocoフォーマット\n",
    "    yolo => [xmid, ymid, w, h] (normalized)\n",
    "    coco => [xmin, ymin, w, h]\n",
    "    \n",
    "    \"\"\" \n",
    "    bboxes = bboxes.copy().astype(float) # otherwise all value will be 0 as voc_pascal dtype is np.int\n",
    "    \n",
    "    # denormalizing\n",
    "    bboxes[..., [0, 2]]= bboxes[..., [0, 2]]* image_width\n",
    "    bboxes[..., [1, 3]]= bboxes[..., [1, 3]]* image_height\n",
    "    \n",
    "    # converstion (xmid, ymid) => (xmin, ymin) \n",
    "    bboxes[..., [0, 1]] = bboxes[..., [0, 1]] - bboxes[..., [2, 3]]/2\n",
    "    \n",
    "    return bboxes\n",
    "\n",
    "\n",
    "def voc2coco(bboxes, image_height=720, image_width=1280):\n",
    "    bboxes  = voc2yolo(image_height, image_width, bboxes)\n",
    "    bboxes  = yolo2coco(image_height, image_width, bboxes)\n",
    "    return bboxes\n",
    "\n",
    "\n",
    "def load_image(image_path):\n",
    "    return cv2.cvtColor(cv2.imread(image_path), cv2.COLOR_BGR2RGB)\n",
    "\n",
    "\n",
    "def plot_one_box(x, img, color=None, label=None, line_thickness=None):\n",
    "    # Plots one bounding box on image img\n",
    "    tl = line_thickness or round(0.002 * (img.shape[0] + img.shape[1]) / 2) + 1  # line/font thickness\n",
    "    color = color or [random.randint(0, 255) for _ in range(3)]\n",
    "    c1, c2 = (int(x[0]), int(x[1])), (int(x[2]), int(x[3]))\n",
    "    cv2.rectangle(img, c1, c2, color, thickness=tl, lineType=cv2.LINE_AA)\n",
    "    if label:\n",
    "        tf = max(tl - 1, 1)  # font thickness\n",
    "        t_size = cv2.getTextSize(label, 0, fontScale=tl / 3, thickness=tf)[0]\n",
    "        c2 = c1[0] + t_size[0], c1[1] - t_size[1] - 3\n",
    "        cv2.rectangle(img, c1, c2, color, -1, cv2.LINE_AA)  # filled\n",
    "        cv2.putText(img, label, (c1[0], c1[1] - 2), 0, tl / 3, [225, 255, 255], thickness=tf, lineType=cv2.LINE_AA)\n",
    "\n",
    "def draw_bboxes(img, bboxes, classes, class_ids, colors = None, show_classes = None, bbox_format = 'yolo', class_name = False, line_thickness = 2):  \n",
    "     \n",
    "    image = img.copy()\n",
    "    show_classes = classes if show_classes is None else show_classes\n",
    "    colors = (0, 255 ,0) if colors is None else colors\n",
    "    \n",
    "    if bbox_format == 'yolo':\n",
    "        \n",
    "        for idx in range(len(bboxes)):  \n",
    "            \n",
    "            bbox  = bboxes[idx]\n",
    "            cls   = classes[idx]\n",
    "            cls_id = class_ids[idx]\n",
    "            color = colors[cls_id] if type(colors) is list else colors\n",
    "            \n",
    "            if cls in show_classes:\n",
    "            \n",
    "                x1 = round(float(bbox[0])*image.shape[1])\n",
    "                y1 = round(float(bbox[1])*image.shape[0])\n",
    "                w  = round(float(bbox[2])*image.shape[1]/2) #w/2 \n",
    "                h  = round(float(bbox[3])*image.shape[0]/2)\n",
    "\n",
    "                voc_bbox = (x1-w, y1-h, x1+w, y1+h)\n",
    "                plot_one_box(voc_bbox, \n",
    "                             image,\n",
    "                             color = color,\n",
    "                             label = cls if class_name else str(get_label(cls)),\n",
    "                             line_thickness = line_thickness)\n",
    "            \n",
    "    elif bbox_format == 'coco':\n",
    "        \n",
    "        for idx in range(len(bboxes)):  \n",
    "            \n",
    "            bbox  = bboxes[idx]\n",
    "            cls   = classes[idx]\n",
    "            cls_id = class_ids[idx]\n",
    "            color = colors[cls_id] if type(colors) is list else colors\n",
    "            \n",
    "            if cls in show_classes:            \n",
    "                x1 = int(round(bbox[0]))\n",
    "                y1 = int(round(bbox[1]))\n",
    "                w  = int(round(bbox[2]))\n",
    "                h  = int(round(bbox[3]))\n",
    "\n",
    "                voc_bbox = (x1, y1, x1+w, y1+h)\n",
    "                plot_one_box(voc_bbox, \n",
    "                             image,\n",
    "                             color = color,\n",
    "                             label = cls if class_name else str(cls_id),\n",
    "                             line_thickness = line_thickness)\n",
    "\n",
    "    elif bbox_format == 'voc_pascal':\n",
    "        \n",
    "        for idx in range(len(bboxes)):  \n",
    "            \n",
    "            bbox  = bboxes[idx]\n",
    "            cls   = classes[idx]\n",
    "            cls_id = class_ids[idx]\n",
    "            color = colors[cls_id] if type(colors) is list else colors\n",
    "            \n",
    "            if cls in show_classes: \n",
    "                x1 = int(round(bbox[0]))\n",
    "                y1 = int(round(bbox[1]))\n",
    "                x2 = int(round(bbox[2]))\n",
    "                y2 = int(round(bbox[3]))\n",
    "                voc_bbox = (x1, y1, x2, y2)\n",
    "                plot_one_box(voc_bbox, \n",
    "                             image,\n",
    "                             color = color,\n",
    "                             label = cls if class_name else str(cls_id),\n",
    "                             line_thickness = line_thickness)\n",
    "    else:\n",
    "        raise ValueError('wrong bbox format')\n",
    "\n",
    "    return image\n",
    "\n",
    "def get_bbox(annots):\n",
    "    bboxes = [list(annot.values()) for annot in annots]\n",
    "    return bboxes\n",
    "\n",
    "def get_imgsize(row):\n",
    "    \"\"\"\n",
    "    画像自体のサイズの獲得\n",
    "    \"\"\"\n",
    "    row['width'], row['height'] = imagesize.get(row['image_path'])\n",
    "    return row\n",
    "\n",
    "\n",
    "def show_img(img, bboxes, bbox_format='yolo'):\n",
    "    names  = ['starfish']*len(bboxes)\n",
    "    labels = [0]*len(bboxes)\n",
    "    img    = draw_bboxes(img = img,\n",
    "                           bboxes = bboxes, \n",
    "                           classes = names,\n",
    "                           class_ids = labels,\n",
    "                           class_name = True, \n",
    "                           colors = colors, \n",
    "                           bbox_format = bbox_format,\n",
    "                           line_thickness = 2)\n",
    "    return Image.fromarray(img).resize((800, 400))\n",
    "\n",
    "\n",
    "np.random.seed(32)\n",
    "colors = [(np.random.randint(255), np.random.randint(255), np.random.randint(255))\\\n",
    "          for idx in range(1)]"
   ]
  },
  {
   "cell_type": "markdown",
   "id": "7adde098",
   "metadata": {
    "papermill": {
     "duration": 0.113032,
     "end_time": "2021-11-27T11:47:58.751852",
     "exception": false,
     "start_time": "2021-11-27T11:47:58.638820",
     "status": "completed"
    },
    "tags": []
   },
   "source": [
    "## Create BBox (数値だけの形に)"
   ]
  },
  {
   "cell_type": "code",
   "execution_count": null,
   "id": "0b0878ed",
   "metadata": {
    "papermill": {
     "duration": 0.183581,
     "end_time": "2021-11-27T11:47:59.045166",
     "exception": false,
     "start_time": "2021-11-27T11:47:58.861585",
     "status": "completed"
    },
    "tags": []
   },
   "outputs": [],
   "source": [
    "# df['bboxes'] = df.annotations.progress_apply(get_bbox)\n",
    "df['bboxes'] = df.annotations.apply(get_bbox)\n",
    "df.head(2)"
   ]
  },
  {
   "cell_type": "markdown",
   "id": "d14d9d6d",
   "metadata": {
    "papermill": {
     "duration": 0.111231,
     "end_time": "2021-11-27T11:47:59.268648",
     "exception": false,
     "start_time": "2021-11-27T11:47:59.157417",
     "status": "completed"
    },
    "tags": []
   },
   "source": [
    "## Get Image-Size (画像(jpg)のサイズは均等かどうか)\n",
    "> 全部の画像のサイズが(横, 縦) = (1280, 720)になってる"
   ]
  },
  {
   "cell_type": "code",
   "execution_count": null,
   "id": "142a69db",
   "metadata": {
    "papermill": {
     "duration": 6.648103,
     "end_time": "2021-11-27T11:48:06.027859",
     "exception": false,
     "start_time": "2021-11-27T11:47:59.379756",
     "status": "completed"
    },
    "tags": []
   },
   "outputs": [],
   "source": [
    "# df = df.progress_apply(get_imgsize,axis=1)\n",
    "df = df.apply(get_imgsize,axis=1)\n",
    "display(df.width.unique(), df.height.unique())\n",
    "display(df.head(2))"
   ]
  },
  {
   "cell_type": "markdown",
   "id": "a8422e0c",
   "metadata": {
    "papermill": {
     "duration": 0.116094,
     "end_time": "2021-11-27T11:48:06.269698",
     "exception": false,
     "start_time": "2021-11-27T11:48:06.153604",
     "status": "completed"
    },
    "tags": []
   },
   "source": [
    "# 🏷️ Create Labels (YOLOのフォーマットのBBox作成)\n",
    "コンペのbboxフォーマットはCOCOのものなのでYOLOのformatに変える必要がある \n",
    "\n",
    "yolov5の入力のために各画像ごとのbboxの情報を記載する`*.txt`が必要。`*.txt`の細かい指定は下記参照。\n",
    "\n",
    "* オブジェクトごとに1行 (1枚の画像にオニヒトデが2つあるなら２行になる)\n",
    "* 各行は`class_no, x_center, y_center, width, height`という形式 (bboxはyolo形式ということ)\n",
    "* bboxは0~1で正規化されていないといけない。つまり、`x_center`と`width`は画像の横(`image_width`)で、`y_center`と`height`は画像の縦(`image_height`)で除算する。\n",
    "* クラスは0始まり (そもそも今回はオニヒトデだけなので0だけだが)\n",
    "\n",
    "> コンペのbboxの形式はCOCO形式(`[x_min, y_min, width, height]`)なので、yolo形式(`[x_center, y_center, width, height]`)に変換する必要がある"
   ]
  },
  {
   "cell_type": "code",
   "execution_count": null,
   "id": "50039cf4",
   "metadata": {
    "_kg_hide-input": true,
    "papermill": {
     "duration": 2.777694,
     "end_time": "2021-11-27T11:48:09.160487",
     "exception": false,
     "start_time": "2021-11-27T11:48:06.382793",
     "status": "completed"
    },
    "tags": []
   },
   "outputs": [],
   "source": [
    "cnt = 0\n",
    "all_bboxes = []\n",
    "for row_idx in tqdm(range(df.shape[0])):\n",
    "    row = df.iloc[row_idx]\n",
    "    image_height = row.height\n",
    "    image_width  = row.width\n",
    "    bboxes_coco  = np.array(row.bboxes).astype(np.float32).copy()\n",
    "    num_bbox     = len(bboxes_coco)\n",
    "    names        = ['cots']*num_bbox\n",
    "    labels       = [0]*num_bbox\n",
    "    ## Create Annotation(YOLO)\n",
    "    with open(row.label_path, 'w') as f:\n",
    "        if num_bbox<1:\n",
    "            annot = ''\n",
    "            f.write(annot)\n",
    "            cnt+=1\n",
    "            continue\n",
    "        bboxes_yolo  = coco2yolo(image_height, image_width, bboxes_coco)\n",
    "        bboxes_yolo  = np.clip(bboxes_yolo, 0, 1)\n",
    "        all_bboxes.extend(bboxes_yolo)\n",
    "        for bbox_idx in range(len(bboxes_yolo)):\n",
    "            annot = [str(labels[bbox_idx])]+ list(bboxes_yolo[bbox_idx].astype(str))+(['\\n'] if num_bbox!=(bbox_idx+1) else [''])\n",
    "            annot = ' '.join(annot)\n",
    "            annot = annot.strip(' ')\n",
    "            f.write(annot)\n",
    "print('Missing:',cnt)"
   ]
  },
  {
   "cell_type": "markdown",
   "id": "7aaf2607",
   "metadata": {
    "papermill": {
     "duration": 0.11137,
     "end_time": "2021-11-27T11:48:09.383899",
     "exception": false,
     "start_time": "2021-11-27T11:48:09.272529",
     "status": "completed"
    },
    "tags": []
   },
   "source": [
    "# ⭕ BBox Distribution"
   ]
  },
  {
   "cell_type": "markdown",
   "id": "474c8c30",
   "metadata": {
    "papermill": {
     "duration": 0.112163,
     "end_time": "2021-11-27T11:48:09.607613",
     "exception": false,
     "start_time": "2021-11-27T11:48:09.495450",
     "status": "completed"
    },
    "tags": []
   },
   "source": [
    "## `x_center` Vs `y_center`\n",
    "画像のどこにアノテーションされたオニヒトデがいるのか\n",
    "\n",
    "-> だいたい真ん中あたりによくいらっしゃる"
   ]
  },
  {
   "cell_type": "code",
   "execution_count": null,
   "id": "03f8ed74",
   "metadata": {
    "_kg_hide-input": true,
    "papermill": {
     "duration": 3.884042,
     "end_time": "2021-11-27T11:48:13.603145",
     "exception": false,
     "start_time": "2021-11-27T11:48:09.719103",
     "status": "completed"
    },
    "tags": []
   },
   "outputs": [],
   "source": [
    "from scipy.stats import gaussian_kde\n",
    "\n",
    "all_bboxes = np.array(all_bboxes)\n",
    "\n",
    "x_val = all_bboxes[...,0]\n",
    "y_val = all_bboxes[...,1]\n",
    "\n",
    "# Calculate the point density\n",
    "xy = np.vstack([x_val,y_val])\n",
    "z = gaussian_kde(xy)(xy)\n",
    "\n",
    "fig, ax = plt.subplots(figsize = (10, 10))\n",
    "# ax.axis('off')\n",
    "ax.scatter(x_val, y_val, c=z, s=100, cmap='viridis')\n",
    "ax.set_xlabel('x_mid')\n",
    "ax.set_ylabel('y_mid')\n",
    "plt.show()"
   ]
  },
  {
   "cell_type": "markdown",
   "id": "4377a6ca",
   "metadata": {
    "papermill": {
     "duration": 0.118944,
     "end_time": "2021-11-27T11:48:13.842019",
     "exception": false,
     "start_time": "2021-11-27T11:48:13.723075",
     "status": "completed"
    },
    "tags": []
   },
   "source": [
    "## `width` Vs `height`\n",
    "bboxのサイズはどれくらいのものが多いのか\n",
    "\n",
    "-> 大体同じサイズのものが多く、どれも小さい"
   ]
  },
  {
   "cell_type": "code",
   "execution_count": null,
   "id": "c03e7624",
   "metadata": {
    "_kg_hide-input": true,
    "papermill": {
     "duration": 3.256857,
     "end_time": "2021-11-27T11:48:17.218002",
     "exception": false,
     "start_time": "2021-11-27T11:48:13.961145",
     "status": "completed"
    },
    "tags": []
   },
   "outputs": [],
   "source": [
    "x_val = all_bboxes[...,2]\n",
    "y_val = all_bboxes[...,3]\n",
    "\n",
    "# Calculate the point density\n",
    "xy = np.vstack([x_val,y_val])\n",
    "z = gaussian_kde(xy)(xy)\n",
    "\n",
    "fig, ax = plt.subplots(figsize = (10, 10))\n",
    "# ax.axis('off')\n",
    "ax.scatter(x_val, y_val, c=z, s=100, cmap='viridis')\n",
    "ax.set_xlabel('bbox_width')\n",
    "ax.set_ylabel('bbox_height')\n",
    "plt.show()"
   ]
  },
  {
   "cell_type": "markdown",
   "id": "cba06f00",
   "metadata": {
    "papermill": {
     "duration": 0.119691,
     "end_time": "2021-11-27T11:48:17.458579",
     "exception": false,
     "start_time": "2021-11-27T11:48:17.338888",
     "status": "completed"
    },
    "tags": []
   },
   "source": [
    "## Area\n",
    "\n",
    "bboxの面積"
   ]
  },
  {
   "cell_type": "code",
   "execution_count": null,
   "id": "aa4766b9",
   "metadata": {
    "_kg_hide-input": true,
    "papermill": {
     "duration": 0.47806,
     "end_time": "2021-11-27T11:48:18.056031",
     "exception": false,
     "start_time": "2021-11-27T11:48:17.577971",
     "status": "completed"
    },
    "tags": []
   },
   "outputs": [],
   "source": [
    "import seaborn as sns\n",
    "sns.set(style='white')\n",
    "areas = all_bboxes[...,2]*all_bboxes[...,3]*720*1280\n",
    "plt.figure(figsize=(12,8))\n",
    "sns.kdeplot(areas,shade=True,palette='viridis')\n",
    "# plt.axis('OFF')\n",
    "plt.show()"
   ]
  },
  {
   "cell_type": "markdown",
   "id": "12d24a9a",
   "metadata": {
    "papermill": {
     "duration": 0.197787,
     "end_time": "2021-11-27T11:48:18.471395",
     "exception": false,
     "start_time": "2021-11-27T11:48:18.273608",
     "status": "completed"
    },
    "tags": []
   },
   "source": [
    "# 🌈 Visualization\n",
    "オニヒトデ博士でない限り、目視で見たところでどこにオニヒトデがいるのかわからなさそう。"
   ]
  },
  {
   "cell_type": "code",
   "execution_count": null,
   "id": "7db12bb3",
   "metadata": {
    "_kg_hide-input": true,
    "papermill": {
     "duration": 4.924629,
     "end_time": "2021-11-27T11:48:23.584099",
     "exception": false,
     "start_time": "2021-11-27T11:48:18.659470",
     "status": "completed"
    },
    "tags": []
   },
   "outputs": [],
   "source": [
    "df2 = df[(df.num_bbox>0)].sample(100) # takes samples with bbox\n",
    "for idx in range(10):\n",
    "    row = df2.iloc[idx]\n",
    "    img           = load_image(row.image_path)\n",
    "    image_height  = row.height\n",
    "    image_width   = row.width\n",
    "    bboxes_coco   = np.array(row.bboxes)\n",
    "    bboxes_yolo   = coco2yolo(image_height, image_width, bboxes_coco)\n",
    "    names         = ['cots']*len(bboxes_coco)\n",
    "    labels        = [0]*len(bboxes_coco)\n",
    "\n",
    "    plt.figure(figsize = (12, 8))\n",
    "    plt.imshow(draw_bboxes(img = img,\n",
    "                           bboxes = bboxes_yolo, \n",
    "                           classes = names,\n",
    "                           class_ids = labels,\n",
    "                           class_name = True, \n",
    "                           colors = colors, \n",
    "                           bbox_format = 'yolo',\n",
    "                           line_thickness = 2))\n",
    "    plt.axis('OFF')\n",
    "    plt.show()"
   ]
  },
  {
   "cell_type": "markdown",
   "id": "c1491159",
   "metadata": {
    "papermill": {
     "duration": 0.31294,
     "end_time": "2021-11-27T11:48:24.200826",
     "exception": false,
     "start_time": "2021-11-27T11:48:23.887886",
     "status": "completed"
    },
    "tags": []
   },
   "source": [
    "# 📁 Create Folds\n",
    "**現在未使用**\n",
    "> 各フォールドのサンプル数が同じではないため、クロスバリデーションにおいて大きなばらつきが生じるとのこと"
   ]
  },
  {
   "cell_type": "code",
   "execution_count": null,
   "id": "f7590233",
   "metadata": {
    "papermill": {
     "duration": 0.391981,
     "end_time": "2021-11-27T11:48:24.896266",
     "exception": false,
     "start_time": "2021-11-27T11:48:24.504285",
     "status": "completed"
    },
    "tags": []
   },
   "outputs": [],
   "source": [
    "# from sklearn.model_selection import GroupKFold\n",
    "# kf = GroupKFold(n_splits = 5)\n",
    "# df = df.reset_index(drop=True)\n",
    "# df['fold'] = -1\n",
    "# for fold, (train_idx, val_idx) in enumerate(kf.split(df, y = df.video_id.tolist(), groups=df.sequence)):\n",
    "#     df.loc[val_idx, 'fold'] = fold\n",
    "# display(df.fold.value_counts().sort_index())"
   ]
  },
  {
   "cell_type": "markdown",
   "id": "9d6eaa0d-5b0d-4e37-97de-608371cea070",
   "metadata": {
    "tags": []
   },
   "source": [
    "## 📁 video_idで分割"
   ]
  },
  {
   "cell_type": "markdown",
   "id": "aab9b82c-6142-4399-8619-5b8f14050345",
   "metadata": {},
   "source": [
    "video_idごとの(ヒトデが写っている)画像の枚数"
   ]
  },
  {
   "cell_type": "code",
   "execution_count": null,
   "id": "a6fd588a-7516-4c36-b313-bcdfd13b6e9c",
   "metadata": {},
   "outputs": [],
   "source": [
    "df.groupby('video_id').sequence.count()"
   ]
  },
  {
   "cell_type": "markdown",
   "id": "2c791af3",
   "metadata": {
    "papermill": {
     "duration": 0.304484,
     "end_time": "2021-11-27T11:48:25.503724",
     "exception": false,
     "start_time": "2021-11-27T11:48:25.199240",
     "status": "completed"
    },
    "tags": []
   },
   "source": [
    "# 🍚 Dataset"
   ]
  },
  {
   "cell_type": "code",
   "execution_count": null,
   "id": "a47a391c",
   "metadata": {
    "papermill": {
     "duration": 0.325276,
     "end_time": "2021-11-27T11:48:26.136342",
     "exception": false,
     "start_time": "2021-11-27T11:48:25.811066",
     "status": "completed"
    },
    "tags": []
   },
   "outputs": [],
   "source": [
    "train_files = []\n",
    "val_files   = []\n",
    "train_df = df.query(\"video_id!=2\")\n",
    "valid_df = df.query(\"video_id==2\")\n",
    "train_files += list(train_df.image_path.unique())\n",
    "val_files += list(valid_df.image_path.unique())\n",
    "len(train_files), len(val_files)"
   ]
  },
  {
   "cell_type": "code",
   "execution_count": null,
   "id": "82d0ddb3-fb92-458f-8d4c-59473b6ae2d3",
   "metadata": {},
   "outputs": [],
   "source": [
    "# trainとvalidの割合\n",
    "print(\"train: \", round(len(train_files)/ (len(train_files) + len(val_files)) * 100, 1), '%')\n",
    "print(\"valid: \", round(len(val_files)/ (len(train_files) + len(val_files)) * 100, 1), '%')"
   ]
  },
  {
   "cell_type": "markdown",
   "id": "00bf0869",
   "metadata": {
    "papermill": {
     "duration": 0.305658,
     "end_time": "2021-11-27T11:48:26.753060",
     "exception": false,
     "start_time": "2021-11-27T11:48:26.447402",
     "status": "completed"
    },
    "tags": []
   },
   "source": [
    "# ⚙️ Configuration\n",
    "\n",
    "datasetのconfig fileが必要\n",
    "1. datasetのroot　dierectory pathと`train / val / test`の画像ファイルのディレクトリ(もしくは、画像のpathが記載された*.txtファイル)を記載する\n",
    "2. クラスの数を`nc`として記載する\n",
    "3. クラスのリストを `names` : `['cots']`という形で記載する \n",
    "\n",
    "この辺りは実際にyamlの中身を見た方が早い"
   ]
  },
  {
   "cell_type": "code",
   "execution_count": null,
   "id": "a54ecf8c",
   "metadata": {
    "papermill": {
     "duration": 0.353674,
     "end_time": "2021-11-27T11:48:27.412687",
     "exception": false,
     "start_time": "2021-11-27T11:48:27.059013",
     "status": "completed"
    },
    "tags": []
   },
   "outputs": [],
   "source": [
    "import yaml\n",
    "\n",
    "cwd = '/workspace/cots/data/'\n",
    "\n",
    "with open(os.path.join( cwd , 'train.txt'), 'w') as f:\n",
    "    for path in train_df.image_path.tolist():\n",
    "        f.write(path+'\\n')\n",
    "            \n",
    "with open(os.path.join(cwd , 'val.txt'), 'w') as f:\n",
    "    for path in valid_df.image_path.tolist():\n",
    "        f.write(path+'\\n')\n",
    "\n",
    "# backgroundのクラスを追加してみる\n",
    "data = dict(\n",
    "    path  = '/workspace/cots/data/',\n",
    "    train =  os.path.join( cwd , 'train.txt') ,\n",
    "    val   =  os.path.join( cwd , 'val.txt' ),\n",
    "    # nc    = 2,\n",
    "    nc = 1,\n",
    "    # names = ['cots', 'bg'],\n",
    "    names = ['cots']\n",
    "    )\n",
    "\n",
    "with open(os.path.join( cwd , 'tgbr.yaml'), 'w') as outfile:\n",
    "    yaml.dump(data, outfile, default_flow_style=False)\n",
    "\n",
    "f = open(os.path.join( cwd , 'tgbr.yaml'), 'r')\n",
    "print('\\nyaml:')\n",
    "print(f.read())"
   ]
  },
  {
   "cell_type": "markdown",
   "id": "9ade5ede",
   "metadata": {
    "jp-MarkdownHeadingCollapsed": true,
    "papermill": {
     "duration": 0.317663,
     "end_time": "2021-11-27T11:48:28.029787",
     "exception": false,
     "start_time": "2021-11-27T11:48:27.712124",
     "status": "completed"
    },
    "tags": []
   },
   "source": [
    "# 📦 [YOLOv5](https://github.com/ultralytics/yolov5/)"
   ]
  },
  {
   "cell_type": "markdown",
   "id": "20f4e3f7-ee44-4ce3-858b-239c29d2f50b",
   "metadata": {},
   "source": [
    "この辺りのディレクトリの配置はよしなに設定する"
   ]
  },
  {
   "cell_type": "code",
   "execution_count": null,
   "id": "44708855-a91b-47b0-9633-a601b9aecc73",
   "metadata": {
    "papermill": {
     "duration": 16.18586,
     "end_time": "2021-11-27T11:48:44.794659",
     "exception": false,
     "start_time": "2021-11-27T11:48:28.608799",
     "status": "completed"
    },
    "tags": []
   },
   "outputs": [],
   "source": [
    "# %cd data/\n",
    "# !rm -r data/yolov5\n",
    "# !git clone https://github.com/ultralytics/yolov5 # clone"
   ]
  },
  {
   "cell_type": "code",
   "execution_count": null,
   "id": "7e106410-4418-4785-87a9-9a6fa6ca1727",
   "metadata": {
    "papermill": {
     "duration": 16.18586,
     "end_time": "2021-11-27T11:48:44.794659",
     "exception": false,
     "start_time": "2021-11-27T11:48:28.608799",
     "status": "completed"
    },
    "tags": []
   },
   "outputs": [],
   "source": [
    "# !cp -r /kaggle/input/yolov5-lib-ds /kaggle/working/yolov5\n",
    "%cd yolov5\n",
    "%pip install -qr requirements.txt  # install"
   ]
  },
  {
   "cell_type": "code",
   "execution_count": null,
   "id": "daa5fdbc-1175-485d-9db8-8ecc29765974",
   "metadata": {},
   "outputs": [],
   "source": [
    "from yolov5 import utils"
   ]
  },
  {
   "cell_type": "code",
   "execution_count": null,
   "id": "c582e9ea-2d5d-44d9-baff-186eed0e0c99",
   "metadata": {},
   "outputs": [],
   "source": [
    "display = utils.notebook_init()  # checks"
   ]
  },
  {
   "cell_type": "code",
   "execution_count": null,
   "id": "61160394-3c2d-4877-ab22-2d491211ecb4",
   "metadata": {
    "papermill": {
     "duration": 16.18586,
     "end_time": "2021-11-27T11:48:44.794659",
     "exception": false,
     "start_time": "2021-11-27T11:48:28.608799",
     "status": "completed"
    },
    "tags": []
   },
   "outputs": [],
   "source": [
    "# Weights & Biases  (optional)\n",
    "import wandb\n",
    "wandb.login(anonymous='must')"
   ]
  },
  {
   "cell_type": "markdown",
   "id": "1a95a0d8",
   "metadata": {
    "papermill": {
     "duration": 0.31524,
     "end_time": "2021-11-27T11:48:45.421755",
     "exception": false,
     "start_time": "2021-11-27T11:48:45.106515",
     "status": "completed"
    },
    "tags": []
   },
   "source": [
    "# 🚅 Training"
   ]
  },
  {
   "cell_type": "code",
   "execution_count": null,
   "id": "bac36491",
   "metadata": {
    "papermill": {
     "duration": 18699.636228,
     "end_time": "2021-11-27T17:00:25.359792",
     "exception": false,
     "start_time": "2021-11-27T11:48:45.723564",
     "status": "completed"
    },
    "tags": []
   },
   "outputs": [],
   "source": [
    "# Train YOLOv5s on COCO128 for 3 epochs ← 事前学習の情報?\n",
    "# --batch 16\\ --epochs 30\\\n",
    "# --cache\\\n",
    "# --evolve\\ ← ハイパラチューニングしてくれる\n",
    "# --hyp /workspace/cots/yolov5/data/hyps/hyp.finetune.yaml\\ ← ハイパラの設定\n",
    "# --hyp /workspace/cots/yolov5/data/hyps/hyp.scratch-high.yaml\\\n",
    "\n",
    "!python train.py --img 1280\\\n",
    "--device 3\\\n",
    "--batch 16\\\n",
    "--epochs 20\\\n",
    "--data /workspace/cots/data/tgbr.yaml\\\n",
    "--hyp /workspace/cots/yolov5/data/hyps/hyp.finetune.yaml\\\n",
    "--weights yolov5l.pt"
   ]
  },
  {
   "cell_type": "markdown",
   "id": "4e2454fd",
   "metadata": {
    "papermill": {
     "duration": 2.73105,
     "end_time": "2021-11-27T17:00:30.815233",
     "exception": false,
     "start_time": "2021-11-27T17:00:28.084183",
     "status": "completed"
    },
    "tags": []
   },
   "source": [
    "# ✨ Overview result"
   ]
  },
  {
   "cell_type": "markdown",
   "id": "4eaacb27",
   "metadata": {
    "papermill": {
     "duration": 2.746598,
     "end_time": "2021-11-27T17:00:36.651736",
     "exception": false,
     "start_time": "2021-11-27T17:00:33.905138",
     "status": "completed"
    },
    "tags": []
   },
   "source": [
    "## Output Files"
   ]
  },
  {
   "cell_type": "code",
   "execution_count": null,
   "id": "6acfdbdb-748a-46a7-8cab-7d99cea2148f",
   "metadata": {},
   "outputs": [],
   "source": [
    "exp_no =10"
   ]
  },
  {
   "cell_type": "code",
   "execution_count": null,
   "id": "ae5f5707",
   "metadata": {
    "papermill": {
     "duration": 3.544796,
     "end_time": "2021-11-27T17:00:42.948136",
     "exception": false,
     "start_time": "2021-11-27T17:00:39.403340",
     "status": "completed"
    },
    "tags": []
   },
   "outputs": [],
   "source": [
    "!ls /workspace/cots/yolov5/runs/train/exp{exp_no}"
   ]
  },
  {
   "cell_type": "markdown",
   "id": "6facc85e",
   "metadata": {
    "papermill": {
     "duration": 2.793692,
     "end_time": "2021-11-27T17:00:49.026938",
     "exception": false,
     "start_time": "2021-11-27T17:00:46.233246",
     "status": "completed"
    },
    "tags": []
   },
   "source": [
    "# 📈 Class Distribution"
   ]
  },
  {
   "cell_type": "code",
   "execution_count": null,
   "id": "8b428794",
   "metadata": {
    "_kg_hide-input": true,
    "papermill": {
     "duration": 3.91896,
     "end_time": "2021-11-27T17:00:55.729025",
     "exception": false,
     "start_time": "2021-11-27T17:00:51.810065",
     "status": "completed"
    },
    "tags": []
   },
   "outputs": [],
   "source": [
    "plt.figure(figsize = (10,10))\n",
    "plt.axis('off')\n",
    "plt.imshow(plt.imread(f'/workspace/cots/yolov5/runs/train/exp{exp_no}/labels_correlogram.jpg'));"
   ]
  },
  {
   "cell_type": "code",
   "execution_count": null,
   "id": "61083602",
   "metadata": {
    "_kg_hide-input": true,
    "papermill": {
     "duration": 3.430473,
     "end_time": "2021-11-27T17:01:01.882150",
     "exception": false,
     "start_time": "2021-11-27T17:00:58.451677",
     "status": "completed"
    },
    "tags": []
   },
   "outputs": [],
   "source": [
    "plt.figure(figsize = (10,10))\n",
    "plt.axis('off')\n",
    "plt.imshow(plt.imread(f'/workspace/cots/yolov5/runs/train/exp{exp_no}/labels.jpg'));"
   ]
  },
  {
   "cell_type": "markdown",
   "id": "cf222c99",
   "metadata": {
    "papermill": {
     "duration": 2.835239,
     "end_time": "2021-11-27T17:01:07.757575",
     "exception": false,
     "start_time": "2021-11-27T17:01:04.922336",
     "status": "completed"
    },
    "tags": []
   },
   "source": [
    "# 🔭 Batch Image"
   ]
  },
  {
   "cell_type": "code",
   "execution_count": null,
   "id": "5090080c",
   "metadata": {
    "_kg_hide-input": true,
    "papermill": {
     "duration": 6.023093,
     "end_time": "2021-11-27T17:01:16.551961",
     "exception": false,
     "start_time": "2021-11-27T17:01:10.528868",
     "status": "completed"
    },
    "tags": []
   },
   "outputs": [],
   "source": [
    "import matplotlib.pyplot as plt\n",
    "plt.figure(figsize = (10, 10))\n",
    "plt.imshow(plt.imread(f'/workspace/cots/yolov5/runs/train/exp{exp_no}/train_batch0.jpg'))\n",
    "\n",
    "plt.figure(figsize = (10, 10))\n",
    "plt.imshow(plt.imread(f'/workspace/cots/yolov5/runs/train/exp{exp_no}/train_batch1.jpg'))\n",
    "\n",
    "plt.figure(figsize = (10, 10))\n",
    "plt.imshow(plt.imread(f'/workspace/cots/yolov5/runs/train/exp{exp_no}/train_batch2.jpg'))"
   ]
  },
  {
   "cell_type": "markdown",
   "id": "7f667e82",
   "metadata": {
    "papermill": {
     "duration": 2.803301,
     "end_time": "2021-11-27T17:01:22.465155",
     "exception": false,
     "start_time": "2021-11-27T17:01:19.661854",
     "status": "completed"
    },
    "tags": []
   },
   "source": [
    "## GT Vs Pred"
   ]
  },
  {
   "cell_type": "code",
   "execution_count": null,
   "id": "6eafaf17",
   "metadata": {
    "_kg_hide-input": true,
    "papermill": {
     "duration": 5.185658,
     "end_time": "2021-11-27T17:01:30.456507",
     "exception": false,
     "start_time": "2021-11-27T17:01:25.270849",
     "status": "completed"
    },
    "tags": []
   },
   "outputs": [],
   "source": [
    "fig, ax = plt.subplots(3, 2, figsize = (2*9,3*5), constrained_layout = True)\n",
    "for row in range(3):\n",
    "    ax[row][0].imshow(plt.imread(f'/workspace/cots/yolov5/runs/train/exp{exp_no}/val_batch{row}_labels.jpg'))\n",
    "    ax[row][0].set_xticks([])\n",
    "    ax[row][0].set_yticks([])\n",
    "    ax[row][0].set_title(f'/workspace/cots/yolov5/runs/train/exp{exp_no}/val_batch{row}_labels.jpg', fontsize = 12)\n",
    "    \n",
    "    ax[row][1].imshow(plt.imread(f'/workspace/cots/yolov5/runs/train/exp{exp_no}/val_batch{row}_pred.jpg'))\n",
    "    ax[row][1].set_xticks([])\n",
    "    ax[row][1].set_yticks([])\n",
    "    ax[row][1].set_title(f'/workspace/cots/yolov5/runs/train/exp{exp_no}/val_batch{row}_pred.jpg', fontsize = 12)\n",
    "plt.show()"
   ]
  },
  {
   "cell_type": "markdown",
   "id": "bffe2489",
   "metadata": {
    "papermill": {
     "duration": 2.854286,
     "end_time": "2021-11-27T17:01:36.147536",
     "exception": false,
     "start_time": "2021-11-27T17:01:33.293250",
     "status": "completed"
    },
    "tags": []
   },
   "source": [
    "# 🔍 Result"
   ]
  },
  {
   "cell_type": "markdown",
   "id": "1ef9dfcd",
   "metadata": {
    "papermill": {
     "duration": 2.975418,
     "end_time": "2021-11-27T17:01:42.197555",
     "exception": false,
     "start_time": "2021-11-27T17:01:39.222137",
     "status": "completed"
    },
    "tags": []
   },
   "source": [
    "## Score Vs Epoch"
   ]
  },
  {
   "cell_type": "code",
   "execution_count": null,
   "id": "05ca13f9",
   "metadata": {
    "_kg_hide-input": true,
    "papermill": {
     "duration": 4.616965,
     "end_time": "2021-11-27T17:01:49.732898",
     "exception": false,
     "start_time": "2021-11-27T17:01:45.115933",
     "status": "completed"
    },
    "tags": []
   },
   "outputs": [],
   "source": [
    "plt.figure(figsize=(30,15))\n",
    "plt.axis('off')\n",
    "plt.imshow(plt.imread(f'/workspace/cots/yolov5/runs/train/exp{exp_no}/results.png'));"
   ]
  },
  {
   "cell_type": "markdown",
   "id": "4e8f34c0",
   "metadata": {
    "papermill": {
     "duration": 2.910272,
     "end_time": "2021-11-27T17:01:55.612437",
     "exception": false,
     "start_time": "2021-11-27T17:01:52.702165",
     "status": "completed"
    },
    "tags": []
   },
   "source": [
    "## Confusion Matrix"
   ]
  },
  {
   "cell_type": "code",
   "execution_count": null,
   "id": "56112628",
   "metadata": {
    "_kg_hide-input": true,
    "papermill": {
     "duration": 4.933927,
     "end_time": "2021-11-27T17:02:03.496893",
     "exception": false,
     "start_time": "2021-11-27T17:01:58.562966",
     "status": "completed"
    },
    "tags": []
   },
   "outputs": [],
   "source": [
    "plt.figure(figsize=(12,10))\n",
    "plt.axis('off')\n",
    "plt.imshow(plt.imread(f'/workspace/cots/yolov5/runs/train/exp{exp_no}/confusion_matrix.png'));"
   ]
  },
  {
   "cell_type": "markdown",
   "id": "37feded1",
   "metadata": {
    "papermill": {
     "duration": 2.900752,
     "end_time": "2021-11-27T17:02:09.319447",
     "exception": false,
     "start_time": "2021-11-27T17:02:06.418695",
     "status": "completed"
    },
    "tags": []
   },
   "source": [
    "## Metrics"
   ]
  },
  {
   "cell_type": "code",
   "execution_count": null,
   "id": "c83ed24f",
   "metadata": {
    "_kg_hide-input": true,
    "papermill": {
     "duration": 5.962555,
     "end_time": "2021-11-27T17:02:18.483141",
     "exception": false,
     "start_time": "2021-11-27T17:02:12.520586",
     "status": "completed"
    },
    "tags": []
   },
   "outputs": [],
   "source": [
    "for metric in ['F1', 'PR', 'P', 'R']:\n",
    "    print(f'Metric: {metric}')\n",
    "    plt.figure(figsize=(12,10))\n",
    "    plt.axis('off')\n",
    "    plt.imshow(plt.imread(f'/workspace/cots/yolov5/runs/train/exp{exp_no}/{metric}_curve.png'));\n",
    "    plt.show()"
   ]
  },
  {
   "cell_type": "markdown",
   "id": "8ea382e7-f77f-4b3c-a79f-917e210516a5",
   "metadata": {},
   "source": [
    "# Calculation Val CV"
   ]
  },
  {
   "cell_type": "code",
   "execution_count": null,
   "id": "673783ed-d86c-43bf-8a47-aa9116fd7f6f",
   "metadata": {},
   "outputs": [],
   "source": [
    "!pip install ensemble-boxes"
   ]
  },
  {
   "cell_type": "code",
   "execution_count": null,
   "id": "0f8e3d27-7640-40a5-8644-701f95b777e3",
   "metadata": {},
   "outputs": [],
   "source": [
    "from ensemble_boxes import *"
   ]
  },
  {
   "cell_type": "code",
   "execution_count": null,
   "id": "46e4e2e4-cda0-4f0c-a38d-71bed4cff679",
   "metadata": {},
   "outputs": [],
   "source": [
    "CKPT_PATH = f'/workspace/cots/yolov5/runs/train/exp{exp_no}/weights/best.pt'\n",
    "IMG_SIZE  = 1280\n",
    "# IMG_SIZE  = 960\n",
    "# CONF      = 0.15\n",
    "# IOU       = 0.50\n",
    "# CONF      = 0.3\n",
    "# IOU       = 0.4\n",
    "AUGMENT   = False\n",
    "DEVICE = 3"
   ]
  },
  {
   "cell_type": "markdown",
   "id": "486bb4f1-4e02-4495-94cb-84eaa07f2fdd",
   "metadata": {},
   "source": [
    "## helper"
   ]
  },
  {
   "cell_type": "code",
   "execution_count": null,
   "id": "743647d5-2c20-4b41-bfc0-e5e6031de5c5",
   "metadata": {
    "tags": []
   },
   "outputs": [],
   "source": [
    "def load_model(ckpt_path, conf=0.25, iou=0.50, device=0):\n",
    "    model = torch.hub.load('/workspace/cots/yolov5',\n",
    "                           'custom',\n",
    "                           path=ckpt_path,\n",
    "                           source='local',\n",
    "                           force_reload=True,\n",
    "                           device=device)  # local repo\n",
    "    model.conf = conf  # NMS confidence threshold\n",
    "    model.iou  = iou  # NMS IoU threshold\n",
    "    model.classes = None   # (optional list) filter by class, i.e. = [0, 15, 16] for persons, cats and dogs\n",
    "    model.multi_label = False  # NMS multiple labels per box\n",
    "    model.max_det = 1000  # maximum number of detections per image\n",
    "    return model\n",
    "\n",
    "\n",
    "def predict(model, img, size=768, augment=False):\n",
    "    height, width = img.shape[:2]\n",
    "    results = model(img, size=size, augment=augment)  # custom inference size\n",
    "    preds   = results.pandas().xyxy[0]\n",
    "    bboxes  = preds[['xmin','ymin','xmax','ymax']].values\n",
    "    if len(bboxes):\n",
    "        # bboxes  = voc2coco(bboxes, height, width).astype(int)\n",
    "        confs   = preds.confidence.values\n",
    "        return bboxes, confs\n",
    "    else:\n",
    "        return [],[]\n",
    "    \n",
    "\n",
    "def predict_wbf_format(model, img, size=1280, augment=False):\n",
    "    \"\"\"\n",
    "    wbfに必要なobject毎の\n",
    "    * bbox(0 ~ 1に正規化)\n",
    "    * confidence score\n",
    "    * label (今回はオニヒトデだけなのであまり関係ないが、wbfに必要)\n",
    "    \"\"\"\n",
    "    height, width = img.shape[:2]\n",
    "    results = model(img, size=size, augment=augment)  # custom inference size\n",
    "    preds   = results.pandas().xyxy[0]\n",
    "    # normalizing\n",
    "    preds[['xmin', 'xmax']] = preds[['xmin', 'xmax']] / width\n",
    "    preds[['ymin', 'ymax']] = preds[['ymin', 'ymax']] / height\n",
    "    \n",
    "    bboxes  = preds[['xmin','ymin','xmax','ymax']].values\n",
    "    \n",
    "    if len(bboxes):\n",
    "        confs   = preds.confidence.values\n",
    "        labels = preds['class'].values\n",
    "        return bboxes, confs, labels\n",
    "    else:\n",
    "        return [], [], []"
   ]
  },
  {
   "cell_type": "code",
   "execution_count": null,
   "id": "37a3a51c-ff3c-4ce2-94a9-70f3d1728732",
   "metadata": {},
   "outputs": [],
   "source": [
    "from typing import List\n",
    "\n",
    "from torchvision.ops import box_iou\n",
    "\n",
    "\n",
    "def calculate_score(\n",
    "    preds: List[torch.Tensor],\n",
    "    gts: List[torch.Tensor],\n",
    "    iou_th: float\n",
    ") -> float:\n",
    "    num_tp = 0\n",
    "    num_fp = 0\n",
    "    num_fn = 0\n",
    "    for p, gt in zip(preds, gts):\n",
    "        if len(p) and len(gt):\n",
    "            iou_matrix = box_iou(p, gt)\n",
    "            tp = len(torch.where(iou_matrix.max(0)[0] >= iou_th)[0])\n",
    "            fp = len(p) - tp\n",
    "            fn = len(torch.where(iou_matrix.max(0)[0] < iou_th)[0])\n",
    "            num_tp += tp\n",
    "            num_fp += fp\n",
    "            num_fn += fn\n",
    "        elif len(p) == 0 and len(gt):\n",
    "            num_fn += len(gt)\n",
    "        elif len(p) and len(gt) == 0:\n",
    "            num_fp += len(p)\n",
    "    score = 5 * num_tp / (5 * num_tp + 4 * num_fn + num_fp)\n",
    "    return score"
   ]
  },
  {
   "cell_type": "code",
   "execution_count": null,
   "id": "80dce6f1-a95d-4f79-80f6-704eaf7cb186",
   "metadata": {},
   "outputs": [],
   "source": [
    "gt = valid_df.bboxes.apply(lambda x: torch.sort(\n",
    "                                        torch.tensor(\n",
    "                                            yolo2voc(720, 1280,\n",
    "                                                     coco2yolo(720, 1280, \n",
    "                                                               np.array(x).astype(np.float32)\n",
    "                                                )\n",
    "                                            )\n",
    "                                        ), dim=0).values).values.tolist()"
   ]
  },
  {
   "cell_type": "code",
   "execution_count": null,
   "id": "8340905b-a2a5-46fe-be83-b28f68ae93d2",
   "metadata": {},
   "outputs": [],
   "source": [
    "print(\"------------loading model------------\")\n",
    "model = load_model(CKPT_PATH, conf=0.0, iou=1.0, device=3)\n",
    "image_paths = valid_df.image_path.tolist()\n",
    "print(\"------------predict & post processing------------\")\n",
    "for CONF in [0.1, 0.2, 0.3]:\n",
    "    for IOU in [0.1, 0.2, 0.3]:\n",
    "        preds_bboxes = []\n",
    "        for idx, path in tqdm(enumerate(image_paths), total=len(image_paths)):\n",
    "            boxes_list = []\n",
    "            confis_list = []\n",
    "            labels_list = []    \n",
    "            img = cv2.imread(path)[...,::-1]\n",
    "            height, width = img.shape[:2]\n",
    "            bboxes1, confis1, labels1 = predict_wbf_format(model, img, size=IMG_SIZE, augment=AUGMENT)\n",
    "\n",
    "            boxes_list.append(bboxes1)\n",
    "            confis_list.append(confis1)\n",
    "            labels_list.append(labels1)\n",
    "            # bboxes, confis, labels = nms(boxes_list, confis_list, labels_list, weights=None, iou_thr=0.4)\n",
    "            # bboxes, confis, labels = soft_nms(boxes_list, confis_list, labels_list, weights=None, iou_thr=IOU, thresh=CONF)\n",
    "            bboxes, confis, labels = non_maximum_weighted(boxes_list, confis_list, labels_list, weights=None, iou_thr=IOU, skip_box_thr=CONF)\n",
    "            # bboxes, confis, labels = weighted_boxes_fusion(boxes_list, confis_list, labels_list, weights=None, iou_thr=IOU, skip_box_thr=CONF)\n",
    "            if len(bboxes):\n",
    "                bboxes = bboxes * (width, height, width, height)\n",
    "                preds_bboxes.append(torch.sort(torch.from_numpy(bboxes.astype(np.float32)), dim=0).values)\n",
    "                bboxes = voc2coco(bboxes, height, width)\n",
    "            else:\n",
    "                preds_bboxes.append(bboxes)\n",
    "            # if idx<3:\n",
    "            #     display(show_img(img, bboxes, bbox_format='coco'))\n",
    "\n",
    "        print(\"------------calculating score------------\")\n",
    "        iou_ths = np.arange(0.3, 0.85, 0.05)\n",
    "        scores = [calculate_score(preds_bboxes, gt, iou_th) for iou_th in iou_ths]\n",
    "        print(\"conf: \", CONF)\n",
    "        print(\"iou: \", IOU)\n",
    "        print(\"val score: \", np.mean(scores))"
   ]
  },
  {
   "cell_type": "code",
   "execution_count": null,
   "id": "e69cf2f7-3ed6-4be3-ac6a-b26dae712135",
   "metadata": {},
   "outputs": [],
   "source": [
    "# for CONF in [0.2, 0.3, 0.4]:\n",
    "#     for IOU in [0.2, 0.3, 0.4]:\n",
    "#         print(\"------------loading model------------\")\n",
    "#         model = load_model(CKPT_PATH, conf=CONF, iou=IOU, device=3)\n",
    "#         image_paths = valid_df.image_path.tolist()\n",
    "#         preds_bboxes = []\n",
    "#         for idx, path in enumerate(image_paths):\n",
    "#             img = cv2.imread(path)[...,::-1]\n",
    "#             height, width = img.shape[:2]            \n",
    "#             bboxes, confis = predict(model, img, size=IMG_SIZE, augment=AUGMENT)\n",
    "#             if len(bboxes):\n",
    "#                 preds_bboxes.append(torch.sort(torch.from_numpy(bboxes.astype(np.float32)), dim=0).values)\n",
    "#                 bboxes = voc2coco(bboxes, height, width)\n",
    "#             else:\n",
    "#                 preds_bboxes.append(bboxes)\n",
    "#             # if idx<3:\n",
    "#             #     display(show_img(img, bboxes, bbox_format='coco'))\n",
    "        \n",
    "#         print(\"------------calculating score------------\")\n",
    "#         iou_ths = np.arange(0.3, 0.85, 0.05)\n",
    "#         scores = [calculate_score(preds_bboxes, gt, iou_th) for iou_th in iou_ths]\n",
    "#         print(\"conf: \", CONF)\n",
    "#         print(\"iou: \", IOU)\n",
    "#         print(\"val score: \", np.mean(scores))"
   ]
  },
  {
   "cell_type": "markdown",
   "id": "23f1f823",
   "metadata": {
    "papermill": {
     "duration": 2.856255,
     "end_time": "2021-11-27T17:02:30.868822",
     "exception": false,
     "start_time": "2021-11-27T17:02:28.012567",
     "status": "completed"
    },
    "tags": []
   },
   "source": [
    "# ✂️ Remove Files\n",
    "copy元のnotebookの著者は容量を気にしているのか実行するたびに作った画像ファイルを消してる\n",
    "\n",
    "\n",
    "ここはやらなくてもやってもいいと思う"
   ]
  },
  {
   "cell_type": "code",
   "execution_count": null,
   "id": "e50926b9",
   "metadata": {
    "papermill": {
     "duration": 4.773209,
     "end_time": "2021-11-27T17:02:38.887314",
     "exception": false,
     "start_time": "2021-11-27T17:02:34.114105",
     "status": "completed"
    },
    "tags": []
   },
   "outputs": [],
   "source": [
    "!rm -r {IMAGE_DIR}\n",
    "!rm -r {LABEL_DIR}"
   ]
  }
 ],
 "metadata": {
  "kernelspec": {
   "display_name": "Python 3 (ipykernel)",
   "language": "python",
   "name": "python3"
  },
  "language_info": {
   "codemirror_mode": {
    "name": "ipython",
    "version": 3
   },
   "file_extension": ".py",
   "mimetype": "text/x-python",
   "name": "python",
   "nbconvert_exporter": "python",
   "pygments_lexer": "ipython3",
   "version": "3.8.8"
  },
  "papermill": {
   "default_parameters": {},
   "duration": 19235.167128,
   "end_time": "2021-11-27T17:02:48.680704",
   "environment_variables": {},
   "exception": null,
   "input_path": "__notebook__.ipynb",
   "output_path": "__notebook__.ipynb",
   "parameters": {},
   "start_time": "2021-11-27T11:42:13.513576",
   "version": "2.3.3"
  },
  "widgets": {
   "application/vnd.jupyter.widget-state+json": {
    "state": {
     "03aef1052b4c44a28f0a12f14fcdffec": {
      "model_module": "@jupyter-widgets/controls",
      "model_module_version": "1.5.0",
      "model_name": "HTMLModel",
      "state": {
       "_dom_classes": [],
       "_model_module": "@jupyter-widgets/controls",
       "_model_module_version": "1.5.0",
       "_model_name": "HTMLModel",
       "_view_count": null,
       "_view_module": "@jupyter-widgets/controls",
       "_view_module_version": "1.5.0",
       "_view_name": "HTMLView",
       "description": "",
       "description_tooltip": null,
       "layout": "IPY_MODEL_59716fd5c37a447fb694113e9cc1e876",
       "placeholder": "​",
       "style": "IPY_MODEL_1ce9339b73b64286b85b27f18c46b51b",
       "value": "100%"
      }
     },
     "0765080e42064eecb3948cffe7020984": {
      "model_module": "@jupyter-widgets/controls",
      "model_module_version": "1.5.0",
      "model_name": "ProgressStyleModel",
      "state": {
       "_model_module": "@jupyter-widgets/controls",
       "_model_module_version": "1.5.0",
       "_model_name": "ProgressStyleModel",
       "_view_count": null,
       "_view_module": "@jupyter-widgets/base",
       "_view_module_version": "1.2.0",
       "_view_name": "StyleView",
       "bar_color": null,
       "description_width": ""
      }
     },
     "0f1766bd38ac48f5a7bf204107753fbd": {
      "model_module": "@jupyter-widgets/controls",
      "model_module_version": "1.5.0",
      "model_name": "ProgressStyleModel",
      "state": {
       "_model_module": "@jupyter-widgets/controls",
       "_model_module_version": "1.5.0",
       "_model_name": "ProgressStyleModel",
       "_view_count": null,
       "_view_module": "@jupyter-widgets/base",
       "_view_module_version": "1.2.0",
       "_view_name": "StyleView",
       "bar_color": null,
       "description_width": ""
      }
     },
     "13d0317c2e8647c9ad42b3850f8acc64": {
      "model_module": "@jupyter-widgets/base",
      "model_module_version": "1.2.0",
      "model_name": "LayoutModel",
      "state": {
       "_model_module": "@jupyter-widgets/base",
       "_model_module_version": "1.2.0",
       "_model_name": "LayoutModel",
       "_view_count": null,
       "_view_module": "@jupyter-widgets/base",
       "_view_module_version": "1.2.0",
       "_view_name": "LayoutView",
       "align_content": null,
       "align_items": null,
       "align_self": null,
       "border": null,
       "bottom": null,
       "display": null,
       "flex": null,
       "flex_flow": null,
       "grid_area": null,
       "grid_auto_columns": null,
       "grid_auto_flow": null,
       "grid_auto_rows": null,
       "grid_column": null,
       "grid_gap": null,
       "grid_row": null,
       "grid_template_areas": null,
       "grid_template_columns": null,
       "grid_template_rows": null,
       "height": null,
       "justify_content": null,
       "justify_items": null,
       "left": null,
       "margin": null,
       "max_height": null,
       "max_width": null,
       "min_height": null,
       "min_width": null,
       "object_fit": null,
       "object_position": null,
       "order": null,
       "overflow": null,
       "overflow_x": null,
       "overflow_y": null,
       "padding": null,
       "right": null,
       "top": null,
       "visibility": null,
       "width": null
      }
     },
     "1722afcd89614b33955ae47093b8e159": {
      "model_module": "@jupyter-widgets/base",
      "model_module_version": "1.2.0",
      "model_name": "LayoutModel",
      "state": {
       "_model_module": "@jupyter-widgets/base",
       "_model_module_version": "1.2.0",
       "_model_name": "LayoutModel",
       "_view_count": null,
       "_view_module": "@jupyter-widgets/base",
       "_view_module_version": "1.2.0",
       "_view_name": "LayoutView",
       "align_content": null,
       "align_items": null,
       "align_self": null,
       "border": null,
       "bottom": null,
       "display": null,
       "flex": null,
       "flex_flow": null,
       "grid_area": null,
       "grid_auto_columns": null,
       "grid_auto_flow": null,
       "grid_auto_rows": null,
       "grid_column": null,
       "grid_gap": null,
       "grid_row": null,
       "grid_template_areas": null,
       "grid_template_columns": null,
       "grid_template_rows": null,
       "height": null,
       "justify_content": null,
       "justify_items": null,
       "left": null,
       "margin": null,
       "max_height": null,
       "max_width": null,
       "min_height": null,
       "min_width": null,
       "object_fit": null,
       "object_position": null,
       "order": null,
       "overflow": null,
       "overflow_x": null,
       "overflow_y": null,
       "padding": null,
       "right": null,
       "top": null,
       "visibility": null,
       "width": null
      }
     },
     "18994510093d47a8a08cc9bd918db83d": {
      "model_module": "@jupyter-widgets/controls",
      "model_module_version": "1.5.0",
      "model_name": "DescriptionStyleModel",
      "state": {
       "_model_module": "@jupyter-widgets/controls",
       "_model_module_version": "1.5.0",
       "_model_name": "DescriptionStyleModel",
       "_view_count": null,
       "_view_module": "@jupyter-widgets/base",
       "_view_module_version": "1.2.0",
       "_view_name": "StyleView",
       "description_width": ""
      }
     },
     "18dcfbda3583421a9396c2aff862e892": {
      "model_module": "@jupyter-widgets/controls",
      "model_module_version": "1.5.0",
      "model_name": "DescriptionStyleModel",
      "state": {
       "_model_module": "@jupyter-widgets/controls",
       "_model_module_version": "1.5.0",
       "_model_name": "DescriptionStyleModel",
       "_view_count": null,
       "_view_module": "@jupyter-widgets/base",
       "_view_module_version": "1.2.0",
       "_view_name": "StyleView",
       "description_width": ""
      }
     },
     "1b989ed48f2841358284611db9027f5b": {
      "model_module": "@jupyter-widgets/base",
      "model_module_version": "1.2.0",
      "model_name": "LayoutModel",
      "state": {
       "_model_module": "@jupyter-widgets/base",
       "_model_module_version": "1.2.0",
       "_model_name": "LayoutModel",
       "_view_count": null,
       "_view_module": "@jupyter-widgets/base",
       "_view_module_version": "1.2.0",
       "_view_name": "LayoutView",
       "align_content": null,
       "align_items": null,
       "align_self": null,
       "border": null,
       "bottom": null,
       "display": null,
       "flex": null,
       "flex_flow": null,
       "grid_area": null,
       "grid_auto_columns": null,
       "grid_auto_flow": null,
       "grid_auto_rows": null,
       "grid_column": null,
       "grid_gap": null,
       "grid_row": null,
       "grid_template_areas": null,
       "grid_template_columns": null,
       "grid_template_rows": null,
       "height": null,
       "justify_content": null,
       "justify_items": null,
       "left": null,
       "margin": null,
       "max_height": null,
       "max_width": null,
       "min_height": null,
       "min_width": null,
       "object_fit": null,
       "object_position": null,
       "order": null,
       "overflow": null,
       "overflow_x": null,
       "overflow_y": null,
       "padding": null,
       "right": null,
       "top": null,
       "visibility": null,
       "width": null
      }
     },
     "1ce9339b73b64286b85b27f18c46b51b": {
      "model_module": "@jupyter-widgets/controls",
      "model_module_version": "1.5.0",
      "model_name": "DescriptionStyleModel",
      "state": {
       "_model_module": "@jupyter-widgets/controls",
       "_model_module_version": "1.5.0",
       "_model_name": "DescriptionStyleModel",
       "_view_count": null,
       "_view_module": "@jupyter-widgets/base",
       "_view_module_version": "1.2.0",
       "_view_name": "StyleView",
       "description_width": ""
      }
     },
     "200e153c91274126a3e61061e40dda8e": {
      "model_module": "@jupyter-widgets/controls",
      "model_module_version": "1.5.0",
      "model_name": "FloatProgressModel",
      "state": {
       "_dom_classes": [],
       "_model_module": "@jupyter-widgets/controls",
       "_model_module_version": "1.5.0",
       "_model_name": "FloatProgressModel",
       "_view_count": null,
       "_view_module": "@jupyter-widgets/controls",
       "_view_module_version": "1.5.0",
       "_view_name": "ProgressView",
       "bar_style": "success",
       "description": "",
       "description_tooltip": null,
       "layout": "IPY_MODEL_e748b20565374a1ebbc2ba0941100fbd",
       "max": 4919,
       "min": 0,
       "orientation": "horizontal",
       "style": "IPY_MODEL_0f1766bd38ac48f5a7bf204107753fbd",
       "value": 4919
      }
     },
     "227d72ab6d3f4d2fafdf45d1e619b8dc": {
      "model_module": "@jupyter-widgets/controls",
      "model_module_version": "1.5.0",
      "model_name": "DescriptionStyleModel",
      "state": {
       "_model_module": "@jupyter-widgets/controls",
       "_model_module_version": "1.5.0",
       "_model_name": "DescriptionStyleModel",
       "_view_count": null,
       "_view_module": "@jupyter-widgets/base",
       "_view_module_version": "1.2.0",
       "_view_name": "StyleView",
       "description_width": ""
      }
     },
     "2939a21adce54bae8154946eaec18378": {
      "model_module": "@jupyter-widgets/base",
      "model_module_version": "1.2.0",
      "model_name": "LayoutModel",
      "state": {
       "_model_module": "@jupyter-widgets/base",
       "_model_module_version": "1.2.0",
       "_model_name": "LayoutModel",
       "_view_count": null,
       "_view_module": "@jupyter-widgets/base",
       "_view_module_version": "1.2.0",
       "_view_name": "LayoutView",
       "align_content": null,
       "align_items": null,
       "align_self": null,
       "border": null,
       "bottom": null,
       "display": null,
       "flex": null,
       "flex_flow": null,
       "grid_area": null,
       "grid_auto_columns": null,
       "grid_auto_flow": null,
       "grid_auto_rows": null,
       "grid_column": null,
       "grid_gap": null,
       "grid_row": null,
       "grid_template_areas": null,
       "grid_template_columns": null,
       "grid_template_rows": null,
       "height": null,
       "justify_content": null,
       "justify_items": null,
       "left": null,
       "margin": null,
       "max_height": null,
       "max_width": null,
       "min_height": null,
       "min_width": null,
       "object_fit": null,
       "object_position": null,
       "order": null,
       "overflow": null,
       "overflow_x": null,
       "overflow_y": null,
       "padding": null,
       "right": null,
       "top": null,
       "visibility": null,
       "width": null
      }
     },
     "2d36f05f2ed6461fb76f3996c390119f": {
      "model_module": "@jupyter-widgets/controls",
      "model_module_version": "1.5.0",
      "model_name": "DescriptionStyleModel",
      "state": {
       "_model_module": "@jupyter-widgets/controls",
       "_model_module_version": "1.5.0",
       "_model_name": "DescriptionStyleModel",
       "_view_count": null,
       "_view_module": "@jupyter-widgets/base",
       "_view_module_version": "1.2.0",
       "_view_name": "StyleView",
       "description_width": ""
      }
     },
     "2d951841d9df45e7b944104195230c28": {
      "model_module": "@jupyter-widgets/base",
      "model_module_version": "1.2.0",
      "model_name": "LayoutModel",
      "state": {
       "_model_module": "@jupyter-widgets/base",
       "_model_module_version": "1.2.0",
       "_model_name": "LayoutModel",
       "_view_count": null,
       "_view_module": "@jupyter-widgets/base",
       "_view_module_version": "1.2.0",
       "_view_name": "LayoutView",
       "align_content": null,
       "align_items": null,
       "align_self": null,
       "border": null,
       "bottom": null,
       "display": null,
       "flex": null,
       "flex_flow": null,
       "grid_area": null,
       "grid_auto_columns": null,
       "grid_auto_flow": null,
       "grid_auto_rows": null,
       "grid_column": null,
       "grid_gap": null,
       "grid_row": null,
       "grid_template_areas": null,
       "grid_template_columns": null,
       "grid_template_rows": null,
       "height": null,
       "justify_content": null,
       "justify_items": null,
       "left": null,
       "margin": null,
       "max_height": null,
       "max_width": null,
       "min_height": null,
       "min_width": null,
       "object_fit": null,
       "object_position": null,
       "order": null,
       "overflow": null,
       "overflow_x": null,
       "overflow_y": null,
       "padding": null,
       "right": null,
       "top": null,
       "visibility": null,
       "width": null
      }
     },
     "2ec9d527e81344c2a0049ad08dbfc268": {
      "model_module": "@jupyter-widgets/controls",
      "model_module_version": "1.5.0",
      "model_name": "HTMLModel",
      "state": {
       "_dom_classes": [],
       "_model_module": "@jupyter-widgets/controls",
       "_model_module_version": "1.5.0",
       "_model_name": "HTMLModel",
       "_view_count": null,
       "_view_module": "@jupyter-widgets/controls",
       "_view_module_version": "1.5.0",
       "_view_name": "HTMLView",
       "description": "",
       "description_tooltip": null,
       "layout": "IPY_MODEL_f08d46a98c2f44eda2f81de0c6d6d9e5",
       "placeholder": "​",
       "style": "IPY_MODEL_39e74fe6856e456b9615f5ec80999c43",
       "value": " 4919/4919 [00:06&lt;00:00, 927.27it/s]"
      }
     },
     "3243d88eee474e8585e214add014207b": {
      "model_module": "@jupyter-widgets/controls",
      "model_module_version": "1.5.0",
      "model_name": "HBoxModel",
      "state": {
       "_dom_classes": [],
       "_model_module": "@jupyter-widgets/controls",
       "_model_module_version": "1.5.0",
       "_model_name": "HBoxModel",
       "_view_count": null,
       "_view_module": "@jupyter-widgets/controls",
       "_view_module_version": "1.5.0",
       "_view_name": "HBoxView",
       "box_style": "",
       "children": [
        "IPY_MODEL_8bccaf104312438392c9bfe3467970a3",
        "IPY_MODEL_9002d030a3f24e9da6792a1356eb59ed",
        "IPY_MODEL_98ab7fcd48ad46a8b298949633412949"
       ],
       "layout": "IPY_MODEL_797b8172a89547c99abf4af5f2bd3279"
      }
     },
     "35f1af65e2f14f3bbc7c50be1d221a0d": {
      "model_module": "@jupyter-widgets/controls",
      "model_module_version": "1.5.0",
      "model_name": "ProgressStyleModel",
      "state": {
       "_model_module": "@jupyter-widgets/controls",
       "_model_module_version": "1.5.0",
       "_model_name": "ProgressStyleModel",
       "_view_count": null,
       "_view_module": "@jupyter-widgets/base",
       "_view_module_version": "1.2.0",
       "_view_name": "StyleView",
       "bar_color": null,
       "description_width": ""
      }
     },
     "367d125c87bb40e1816859b008b071ed": {
      "model_module": "@jupyter-widgets/controls",
      "model_module_version": "1.5.0",
      "model_name": "HTMLModel",
      "state": {
       "_dom_classes": [],
       "_model_module": "@jupyter-widgets/controls",
       "_model_module_version": "1.5.0",
       "_model_name": "HTMLModel",
       "_view_count": null,
       "_view_module": "@jupyter-widgets/controls",
       "_view_module_version": "1.5.0",
       "_view_name": "HTMLView",
       "description": "",
       "description_tooltip": null,
       "layout": "IPY_MODEL_678b047bb62a4eeebe24068c9d5f91d1",
       "placeholder": "​",
       "style": "IPY_MODEL_18dcfbda3583421a9396c2aff862e892",
       "value": "100%"
      }
     },
     "39e74fe6856e456b9615f5ec80999c43": {
      "model_module": "@jupyter-widgets/controls",
      "model_module_version": "1.5.0",
      "model_name": "DescriptionStyleModel",
      "state": {
       "_model_module": "@jupyter-widgets/controls",
       "_model_module_version": "1.5.0",
       "_model_name": "DescriptionStyleModel",
       "_view_count": null,
       "_view_module": "@jupyter-widgets/base",
       "_view_module_version": "1.2.0",
       "_view_name": "StyleView",
       "description_width": ""
      }
     },
     "3aa44e0a22f34cee9c319d7821b958ba": {
      "model_module": "@jupyter-widgets/base",
      "model_module_version": "1.2.0",
      "model_name": "LayoutModel",
      "state": {
       "_model_module": "@jupyter-widgets/base",
       "_model_module_version": "1.2.0",
       "_model_name": "LayoutModel",
       "_view_count": null,
       "_view_module": "@jupyter-widgets/base",
       "_view_module_version": "1.2.0",
       "_view_name": "LayoutView",
       "align_content": null,
       "align_items": null,
       "align_self": null,
       "border": null,
       "bottom": null,
       "display": null,
       "flex": null,
       "flex_flow": null,
       "grid_area": null,
       "grid_auto_columns": null,
       "grid_auto_flow": null,
       "grid_auto_rows": null,
       "grid_column": null,
       "grid_gap": null,
       "grid_row": null,
       "grid_template_areas": null,
       "grid_template_columns": null,
       "grid_template_rows": null,
       "height": null,
       "justify_content": null,
       "justify_items": null,
       "left": null,
       "margin": null,
       "max_height": null,
       "max_width": null,
       "min_height": null,
       "min_width": null,
       "object_fit": null,
       "object_position": null,
       "order": null,
       "overflow": null,
       "overflow_x": null,
       "overflow_y": null,
       "padding": null,
       "right": null,
       "top": null,
       "visibility": null,
       "width": null
      }
     },
     "3b8627093653451ab4611c4af5f91f68": {
      "model_module": "@jupyter-widgets/controls",
      "model_module_version": "1.5.0",
      "model_name": "DescriptionStyleModel",
      "state": {
       "_model_module": "@jupyter-widgets/controls",
       "_model_module_version": "1.5.0",
       "_model_name": "DescriptionStyleModel",
       "_view_count": null,
       "_view_module": "@jupyter-widgets/base",
       "_view_module_version": "1.2.0",
       "_view_name": "StyleView",
       "description_width": ""
      }
     },
     "3e4dd72667c04569a200a7801b4b4aab": {
      "model_module": "@jupyter-widgets/controls",
      "model_module_version": "1.5.0",
      "model_name": "HBoxModel",
      "state": {
       "_dom_classes": [],
       "_model_module": "@jupyter-widgets/controls",
       "_model_module_version": "1.5.0",
       "_model_name": "HBoxModel",
       "_view_count": null,
       "_view_module": "@jupyter-widgets/controls",
       "_view_module_version": "1.5.0",
       "_view_name": "HBoxView",
       "box_style": "",
       "children": [
        "IPY_MODEL_68e3a516859442bd8352f561259e98ee",
        "IPY_MODEL_bdc98a15aba842fc99405d117900f6bc",
        "IPY_MODEL_8da2eb341b824457b5885db718524d1c"
       ],
       "layout": "IPY_MODEL_d351b6574e404f82a8ff78926e3929df"
      }
     },
     "4398900436bf4f6590cc62635205023c": {
      "model_module": "@jupyter-widgets/base",
      "model_module_version": "1.2.0",
      "model_name": "LayoutModel",
      "state": {
       "_model_module": "@jupyter-widgets/base",
       "_model_module_version": "1.2.0",
       "_model_name": "LayoutModel",
       "_view_count": null,
       "_view_module": "@jupyter-widgets/base",
       "_view_module_version": "1.2.0",
       "_view_name": "LayoutView",
       "align_content": null,
       "align_items": null,
       "align_self": null,
       "border": null,
       "bottom": null,
       "display": null,
       "flex": null,
       "flex_flow": null,
       "grid_area": null,
       "grid_auto_columns": null,
       "grid_auto_flow": null,
       "grid_auto_rows": null,
       "grid_column": null,
       "grid_gap": null,
       "grid_row": null,
       "grid_template_areas": null,
       "grid_template_columns": null,
       "grid_template_rows": null,
       "height": null,
       "justify_content": null,
       "justify_items": null,
       "left": null,
       "margin": null,
       "max_height": null,
       "max_width": null,
       "min_height": null,
       "min_width": null,
       "object_fit": null,
       "object_position": null,
       "order": null,
       "overflow": null,
       "overflow_x": null,
       "overflow_y": null,
       "padding": null,
       "right": null,
       "top": null,
       "visibility": null,
       "width": null
      }
     },
     "4b6455d6ca454f1dab4a9e593923f7d9": {
      "model_module": "@jupyter-widgets/controls",
      "model_module_version": "1.5.0",
      "model_name": "HTMLModel",
      "state": {
       "_dom_classes": [],
       "_model_module": "@jupyter-widgets/controls",
       "_model_module_version": "1.5.0",
       "_model_name": "HTMLModel",
       "_view_count": null,
       "_view_module": "@jupyter-widgets/controls",
       "_view_module_version": "1.5.0",
       "_view_name": "HTMLView",
       "description": "",
       "description_tooltip": null,
       "layout": "IPY_MODEL_c254501edb354b15a64c0e549dd8dcef",
       "placeholder": "​",
       "style": "IPY_MODEL_da27688a2af54d41999269bb899e8795",
       "value": "100%"
      }
     },
     "574bf82d66114afcbc206deaeb30ec22": {
      "model_module": "@jupyter-widgets/base",
      "model_module_version": "1.2.0",
      "model_name": "LayoutModel",
      "state": {
       "_model_module": "@jupyter-widgets/base",
       "_model_module_version": "1.2.0",
       "_model_name": "LayoutModel",
       "_view_count": null,
       "_view_module": "@jupyter-widgets/base",
       "_view_module_version": "1.2.0",
       "_view_name": "LayoutView",
       "align_content": null,
       "align_items": null,
       "align_self": null,
       "border": null,
       "bottom": null,
       "display": null,
       "flex": null,
       "flex_flow": null,
       "grid_area": null,
       "grid_auto_columns": null,
       "grid_auto_flow": null,
       "grid_auto_rows": null,
       "grid_column": null,
       "grid_gap": null,
       "grid_row": null,
       "grid_template_areas": null,
       "grid_template_columns": null,
       "grid_template_rows": null,
       "height": null,
       "justify_content": null,
       "justify_items": null,
       "left": null,
       "margin": null,
       "max_height": null,
       "max_width": null,
       "min_height": null,
       "min_width": null,
       "object_fit": null,
       "object_position": null,
       "order": null,
       "overflow": null,
       "overflow_x": null,
       "overflow_y": null,
       "padding": null,
       "right": null,
       "top": null,
       "visibility": null,
       "width": null
      }
     },
     "5781e12ac23b4756be6bac4d63735e0a": {
      "model_module": "@jupyter-widgets/controls",
      "model_module_version": "1.5.0",
      "model_name": "DescriptionStyleModel",
      "state": {
       "_model_module": "@jupyter-widgets/controls",
       "_model_module_version": "1.5.0",
       "_model_name": "DescriptionStyleModel",
       "_view_count": null,
       "_view_module": "@jupyter-widgets/base",
       "_view_module_version": "1.2.0",
       "_view_name": "StyleView",
       "description_width": ""
      }
     },
     "59716fd5c37a447fb694113e9cc1e876": {
      "model_module": "@jupyter-widgets/base",
      "model_module_version": "1.2.0",
      "model_name": "LayoutModel",
      "state": {
       "_model_module": "@jupyter-widgets/base",
       "_model_module_version": "1.2.0",
       "_model_name": "LayoutModel",
       "_view_count": null,
       "_view_module": "@jupyter-widgets/base",
       "_view_module_version": "1.2.0",
       "_view_name": "LayoutView",
       "align_content": null,
       "align_items": null,
       "align_self": null,
       "border": null,
       "bottom": null,
       "display": null,
       "flex": null,
       "flex_flow": null,
       "grid_area": null,
       "grid_auto_columns": null,
       "grid_auto_flow": null,
       "grid_auto_rows": null,
       "grid_column": null,
       "grid_gap": null,
       "grid_row": null,
       "grid_template_areas": null,
       "grid_template_columns": null,
       "grid_template_rows": null,
       "height": null,
       "justify_content": null,
       "justify_items": null,
       "left": null,
       "margin": null,
       "max_height": null,
       "max_width": null,
       "min_height": null,
       "min_width": null,
       "object_fit": null,
       "object_position": null,
       "order": null,
       "overflow": null,
       "overflow_x": null,
       "overflow_y": null,
       "padding": null,
       "right": null,
       "top": null,
       "visibility": null,
       "width": null
      }
     },
     "678b047bb62a4eeebe24068c9d5f91d1": {
      "model_module": "@jupyter-widgets/base",
      "model_module_version": "1.2.0",
      "model_name": "LayoutModel",
      "state": {
       "_model_module": "@jupyter-widgets/base",
       "_model_module_version": "1.2.0",
       "_model_name": "LayoutModel",
       "_view_count": null,
       "_view_module": "@jupyter-widgets/base",
       "_view_module_version": "1.2.0",
       "_view_name": "LayoutView",
       "align_content": null,
       "align_items": null,
       "align_self": null,
       "border": null,
       "bottom": null,
       "display": null,
       "flex": null,
       "flex_flow": null,
       "grid_area": null,
       "grid_auto_columns": null,
       "grid_auto_flow": null,
       "grid_auto_rows": null,
       "grid_column": null,
       "grid_gap": null,
       "grid_row": null,
       "grid_template_areas": null,
       "grid_template_columns": null,
       "grid_template_rows": null,
       "height": null,
       "justify_content": null,
       "justify_items": null,
       "left": null,
       "margin": null,
       "max_height": null,
       "max_width": null,
       "min_height": null,
       "min_width": null,
       "object_fit": null,
       "object_position": null,
       "order": null,
       "overflow": null,
       "overflow_x": null,
       "overflow_y": null,
       "padding": null,
       "right": null,
       "top": null,
       "visibility": null,
       "width": null
      }
     },
     "68e3a516859442bd8352f561259e98ee": {
      "model_module": "@jupyter-widgets/controls",
      "model_module_version": "1.5.0",
      "model_name": "HTMLModel",
      "state": {
       "_dom_classes": [],
       "_model_module": "@jupyter-widgets/controls",
       "_model_module_version": "1.5.0",
       "_model_name": "HTMLModel",
       "_view_count": null,
       "_view_module": "@jupyter-widgets/controls",
       "_view_module_version": "1.5.0",
       "_view_name": "HTMLView",
       "description": "",
       "description_tooltip": null,
       "layout": "IPY_MODEL_9c1b411b17c74f92965814afd9c2c8c5",
       "placeholder": "​",
       "style": "IPY_MODEL_3b8627093653451ab4611c4af5f91f68",
       "value": "100%"
      }
     },
     "6a4a344ae12640ac8e2b53e44672920c": {
      "model_module": "@jupyter-widgets/base",
      "model_module_version": "1.2.0",
      "model_name": "LayoutModel",
      "state": {
       "_model_module": "@jupyter-widgets/base",
       "_model_module_version": "1.2.0",
       "_model_name": "LayoutModel",
       "_view_count": null,
       "_view_module": "@jupyter-widgets/base",
       "_view_module_version": "1.2.0",
       "_view_name": "LayoutView",
       "align_content": null,
       "align_items": null,
       "align_self": null,
       "border": null,
       "bottom": null,
       "display": null,
       "flex": null,
       "flex_flow": null,
       "grid_area": null,
       "grid_auto_columns": null,
       "grid_auto_flow": null,
       "grid_auto_rows": null,
       "grid_column": null,
       "grid_gap": null,
       "grid_row": null,
       "grid_template_areas": null,
       "grid_template_columns": null,
       "grid_template_rows": null,
       "height": null,
       "justify_content": null,
       "justify_items": null,
       "left": null,
       "margin": null,
       "max_height": null,
       "max_width": null,
       "min_height": null,
       "min_width": null,
       "object_fit": null,
       "object_position": null,
       "order": null,
       "overflow": null,
       "overflow_x": null,
       "overflow_y": null,
       "padding": null,
       "right": null,
       "top": null,
       "visibility": null,
       "width": null
      }
     },
     "6d9051c2a9344b7fa08d86d91885c551": {
      "model_module": "@jupyter-widgets/controls",
      "model_module_version": "1.5.0",
      "model_name": "HBoxModel",
      "state": {
       "_dom_classes": [],
       "_model_module": "@jupyter-widgets/controls",
       "_model_module_version": "1.5.0",
       "_model_name": "HBoxModel",
       "_view_count": null,
       "_view_module": "@jupyter-widgets/controls",
       "_view_module_version": "1.5.0",
       "_view_name": "HBoxView",
       "box_style": "",
       "children": [
        "IPY_MODEL_367d125c87bb40e1816859b008b071ed",
        "IPY_MODEL_ec1979c0bd2248a584fc938e717633b2",
        "IPY_MODEL_2ec9d527e81344c2a0049ad08dbfc268"
       ],
       "layout": "IPY_MODEL_f515bf4686e44704bcbaed51d77c828d"
      }
     },
     "6e2b85144e87412a9d0ba4f1ccd75498": {
      "model_module": "@jupyter-widgets/base",
      "model_module_version": "1.2.0",
      "model_name": "LayoutModel",
      "state": {
       "_model_module": "@jupyter-widgets/base",
       "_model_module_version": "1.2.0",
       "_model_name": "LayoutModel",
       "_view_count": null,
       "_view_module": "@jupyter-widgets/base",
       "_view_module_version": "1.2.0",
       "_view_name": "LayoutView",
       "align_content": null,
       "align_items": null,
       "align_self": null,
       "border": null,
       "bottom": null,
       "display": null,
       "flex": null,
       "flex_flow": null,
       "grid_area": null,
       "grid_auto_columns": null,
       "grid_auto_flow": null,
       "grid_auto_rows": null,
       "grid_column": null,
       "grid_gap": null,
       "grid_row": null,
       "grid_template_areas": null,
       "grid_template_columns": null,
       "grid_template_rows": null,
       "height": null,
       "justify_content": null,
       "justify_items": null,
       "left": null,
       "margin": null,
       "max_height": null,
       "max_width": null,
       "min_height": null,
       "min_width": null,
       "object_fit": null,
       "object_position": null,
       "order": null,
       "overflow": null,
       "overflow_x": null,
       "overflow_y": null,
       "padding": null,
       "right": null,
       "top": null,
       "visibility": null,
       "width": null
      }
     },
     "72756ec982e449a2b18150354be61e57": {
      "model_module": "@jupyter-widgets/base",
      "model_module_version": "1.2.0",
      "model_name": "LayoutModel",
      "state": {
       "_model_module": "@jupyter-widgets/base",
       "_model_module_version": "1.2.0",
       "_model_name": "LayoutModel",
       "_view_count": null,
       "_view_module": "@jupyter-widgets/base",
       "_view_module_version": "1.2.0",
       "_view_name": "LayoutView",
       "align_content": null,
       "align_items": null,
       "align_self": null,
       "border": null,
       "bottom": null,
       "display": null,
       "flex": null,
       "flex_flow": null,
       "grid_area": null,
       "grid_auto_columns": null,
       "grid_auto_flow": null,
       "grid_auto_rows": null,
       "grid_column": null,
       "grid_gap": null,
       "grid_row": null,
       "grid_template_areas": null,
       "grid_template_columns": null,
       "grid_template_rows": null,
       "height": null,
       "justify_content": null,
       "justify_items": null,
       "left": null,
       "margin": null,
       "max_height": null,
       "max_width": null,
       "min_height": null,
       "min_width": null,
       "object_fit": null,
       "object_position": null,
       "order": null,
       "overflow": null,
       "overflow_x": null,
       "overflow_y": null,
       "padding": null,
       "right": null,
       "top": null,
       "visibility": null,
       "width": null
      }
     },
     "7418d2684b064b17820d94e0e188e4be": {
      "model_module": "@jupyter-widgets/controls",
      "model_module_version": "1.5.0",
      "model_name": "DescriptionStyleModel",
      "state": {
       "_model_module": "@jupyter-widgets/controls",
       "_model_module_version": "1.5.0",
       "_model_name": "DescriptionStyleModel",
       "_view_count": null,
       "_view_module": "@jupyter-widgets/base",
       "_view_module_version": "1.2.0",
       "_view_name": "StyleView",
       "description_width": ""
      }
     },
     "782915a51e104864880957d62fc148e5": {
      "model_module": "@jupyter-widgets/controls",
      "model_module_version": "1.5.0",
      "model_name": "ProgressStyleModel",
      "state": {
       "_model_module": "@jupyter-widgets/controls",
       "_model_module_version": "1.5.0",
       "_model_name": "ProgressStyleModel",
       "_view_count": null,
       "_view_module": "@jupyter-widgets/base",
       "_view_module_version": "1.2.0",
       "_view_name": "StyleView",
       "bar_color": null,
       "description_width": ""
      }
     },
     "797b8172a89547c99abf4af5f2bd3279": {
      "model_module": "@jupyter-widgets/base",
      "model_module_version": "1.2.0",
      "model_name": "LayoutModel",
      "state": {
       "_model_module": "@jupyter-widgets/base",
       "_model_module_version": "1.2.0",
       "_model_name": "LayoutModel",
       "_view_count": null,
       "_view_module": "@jupyter-widgets/base",
       "_view_module_version": "1.2.0",
       "_view_name": "LayoutView",
       "align_content": null,
       "align_items": null,
       "align_self": null,
       "border": null,
       "bottom": null,
       "display": null,
       "flex": null,
       "flex_flow": null,
       "grid_area": null,
       "grid_auto_columns": null,
       "grid_auto_flow": null,
       "grid_auto_rows": null,
       "grid_column": null,
       "grid_gap": null,
       "grid_row": null,
       "grid_template_areas": null,
       "grid_template_columns": null,
       "grid_template_rows": null,
       "height": null,
       "justify_content": null,
       "justify_items": null,
       "left": null,
       "margin": null,
       "max_height": null,
       "max_width": null,
       "min_height": null,
       "min_width": null,
       "object_fit": null,
       "object_position": null,
       "order": null,
       "overflow": null,
       "overflow_x": null,
       "overflow_y": null,
       "padding": null,
       "right": null,
       "top": null,
       "visibility": null,
       "width": null
      }
     },
     "8500f3f3b74945dfb3dff2275ad7730d": {
      "model_module": "@jupyter-widgets/controls",
      "model_module_version": "1.5.0",
      "model_name": "ProgressStyleModel",
      "state": {
       "_model_module": "@jupyter-widgets/controls",
       "_model_module_version": "1.5.0",
       "_model_name": "ProgressStyleModel",
       "_view_count": null,
       "_view_module": "@jupyter-widgets/base",
       "_view_module_version": "1.2.0",
       "_view_name": "StyleView",
       "bar_color": null,
       "description_width": ""
      }
     },
     "8bccaf104312438392c9bfe3467970a3": {
      "model_module": "@jupyter-widgets/controls",
      "model_module_version": "1.5.0",
      "model_name": "HTMLModel",
      "state": {
       "_dom_classes": [],
       "_model_module": "@jupyter-widgets/controls",
       "_model_module_version": "1.5.0",
       "_model_name": "HTMLModel",
       "_view_count": null,
       "_view_module": "@jupyter-widgets/controls",
       "_view_module_version": "1.5.0",
       "_view_name": "HTMLView",
       "description": "",
       "description_tooltip": null,
       "layout": "IPY_MODEL_72756ec982e449a2b18150354be61e57",
       "placeholder": "​",
       "style": "IPY_MODEL_7418d2684b064b17820d94e0e188e4be",
       "value": "100%"
      }
     },
     "8da2eb341b824457b5885db718524d1c": {
      "model_module": "@jupyter-widgets/controls",
      "model_module_version": "1.5.0",
      "model_name": "HTMLModel",
      "state": {
       "_dom_classes": [],
       "_model_module": "@jupyter-widgets/controls",
       "_model_module_version": "1.5.0",
       "_model_name": "HTMLModel",
       "_view_count": null,
       "_view_module": "@jupyter-widgets/controls",
       "_view_module_version": "1.5.0",
       "_view_name": "HTMLView",
       "description": "",
       "description_tooltip": null,
       "layout": "IPY_MODEL_4398900436bf4f6590cc62635205023c",
       "placeholder": "​",
       "style": "IPY_MODEL_e28e3273f4ed4acb9b1756f45ec4e2d3",
       "value": " 23501/23501 [00:00&lt;00:00, 46560.97it/s]"
      }
     },
     "8de7110210094fd4ae2173b5b516fa82": {
      "model_module": "@jupyter-widgets/base",
      "model_module_version": "1.2.0",
      "model_name": "LayoutModel",
      "state": {
       "_model_module": "@jupyter-widgets/base",
       "_model_module_version": "1.2.0",
       "_model_name": "LayoutModel",
       "_view_count": null,
       "_view_module": "@jupyter-widgets/base",
       "_view_module_version": "1.2.0",
       "_view_name": "LayoutView",
       "align_content": null,
       "align_items": null,
       "align_self": null,
       "border": null,
       "bottom": null,
       "display": null,
       "flex": null,
       "flex_flow": null,
       "grid_area": null,
       "grid_auto_columns": null,
       "grid_auto_flow": null,
       "grid_auto_rows": null,
       "grid_column": null,
       "grid_gap": null,
       "grid_row": null,
       "grid_template_areas": null,
       "grid_template_columns": null,
       "grid_template_rows": null,
       "height": null,
       "justify_content": null,
       "justify_items": null,
       "left": null,
       "margin": null,
       "max_height": null,
       "max_width": null,
       "min_height": null,
       "min_width": null,
       "object_fit": null,
       "object_position": null,
       "order": null,
       "overflow": null,
       "overflow_x": null,
       "overflow_y": null,
       "padding": null,
       "right": null,
       "top": null,
       "visibility": null,
       "width": null
      }
     },
     "9002d030a3f24e9da6792a1356eb59ed": {
      "model_module": "@jupyter-widgets/controls",
      "model_module_version": "1.5.0",
      "model_name": "FloatProgressModel",
      "state": {
       "_dom_classes": [],
       "_model_module": "@jupyter-widgets/controls",
       "_model_module_version": "1.5.0",
       "_model_name": "FloatProgressModel",
       "_view_count": null,
       "_view_module": "@jupyter-widgets/controls",
       "_view_module_version": "1.5.0",
       "_view_name": "ProgressView",
       "bar_style": "success",
       "description": "",
       "description_tooltip": null,
       "layout": "IPY_MODEL_2d951841d9df45e7b944104195230c28",
       "max": 23501,
       "min": 0,
       "orientation": "horizontal",
       "style": "IPY_MODEL_35f1af65e2f14f3bbc7c50be1d221a0d",
       "value": 23501
      }
     },
     "923d41f4d298473681a76ecb8d60df10": {
      "model_module": "@jupyter-widgets/base",
      "model_module_version": "1.2.0",
      "model_name": "LayoutModel",
      "state": {
       "_model_module": "@jupyter-widgets/base",
       "_model_module_version": "1.2.0",
       "_model_name": "LayoutModel",
       "_view_count": null,
       "_view_module": "@jupyter-widgets/base",
       "_view_module_version": "1.2.0",
       "_view_name": "LayoutView",
       "align_content": null,
       "align_items": null,
       "align_self": null,
       "border": null,
       "bottom": null,
       "display": null,
       "flex": null,
       "flex_flow": null,
       "grid_area": null,
       "grid_auto_columns": null,
       "grid_auto_flow": null,
       "grid_auto_rows": null,
       "grid_column": null,
       "grid_gap": null,
       "grid_row": null,
       "grid_template_areas": null,
       "grid_template_columns": null,
       "grid_template_rows": null,
       "height": null,
       "justify_content": null,
       "justify_items": null,
       "left": null,
       "margin": null,
       "max_height": null,
       "max_width": null,
       "min_height": null,
       "min_width": null,
       "object_fit": null,
       "object_position": null,
       "order": null,
       "overflow": null,
       "overflow_x": null,
       "overflow_y": null,
       "padding": null,
       "right": null,
       "top": null,
       "visibility": null,
       "width": null
      }
     },
     "97720c32644a421dae56185ab2848f30": {
      "model_module": "@jupyter-widgets/controls",
      "model_module_version": "1.5.0",
      "model_name": "HBoxModel",
      "state": {
       "_dom_classes": [],
       "_model_module": "@jupyter-widgets/controls",
       "_model_module_version": "1.5.0",
       "_model_name": "HBoxModel",
       "_view_count": null,
       "_view_module": "@jupyter-widgets/controls",
       "_view_module_version": "1.5.0",
       "_view_name": "HBoxView",
       "box_style": "",
       "children": [
        "IPY_MODEL_f3b41f774ee14fd0b18a2a24cb2eb2a8",
        "IPY_MODEL_e646ac5182724d42946d0a3ab9b2b04a",
        "IPY_MODEL_d2696b827bb44a4d81e984c730573f18"
       ],
       "layout": "IPY_MODEL_8de7110210094fd4ae2173b5b516fa82"
      }
     },
     "98675991504b4f6e913e70bd4663c149": {
      "model_module": "@jupyter-widgets/base",
      "model_module_version": "1.2.0",
      "model_name": "LayoutModel",
      "state": {
       "_model_module": "@jupyter-widgets/base",
       "_model_module_version": "1.2.0",
       "_model_name": "LayoutModel",
       "_view_count": null,
       "_view_module": "@jupyter-widgets/base",
       "_view_module_version": "1.2.0",
       "_view_name": "LayoutView",
       "align_content": null,
       "align_items": null,
       "align_self": null,
       "border": null,
       "bottom": null,
       "display": null,
       "flex": null,
       "flex_flow": null,
       "grid_area": null,
       "grid_auto_columns": null,
       "grid_auto_flow": null,
       "grid_auto_rows": null,
       "grid_column": null,
       "grid_gap": null,
       "grid_row": null,
       "grid_template_areas": null,
       "grid_template_columns": null,
       "grid_template_rows": null,
       "height": null,
       "justify_content": null,
       "justify_items": null,
       "left": null,
       "margin": null,
       "max_height": null,
       "max_width": null,
       "min_height": null,
       "min_width": null,
       "object_fit": null,
       "object_position": null,
       "order": null,
       "overflow": null,
       "overflow_x": null,
       "overflow_y": null,
       "padding": null,
       "right": null,
       "top": null,
       "visibility": null,
       "width": null
      }
     },
     "98ab7fcd48ad46a8b298949633412949": {
      "model_module": "@jupyter-widgets/controls",
      "model_module_version": "1.5.0",
      "model_name": "HTMLModel",
      "state": {
       "_dom_classes": [],
       "_model_module": "@jupyter-widgets/controls",
       "_model_module_version": "1.5.0",
       "_model_name": "HTMLModel",
       "_view_count": null,
       "_view_module": "@jupyter-widgets/controls",
       "_view_module_version": "1.5.0",
       "_view_name": "HTMLView",
       "description": "",
       "description_tooltip": null,
       "layout": "IPY_MODEL_574bf82d66114afcbc206deaeb30ec22",
       "placeholder": "​",
       "style": "IPY_MODEL_d85e78b92c3f4abc9863bedf0eef07fc",
       "value": " 23501/23501 [00:00&lt;00:00, 285429.01it/s]"
      }
     },
     "9c1b411b17c74f92965814afd9c2c8c5": {
      "model_module": "@jupyter-widgets/base",
      "model_module_version": "1.2.0",
      "model_name": "LayoutModel",
      "state": {
       "_model_module": "@jupyter-widgets/base",
       "_model_module_version": "1.2.0",
       "_model_name": "LayoutModel",
       "_view_count": null,
       "_view_module": "@jupyter-widgets/base",
       "_view_module_version": "1.2.0",
       "_view_name": "LayoutView",
       "align_content": null,
       "align_items": null,
       "align_self": null,
       "border": null,
       "bottom": null,
       "display": null,
       "flex": null,
       "flex_flow": null,
       "grid_area": null,
       "grid_auto_columns": null,
       "grid_auto_flow": null,
       "grid_auto_rows": null,
       "grid_column": null,
       "grid_gap": null,
       "grid_row": null,
       "grid_template_areas": null,
       "grid_template_columns": null,
       "grid_template_rows": null,
       "height": null,
       "justify_content": null,
       "justify_items": null,
       "left": null,
       "margin": null,
       "max_height": null,
       "max_width": null,
       "min_height": null,
       "min_width": null,
       "object_fit": null,
       "object_position": null,
       "order": null,
       "overflow": null,
       "overflow_x": null,
       "overflow_y": null,
       "padding": null,
       "right": null,
       "top": null,
       "visibility": null,
       "width": null
      }
     },
     "9e524be26dca40028f03149237d8d725": {
      "model_module": "@jupyter-widgets/controls",
      "model_module_version": "1.5.0",
      "model_name": "HTMLModel",
      "state": {
       "_dom_classes": [],
       "_model_module": "@jupyter-widgets/controls",
       "_model_module_version": "1.5.0",
       "_model_name": "HTMLModel",
       "_view_count": null,
       "_view_module": "@jupyter-widgets/controls",
       "_view_module_version": "1.5.0",
       "_view_name": "HTMLView",
       "description": "",
       "description_tooltip": null,
       "layout": "IPY_MODEL_abae2aa99844436b92760be595fc5ce4",
       "placeholder": "​",
       "style": "IPY_MODEL_227d72ab6d3f4d2fafdf45d1e619b8dc",
       "value": " 4919/4919 [00:00&lt;00:00, 101831.53it/s]"
      }
     },
     "a8722a63b97f4e79968bde06ada68ac0": {
      "model_module": "@jupyter-widgets/base",
      "model_module_version": "1.2.0",
      "model_name": "LayoutModel",
      "state": {
       "_model_module": "@jupyter-widgets/base",
       "_model_module_version": "1.2.0",
       "_model_name": "LayoutModel",
       "_view_count": null,
       "_view_module": "@jupyter-widgets/base",
       "_view_module_version": "1.2.0",
       "_view_name": "LayoutView",
       "align_content": null,
       "align_items": null,
       "align_self": null,
       "border": null,
       "bottom": null,
       "display": null,
       "flex": null,
       "flex_flow": null,
       "grid_area": null,
       "grid_auto_columns": null,
       "grid_auto_flow": null,
       "grid_auto_rows": null,
       "grid_column": null,
       "grid_gap": null,
       "grid_row": null,
       "grid_template_areas": null,
       "grid_template_columns": null,
       "grid_template_rows": null,
       "height": null,
       "justify_content": null,
       "justify_items": null,
       "left": null,
       "margin": null,
       "max_height": null,
       "max_width": null,
       "min_height": null,
       "min_width": null,
       "object_fit": null,
       "object_position": null,
       "order": null,
       "overflow": null,
       "overflow_x": null,
       "overflow_y": null,
       "padding": null,
       "right": null,
       "top": null,
       "visibility": null,
       "width": null
      }
     },
     "a95eb0d382974049a296ae0496d3eb7e": {
      "model_module": "@jupyter-widgets/controls",
      "model_module_version": "1.5.0",
      "model_name": "HTMLModel",
      "state": {
       "_dom_classes": [],
       "_model_module": "@jupyter-widgets/controls",
       "_model_module_version": "1.5.0",
       "_model_name": "HTMLModel",
       "_view_count": null,
       "_view_module": "@jupyter-widgets/controls",
       "_view_module_version": "1.5.0",
       "_view_name": "HTMLView",
       "description": "",
       "description_tooltip": null,
       "layout": "IPY_MODEL_98675991504b4f6e913e70bd4663c149",
       "placeholder": "​",
       "style": "IPY_MODEL_b82b410986ce4fa4a02dee45ad9925f8",
       "value": "100%"
      }
     },
     "ab5f6c6b27d040c8bda8dcbdebcdc1d6": {
      "model_module": "@jupyter-widgets/controls",
      "model_module_version": "1.5.0",
      "model_name": "HBoxModel",
      "state": {
       "_dom_classes": [],
       "_model_module": "@jupyter-widgets/controls",
       "_model_module_version": "1.5.0",
       "_model_name": "HBoxModel",
       "_view_count": null,
       "_view_module": "@jupyter-widgets/controls",
       "_view_module_version": "1.5.0",
       "_view_name": "HBoxView",
       "box_style": "",
       "children": [
        "IPY_MODEL_a95eb0d382974049a296ae0496d3eb7e",
        "IPY_MODEL_200e153c91274126a3e61061e40dda8e",
        "IPY_MODEL_acc6e0682951454b92d2a2bfa30050ea"
       ],
       "layout": "IPY_MODEL_a8722a63b97f4e79968bde06ada68ac0"
      }
     },
     "abae2aa99844436b92760be595fc5ce4": {
      "model_module": "@jupyter-widgets/base",
      "model_module_version": "1.2.0",
      "model_name": "LayoutModel",
      "state": {
       "_model_module": "@jupyter-widgets/base",
       "_model_module_version": "1.2.0",
       "_model_name": "LayoutModel",
       "_view_count": null,
       "_view_module": "@jupyter-widgets/base",
       "_view_module_version": "1.2.0",
       "_view_name": "LayoutView",
       "align_content": null,
       "align_items": null,
       "align_self": null,
       "border": null,
       "bottom": null,
       "display": null,
       "flex": null,
       "flex_flow": null,
       "grid_area": null,
       "grid_auto_columns": null,
       "grid_auto_flow": null,
       "grid_auto_rows": null,
       "grid_column": null,
       "grid_gap": null,
       "grid_row": null,
       "grid_template_areas": null,
       "grid_template_columns": null,
       "grid_template_rows": null,
       "height": null,
       "justify_content": null,
       "justify_items": null,
       "left": null,
       "margin": null,
       "max_height": null,
       "max_width": null,
       "min_height": null,
       "min_width": null,
       "object_fit": null,
       "object_position": null,
       "order": null,
       "overflow": null,
       "overflow_x": null,
       "overflow_y": null,
       "padding": null,
       "right": null,
       "top": null,
       "visibility": null,
       "width": null
      }
     },
     "acc6e0682951454b92d2a2bfa30050ea": {
      "model_module": "@jupyter-widgets/controls",
      "model_module_version": "1.5.0",
      "model_name": "HTMLModel",
      "state": {
       "_dom_classes": [],
       "_model_module": "@jupyter-widgets/controls",
       "_model_module_version": "1.5.0",
       "_model_name": "HTMLModel",
       "_view_count": null,
       "_view_module": "@jupyter-widgets/controls",
       "_view_module_version": "1.5.0",
       "_view_name": "HTMLView",
       "description": "",
       "description_tooltip": null,
       "layout": "IPY_MODEL_1b989ed48f2841358284611db9027f5b",
       "placeholder": "​",
       "style": "IPY_MODEL_5781e12ac23b4756be6bac4d63735e0a",
       "value": " 4919/4919 [00:02&lt;00:00, 1917.09it/s]"
      }
     },
     "ae6c8e29433d403cb4d32f0b5e7cc495": {
      "model_module": "@jupyter-widgets/controls",
      "model_module_version": "1.5.0",
      "model_name": "FloatProgressModel",
      "state": {
       "_dom_classes": [],
       "_model_module": "@jupyter-widgets/controls",
       "_model_module_version": "1.5.0",
       "_model_name": "FloatProgressModel",
       "_view_count": null,
       "_view_module": "@jupyter-widgets/controls",
       "_view_module_version": "1.5.0",
       "_view_name": "ProgressView",
       "bar_style": "success",
       "description": "",
       "description_tooltip": null,
       "layout": "IPY_MODEL_6e2b85144e87412a9d0ba4f1ccd75498",
       "max": 4919,
       "min": 0,
       "orientation": "horizontal",
       "style": "IPY_MODEL_782915a51e104864880957d62fc148e5",
       "value": 4919
      }
     },
     "b82b410986ce4fa4a02dee45ad9925f8": {
      "model_module": "@jupyter-widgets/controls",
      "model_module_version": "1.5.0",
      "model_name": "DescriptionStyleModel",
      "state": {
       "_model_module": "@jupyter-widgets/controls",
       "_model_module_version": "1.5.0",
       "_model_name": "DescriptionStyleModel",
       "_view_count": null,
       "_view_module": "@jupyter-widgets/base",
       "_view_module_version": "1.2.0",
       "_view_name": "StyleView",
       "description_width": ""
      }
     },
     "bc061e8ffc7241b98229cb75573a39d7": {
      "model_module": "@jupyter-widgets/controls",
      "model_module_version": "1.5.0",
      "model_name": "HTMLModel",
      "state": {
       "_dom_classes": [],
       "_model_module": "@jupyter-widgets/controls",
       "_model_module_version": "1.5.0",
       "_model_name": "HTMLModel",
       "_view_count": null,
       "_view_module": "@jupyter-widgets/controls",
       "_view_module_version": "1.5.0",
       "_view_name": "HTMLView",
       "description": "",
       "description_tooltip": null,
       "layout": "IPY_MODEL_6a4a344ae12640ac8e2b53e44672920c",
       "placeholder": "​",
       "style": "IPY_MODEL_18994510093d47a8a08cc9bd918db83d",
       "value": " 23501/23501 [00:39&lt;00:00, 663.09it/s]"
      }
     },
     "bdc98a15aba842fc99405d117900f6bc": {
      "model_module": "@jupyter-widgets/controls",
      "model_module_version": "1.5.0",
      "model_name": "FloatProgressModel",
      "state": {
       "_dom_classes": [],
       "_model_module": "@jupyter-widgets/controls",
       "_model_module_version": "1.5.0",
       "_model_name": "FloatProgressModel",
       "_view_count": null,
       "_view_module": "@jupyter-widgets/controls",
       "_view_module_version": "1.5.0",
       "_view_name": "ProgressView",
       "bar_style": "success",
       "description": "",
       "description_tooltip": null,
       "layout": "IPY_MODEL_d88f3e7fbcc349d7b046ebff37c79f09",
       "max": 23501,
       "min": 0,
       "orientation": "horizontal",
       "style": "IPY_MODEL_8500f3f3b74945dfb3dff2275ad7730d",
       "value": 23501
      }
     },
     "c0368dac59ab4a9c87e580cbbe223b4c": {
      "model_module": "@jupyter-widgets/controls",
      "model_module_version": "1.5.0",
      "model_name": "HBoxModel",
      "state": {
       "_dom_classes": [],
       "_model_module": "@jupyter-widgets/controls",
       "_model_module_version": "1.5.0",
       "_model_name": "HBoxModel",
       "_view_count": null,
       "_view_module": "@jupyter-widgets/controls",
       "_view_module_version": "1.5.0",
       "_view_name": "HBoxView",
       "box_style": "",
       "children": [
        "IPY_MODEL_03aef1052b4c44a28f0a12f14fcdffec",
        "IPY_MODEL_ed765b9d627f46e89ffd764ddc9baa48",
        "IPY_MODEL_bc061e8ffc7241b98229cb75573a39d7"
       ],
       "layout": "IPY_MODEL_f44a622972a4401783aff55467e47f46"
      }
     },
     "c254501edb354b15a64c0e549dd8dcef": {
      "model_module": "@jupyter-widgets/base",
      "model_module_version": "1.2.0",
      "model_name": "LayoutModel",
      "state": {
       "_model_module": "@jupyter-widgets/base",
       "_model_module_version": "1.2.0",
       "_model_name": "LayoutModel",
       "_view_count": null,
       "_view_module": "@jupyter-widgets/base",
       "_view_module_version": "1.2.0",
       "_view_name": "LayoutView",
       "align_content": null,
       "align_items": null,
       "align_self": null,
       "border": null,
       "bottom": null,
       "display": null,
       "flex": null,
       "flex_flow": null,
       "grid_area": null,
       "grid_auto_columns": null,
       "grid_auto_flow": null,
       "grid_auto_rows": null,
       "grid_column": null,
       "grid_gap": null,
       "grid_row": null,
       "grid_template_areas": null,
       "grid_template_columns": null,
       "grid_template_rows": null,
       "height": null,
       "justify_content": null,
       "justify_items": null,
       "left": null,
       "margin": null,
       "max_height": null,
       "max_width": null,
       "min_height": null,
       "min_width": null,
       "object_fit": null,
       "object_position": null,
       "order": null,
       "overflow": null,
       "overflow_x": null,
       "overflow_y": null,
       "padding": null,
       "right": null,
       "top": null,
       "visibility": null,
       "width": null
      }
     },
     "d2696b827bb44a4d81e984c730573f18": {
      "model_module": "@jupyter-widgets/controls",
      "model_module_version": "1.5.0",
      "model_name": "HTMLModel",
      "state": {
       "_dom_classes": [],
       "_model_module": "@jupyter-widgets/controls",
       "_model_module_version": "1.5.0",
       "_model_name": "HTMLModel",
       "_view_count": null,
       "_view_module": "@jupyter-widgets/controls",
       "_view_module_version": "1.5.0",
       "_view_name": "HTMLView",
       "description": "",
       "description_tooltip": null,
       "layout": "IPY_MODEL_2939a21adce54bae8154946eaec18378",
       "placeholder": "​",
       "style": "IPY_MODEL_ddd6be7644a542f5bda838c781d472b1",
       "value": " 4919/4919 [00:28&lt;00:00, 173.16it/s]"
      }
     },
     "d351b6574e404f82a8ff78926e3929df": {
      "model_module": "@jupyter-widgets/base",
      "model_module_version": "1.2.0",
      "model_name": "LayoutModel",
      "state": {
       "_model_module": "@jupyter-widgets/base",
       "_model_module_version": "1.2.0",
       "_model_name": "LayoutModel",
       "_view_count": null,
       "_view_module": "@jupyter-widgets/base",
       "_view_module_version": "1.2.0",
       "_view_name": "LayoutView",
       "align_content": null,
       "align_items": null,
       "align_self": null,
       "border": null,
       "bottom": null,
       "display": null,
       "flex": null,
       "flex_flow": null,
       "grid_area": null,
       "grid_auto_columns": null,
       "grid_auto_flow": null,
       "grid_auto_rows": null,
       "grid_column": null,
       "grid_gap": null,
       "grid_row": null,
       "grid_template_areas": null,
       "grid_template_columns": null,
       "grid_template_rows": null,
       "height": null,
       "justify_content": null,
       "justify_items": null,
       "left": null,
       "margin": null,
       "max_height": null,
       "max_width": null,
       "min_height": null,
       "min_width": null,
       "object_fit": null,
       "object_position": null,
       "order": null,
       "overflow": null,
       "overflow_x": null,
       "overflow_y": null,
       "padding": null,
       "right": null,
       "top": null,
       "visibility": null,
       "width": null
      }
     },
     "d85e78b92c3f4abc9863bedf0eef07fc": {
      "model_module": "@jupyter-widgets/controls",
      "model_module_version": "1.5.0",
      "model_name": "DescriptionStyleModel",
      "state": {
       "_model_module": "@jupyter-widgets/controls",
       "_model_module_version": "1.5.0",
       "_model_name": "DescriptionStyleModel",
       "_view_count": null,
       "_view_module": "@jupyter-widgets/base",
       "_view_module_version": "1.2.0",
       "_view_name": "StyleView",
       "description_width": ""
      }
     },
     "d88f3e7fbcc349d7b046ebff37c79f09": {
      "model_module": "@jupyter-widgets/base",
      "model_module_version": "1.2.0",
      "model_name": "LayoutModel",
      "state": {
       "_model_module": "@jupyter-widgets/base",
       "_model_module_version": "1.2.0",
       "_model_name": "LayoutModel",
       "_view_count": null,
       "_view_module": "@jupyter-widgets/base",
       "_view_module_version": "1.2.0",
       "_view_name": "LayoutView",
       "align_content": null,
       "align_items": null,
       "align_self": null,
       "border": null,
       "bottom": null,
       "display": null,
       "flex": null,
       "flex_flow": null,
       "grid_area": null,
       "grid_auto_columns": null,
       "grid_auto_flow": null,
       "grid_auto_rows": null,
       "grid_column": null,
       "grid_gap": null,
       "grid_row": null,
       "grid_template_areas": null,
       "grid_template_columns": null,
       "grid_template_rows": null,
       "height": null,
       "justify_content": null,
       "justify_items": null,
       "left": null,
       "margin": null,
       "max_height": null,
       "max_width": null,
       "min_height": null,
       "min_width": null,
       "object_fit": null,
       "object_position": null,
       "order": null,
       "overflow": null,
       "overflow_x": null,
       "overflow_y": null,
       "padding": null,
       "right": null,
       "top": null,
       "visibility": null,
       "width": null
      }
     },
     "da27688a2af54d41999269bb899e8795": {
      "model_module": "@jupyter-widgets/controls",
      "model_module_version": "1.5.0",
      "model_name": "DescriptionStyleModel",
      "state": {
       "_model_module": "@jupyter-widgets/controls",
       "_model_module_version": "1.5.0",
       "_model_name": "DescriptionStyleModel",
       "_view_count": null,
       "_view_module": "@jupyter-widgets/base",
       "_view_module_version": "1.2.0",
       "_view_name": "StyleView",
       "description_width": ""
      }
     },
     "ddd6be7644a542f5bda838c781d472b1": {
      "model_module": "@jupyter-widgets/controls",
      "model_module_version": "1.5.0",
      "model_name": "DescriptionStyleModel",
      "state": {
       "_model_module": "@jupyter-widgets/controls",
       "_model_module_version": "1.5.0",
       "_model_name": "DescriptionStyleModel",
       "_view_count": null,
       "_view_module": "@jupyter-widgets/base",
       "_view_module_version": "1.2.0",
       "_view_name": "StyleView",
       "description_width": ""
      }
     },
     "dde4893f64a4478892670a1101646a4d": {
      "model_module": "@jupyter-widgets/controls",
      "model_module_version": "1.5.0",
      "model_name": "ProgressStyleModel",
      "state": {
       "_model_module": "@jupyter-widgets/controls",
       "_model_module_version": "1.5.0",
       "_model_name": "ProgressStyleModel",
       "_view_count": null,
       "_view_module": "@jupyter-widgets/base",
       "_view_module_version": "1.2.0",
       "_view_name": "StyleView",
       "bar_color": null,
       "description_width": ""
      }
     },
     "e04ead40873e4c009fe6f93e2bd69f22": {
      "model_module": "@jupyter-widgets/controls",
      "model_module_version": "1.5.0",
      "model_name": "ProgressStyleModel",
      "state": {
       "_model_module": "@jupyter-widgets/controls",
       "_model_module_version": "1.5.0",
       "_model_name": "ProgressStyleModel",
       "_view_count": null,
       "_view_module": "@jupyter-widgets/base",
       "_view_module_version": "1.2.0",
       "_view_name": "StyleView",
       "bar_color": null,
       "description_width": ""
      }
     },
     "e28e3273f4ed4acb9b1756f45ec4e2d3": {
      "model_module": "@jupyter-widgets/controls",
      "model_module_version": "1.5.0",
      "model_name": "DescriptionStyleModel",
      "state": {
       "_model_module": "@jupyter-widgets/controls",
       "_model_module_version": "1.5.0",
       "_model_name": "DescriptionStyleModel",
       "_view_count": null,
       "_view_module": "@jupyter-widgets/base",
       "_view_module_version": "1.2.0",
       "_view_name": "StyleView",
       "description_width": ""
      }
     },
     "e646ac5182724d42946d0a3ab9b2b04a": {
      "model_module": "@jupyter-widgets/controls",
      "model_module_version": "1.5.0",
      "model_name": "FloatProgressModel",
      "state": {
       "_dom_classes": [],
       "_model_module": "@jupyter-widgets/controls",
       "_model_module_version": "1.5.0",
       "_model_name": "FloatProgressModel",
       "_view_count": null,
       "_view_module": "@jupyter-widgets/controls",
       "_view_module_version": "1.5.0",
       "_view_name": "ProgressView",
       "bar_style": "success",
       "description": "",
       "description_tooltip": null,
       "layout": "IPY_MODEL_3aa44e0a22f34cee9c319d7821b958ba",
       "max": 4919,
       "min": 0,
       "orientation": "horizontal",
       "style": "IPY_MODEL_dde4893f64a4478892670a1101646a4d",
       "value": 4919
      }
     },
     "e748b20565374a1ebbc2ba0941100fbd": {
      "model_module": "@jupyter-widgets/base",
      "model_module_version": "1.2.0",
      "model_name": "LayoutModel",
      "state": {
       "_model_module": "@jupyter-widgets/base",
       "_model_module_version": "1.2.0",
       "_model_name": "LayoutModel",
       "_view_count": null,
       "_view_module": "@jupyter-widgets/base",
       "_view_module_version": "1.2.0",
       "_view_name": "LayoutView",
       "align_content": null,
       "align_items": null,
       "align_self": null,
       "border": null,
       "bottom": null,
       "display": null,
       "flex": null,
       "flex_flow": null,
       "grid_area": null,
       "grid_auto_columns": null,
       "grid_auto_flow": null,
       "grid_auto_rows": null,
       "grid_column": null,
       "grid_gap": null,
       "grid_row": null,
       "grid_template_areas": null,
       "grid_template_columns": null,
       "grid_template_rows": null,
       "height": null,
       "justify_content": null,
       "justify_items": null,
       "left": null,
       "margin": null,
       "max_height": null,
       "max_width": null,
       "min_height": null,
       "min_width": null,
       "object_fit": null,
       "object_position": null,
       "order": null,
       "overflow": null,
       "overflow_x": null,
       "overflow_y": null,
       "padding": null,
       "right": null,
       "top": null,
       "visibility": null,
       "width": null
      }
     },
     "ea8c436e89e443b9a8baf1a9b25ac1a6": {
      "model_module": "@jupyter-widgets/base",
      "model_module_version": "1.2.0",
      "model_name": "LayoutModel",
      "state": {
       "_model_module": "@jupyter-widgets/base",
       "_model_module_version": "1.2.0",
       "_model_name": "LayoutModel",
       "_view_count": null,
       "_view_module": "@jupyter-widgets/base",
       "_view_module_version": "1.2.0",
       "_view_name": "LayoutView",
       "align_content": null,
       "align_items": null,
       "align_self": null,
       "border": null,
       "bottom": null,
       "display": null,
       "flex": null,
       "flex_flow": null,
       "grid_area": null,
       "grid_auto_columns": null,
       "grid_auto_flow": null,
       "grid_auto_rows": null,
       "grid_column": null,
       "grid_gap": null,
       "grid_row": null,
       "grid_template_areas": null,
       "grid_template_columns": null,
       "grid_template_rows": null,
       "height": null,
       "justify_content": null,
       "justify_items": null,
       "left": null,
       "margin": null,
       "max_height": null,
       "max_width": null,
       "min_height": null,
       "min_width": null,
       "object_fit": null,
       "object_position": null,
       "order": null,
       "overflow": null,
       "overflow_x": null,
       "overflow_y": null,
       "padding": null,
       "right": null,
       "top": null,
       "visibility": null,
       "width": null
      }
     },
     "ec1979c0bd2248a584fc938e717633b2": {
      "model_module": "@jupyter-widgets/controls",
      "model_module_version": "1.5.0",
      "model_name": "FloatProgressModel",
      "state": {
       "_dom_classes": [],
       "_model_module": "@jupyter-widgets/controls",
       "_model_module_version": "1.5.0",
       "_model_name": "FloatProgressModel",
       "_view_count": null,
       "_view_module": "@jupyter-widgets/controls",
       "_view_module_version": "1.5.0",
       "_view_name": "ProgressView",
       "bar_style": "success",
       "description": "",
       "description_tooltip": null,
       "layout": "IPY_MODEL_1722afcd89614b33955ae47093b8e159",
       "max": 4919,
       "min": 0,
       "orientation": "horizontal",
       "style": "IPY_MODEL_e04ead40873e4c009fe6f93e2bd69f22",
       "value": 4919
      }
     },
     "ed765b9d627f46e89ffd764ddc9baa48": {
      "model_module": "@jupyter-widgets/controls",
      "model_module_version": "1.5.0",
      "model_name": "FloatProgressModel",
      "state": {
       "_dom_classes": [],
       "_model_module": "@jupyter-widgets/controls",
       "_model_module_version": "1.5.0",
       "_model_name": "FloatProgressModel",
       "_view_count": null,
       "_view_module": "@jupyter-widgets/controls",
       "_view_module_version": "1.5.0",
       "_view_name": "ProgressView",
       "bar_style": "success",
       "description": "",
       "description_tooltip": null,
       "layout": "IPY_MODEL_923d41f4d298473681a76ecb8d60df10",
       "max": 23501,
       "min": 0,
       "orientation": "horizontal",
       "style": "IPY_MODEL_0765080e42064eecb3948cffe7020984",
       "value": 23501
      }
     },
     "f08d46a98c2f44eda2f81de0c6d6d9e5": {
      "model_module": "@jupyter-widgets/base",
      "model_module_version": "1.2.0",
      "model_name": "LayoutModel",
      "state": {
       "_model_module": "@jupyter-widgets/base",
       "_model_module_version": "1.2.0",
       "_model_name": "LayoutModel",
       "_view_count": null,
       "_view_module": "@jupyter-widgets/base",
       "_view_module_version": "1.2.0",
       "_view_name": "LayoutView",
       "align_content": null,
       "align_items": null,
       "align_self": null,
       "border": null,
       "bottom": null,
       "display": null,
       "flex": null,
       "flex_flow": null,
       "grid_area": null,
       "grid_auto_columns": null,
       "grid_auto_flow": null,
       "grid_auto_rows": null,
       "grid_column": null,
       "grid_gap": null,
       "grid_row": null,
       "grid_template_areas": null,
       "grid_template_columns": null,
       "grid_template_rows": null,
       "height": null,
       "justify_content": null,
       "justify_items": null,
       "left": null,
       "margin": null,
       "max_height": null,
       "max_width": null,
       "min_height": null,
       "min_width": null,
       "object_fit": null,
       "object_position": null,
       "order": null,
       "overflow": null,
       "overflow_x": null,
       "overflow_y": null,
       "padding": null,
       "right": null,
       "top": null,
       "visibility": null,
       "width": null
      }
     },
     "f3b41f774ee14fd0b18a2a24cb2eb2a8": {
      "model_module": "@jupyter-widgets/controls",
      "model_module_version": "1.5.0",
      "model_name": "HTMLModel",
      "state": {
       "_dom_classes": [],
       "_model_module": "@jupyter-widgets/controls",
       "_model_module_version": "1.5.0",
       "_model_name": "HTMLModel",
       "_view_count": null,
       "_view_module": "@jupyter-widgets/controls",
       "_view_module_version": "1.5.0",
       "_view_name": "HTMLView",
       "description": "",
       "description_tooltip": null,
       "layout": "IPY_MODEL_13d0317c2e8647c9ad42b3850f8acc64",
       "placeholder": "​",
       "style": "IPY_MODEL_2d36f05f2ed6461fb76f3996c390119f",
       "value": "100%"
      }
     },
     "f44a622972a4401783aff55467e47f46": {
      "model_module": "@jupyter-widgets/base",
      "model_module_version": "1.2.0",
      "model_name": "LayoutModel",
      "state": {
       "_model_module": "@jupyter-widgets/base",
       "_model_module_version": "1.2.0",
       "_model_name": "LayoutModel",
       "_view_count": null,
       "_view_module": "@jupyter-widgets/base",
       "_view_module_version": "1.2.0",
       "_view_name": "LayoutView",
       "align_content": null,
       "align_items": null,
       "align_self": null,
       "border": null,
       "bottom": null,
       "display": null,
       "flex": null,
       "flex_flow": null,
       "grid_area": null,
       "grid_auto_columns": null,
       "grid_auto_flow": null,
       "grid_auto_rows": null,
       "grid_column": null,
       "grid_gap": null,
       "grid_row": null,
       "grid_template_areas": null,
       "grid_template_columns": null,
       "grid_template_rows": null,
       "height": null,
       "justify_content": null,
       "justify_items": null,
       "left": null,
       "margin": null,
       "max_height": null,
       "max_width": null,
       "min_height": null,
       "min_width": null,
       "object_fit": null,
       "object_position": null,
       "order": null,
       "overflow": null,
       "overflow_x": null,
       "overflow_y": null,
       "padding": null,
       "right": null,
       "top": null,
       "visibility": null,
       "width": null
      }
     },
     "f515bf4686e44704bcbaed51d77c828d": {
      "model_module": "@jupyter-widgets/base",
      "model_module_version": "1.2.0",
      "model_name": "LayoutModel",
      "state": {
       "_model_module": "@jupyter-widgets/base",
       "_model_module_version": "1.2.0",
       "_model_name": "LayoutModel",
       "_view_count": null,
       "_view_module": "@jupyter-widgets/base",
       "_view_module_version": "1.2.0",
       "_view_name": "LayoutView",
       "align_content": null,
       "align_items": null,
       "align_self": null,
       "border": null,
       "bottom": null,
       "display": null,
       "flex": null,
       "flex_flow": null,
       "grid_area": null,
       "grid_auto_columns": null,
       "grid_auto_flow": null,
       "grid_auto_rows": null,
       "grid_column": null,
       "grid_gap": null,
       "grid_row": null,
       "grid_template_areas": null,
       "grid_template_columns": null,
       "grid_template_rows": null,
       "height": null,
       "justify_content": null,
       "justify_items": null,
       "left": null,
       "margin": null,
       "max_height": null,
       "max_width": null,
       "min_height": null,
       "min_width": null,
       "object_fit": null,
       "object_position": null,
       "order": null,
       "overflow": null,
       "overflow_x": null,
       "overflow_y": null,
       "padding": null,
       "right": null,
       "top": null,
       "visibility": null,
       "width": null
      }
     },
     "f6692244b8a244ccbd250c4be2aa8150": {
      "model_module": "@jupyter-widgets/controls",
      "model_module_version": "1.5.0",
      "model_name": "HBoxModel",
      "state": {
       "_dom_classes": [],
       "_model_module": "@jupyter-widgets/controls",
       "_model_module_version": "1.5.0",
       "_model_name": "HBoxModel",
       "_view_count": null,
       "_view_module": "@jupyter-widgets/controls",
       "_view_module_version": "1.5.0",
       "_view_name": "HBoxView",
       "box_style": "",
       "children": [
        "IPY_MODEL_4b6455d6ca454f1dab4a9e593923f7d9",
        "IPY_MODEL_ae6c8e29433d403cb4d32f0b5e7cc495",
        "IPY_MODEL_9e524be26dca40028f03149237d8d725"
       ],
       "layout": "IPY_MODEL_ea8c436e89e443b9a8baf1a9b25ac1a6"
      }
     }
    },
    "version_major": 2,
    "version_minor": 0
   }
  }
 },
 "nbformat": 4,
 "nbformat_minor": 5
}
